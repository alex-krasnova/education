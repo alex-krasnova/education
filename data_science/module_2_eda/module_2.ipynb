{
 "cells": [
  {
   "cell_type": "code",
   "execution_count": 1,
   "id": "b13a7a82",
   "metadata": {},
   "outputs": [],
   "source": [
    "import pandas as pd\n",
    "import numpy as np\n",
    "from itertools import combinations\n",
    "from scipy.stats import ttest_ind\n",
    "from scipy.stats import pearsonr\n",
    "from scipy.stats import spearmanr\n",
    "from scipy.stats import kendalltau\n",
    "from scipy.stats import normaltest\n",
    "from scipy import stats\n",
    "from scipy.stats import shapiro\n",
    "\n",
    "pd.set_option('display.max_rows', 50) # show more rows\n",
    "pd.set_option('display.max_columns', 50) # show more columns\n",
    "\n",
    "stud_orig = pd.read_csv('stud_math.csv')"
   ]
  },
  {
   "cell_type": "markdown",
   "id": "86ac4172",
   "metadata": {},
   "source": [
    "# Dataset information"
   ]
  },
  {
   "cell_type": "code",
   "execution_count": 2,
   "id": "6639fc20",
   "metadata": {},
   "outputs": [],
   "source": [
    "# Dataset for changes:\n",
    "stud = stud_orig"
   ]
  },
  {
   "cell_type": "code",
   "execution_count": 3,
   "id": "784effa2",
   "metadata": {},
   "outputs": [
    {
     "data": {
      "text/html": [
       "<div>\n",
       "<style scoped>\n",
       "    .dataframe tbody tr th:only-of-type {\n",
       "        vertical-align: middle;\n",
       "    }\n",
       "\n",
       "    .dataframe tbody tr th {\n",
       "        vertical-align: top;\n",
       "    }\n",
       "\n",
       "    .dataframe thead th {\n",
       "        text-align: right;\n",
       "    }\n",
       "</style>\n",
       "<table border=\"1\" class=\"dataframe\">\n",
       "  <thead>\n",
       "    <tr style=\"text-align: right;\">\n",
       "      <th></th>\n",
       "      <th>school</th>\n",
       "      <th>gender</th>\n",
       "      <th>age</th>\n",
       "      <th>address</th>\n",
       "      <th>famsize</th>\n",
       "      <th>pstatus</th>\n",
       "      <th>medu</th>\n",
       "      <th>fedu</th>\n",
       "      <th>mprof</th>\n",
       "      <th>fprof</th>\n",
       "      <th>reason</th>\n",
       "      <th>custodian</th>\n",
       "      <th>traveltime</th>\n",
       "      <th>studytime</th>\n",
       "      <th>failures</th>\n",
       "      <th>schoolsup</th>\n",
       "      <th>famsup</th>\n",
       "      <th>paid</th>\n",
       "      <th>activities</th>\n",
       "      <th>nursery</th>\n",
       "      <th>studytime, granular</th>\n",
       "      <th>higher</th>\n",
       "      <th>internet</th>\n",
       "      <th>romantic</th>\n",
       "      <th>famrel</th>\n",
       "      <th>freetime</th>\n",
       "      <th>goout</th>\n",
       "      <th>health</th>\n",
       "      <th>absences</th>\n",
       "      <th>score</th>\n",
       "    </tr>\n",
       "  </thead>\n",
       "  <tbody>\n",
       "    <tr>\n",
       "      <th>0</th>\n",
       "      <td>GP</td>\n",
       "      <td>F</td>\n",
       "      <td>18</td>\n",
       "      <td>U</td>\n",
       "      <td>NaN</td>\n",
       "      <td>A</td>\n",
       "      <td>4.0</td>\n",
       "      <td>4.0</td>\n",
       "      <td>at_home</td>\n",
       "      <td>teacher</td>\n",
       "      <td>course</td>\n",
       "      <td>mother</td>\n",
       "      <td>2.0</td>\n",
       "      <td>2.0</td>\n",
       "      <td>0.0</td>\n",
       "      <td>yes</td>\n",
       "      <td>no</td>\n",
       "      <td>no</td>\n",
       "      <td>no</td>\n",
       "      <td>yes</td>\n",
       "      <td>-6.0</td>\n",
       "      <td>yes</td>\n",
       "      <td>NaN</td>\n",
       "      <td>no</td>\n",
       "      <td>4.0</td>\n",
       "      <td>3.0</td>\n",
       "      <td>4.0</td>\n",
       "      <td>3.0</td>\n",
       "      <td>6.0</td>\n",
       "      <td>30.0</td>\n",
       "    </tr>\n",
       "    <tr>\n",
       "      <th>1</th>\n",
       "      <td>GP</td>\n",
       "      <td>F</td>\n",
       "      <td>17</td>\n",
       "      <td>U</td>\n",
       "      <td>GT3</td>\n",
       "      <td>NaN</td>\n",
       "      <td>1.0</td>\n",
       "      <td>1.0</td>\n",
       "      <td>at_home</td>\n",
       "      <td>other</td>\n",
       "      <td>course</td>\n",
       "      <td>father</td>\n",
       "      <td>1.0</td>\n",
       "      <td>2.0</td>\n",
       "      <td>0.0</td>\n",
       "      <td>no</td>\n",
       "      <td>yes</td>\n",
       "      <td>no</td>\n",
       "      <td>no</td>\n",
       "      <td>no</td>\n",
       "      <td>-6.0</td>\n",
       "      <td>yes</td>\n",
       "      <td>yes</td>\n",
       "      <td>no</td>\n",
       "      <td>5.0</td>\n",
       "      <td>3.0</td>\n",
       "      <td>3.0</td>\n",
       "      <td>3.0</td>\n",
       "      <td>4.0</td>\n",
       "      <td>30.0</td>\n",
       "    </tr>\n",
       "    <tr>\n",
       "      <th>2</th>\n",
       "      <td>GP</td>\n",
       "      <td>F</td>\n",
       "      <td>15</td>\n",
       "      <td>U</td>\n",
       "      <td>LE3</td>\n",
       "      <td>T</td>\n",
       "      <td>1.0</td>\n",
       "      <td>1.0</td>\n",
       "      <td>at_home</td>\n",
       "      <td>other</td>\n",
       "      <td>other</td>\n",
       "      <td>mother</td>\n",
       "      <td>1.0</td>\n",
       "      <td>2.0</td>\n",
       "      <td>3.0</td>\n",
       "      <td>yes</td>\n",
       "      <td>no</td>\n",
       "      <td>NaN</td>\n",
       "      <td>no</td>\n",
       "      <td>yes</td>\n",
       "      <td>-6.0</td>\n",
       "      <td>yes</td>\n",
       "      <td>yes</td>\n",
       "      <td>NaN</td>\n",
       "      <td>4.0</td>\n",
       "      <td>3.0</td>\n",
       "      <td>2.0</td>\n",
       "      <td>3.0</td>\n",
       "      <td>10.0</td>\n",
       "      <td>50.0</td>\n",
       "    </tr>\n",
       "    <tr>\n",
       "      <th>3</th>\n",
       "      <td>GP</td>\n",
       "      <td>F</td>\n",
       "      <td>15</td>\n",
       "      <td>U</td>\n",
       "      <td>GT3</td>\n",
       "      <td>T</td>\n",
       "      <td>4.0</td>\n",
       "      <td>2.0</td>\n",
       "      <td>health</td>\n",
       "      <td>NaN</td>\n",
       "      <td>home</td>\n",
       "      <td>mother</td>\n",
       "      <td>1.0</td>\n",
       "      <td>3.0</td>\n",
       "      <td>0.0</td>\n",
       "      <td>no</td>\n",
       "      <td>yes</td>\n",
       "      <td>yes</td>\n",
       "      <td>yes</td>\n",
       "      <td>yes</td>\n",
       "      <td>-9.0</td>\n",
       "      <td>yes</td>\n",
       "      <td>yes</td>\n",
       "      <td>yes</td>\n",
       "      <td>3.0</td>\n",
       "      <td>2.0</td>\n",
       "      <td>2.0</td>\n",
       "      <td>5.0</td>\n",
       "      <td>2.0</td>\n",
       "      <td>75.0</td>\n",
       "    </tr>\n",
       "    <tr>\n",
       "      <th>4</th>\n",
       "      <td>GP</td>\n",
       "      <td>F</td>\n",
       "      <td>16</td>\n",
       "      <td>U</td>\n",
       "      <td>GT3</td>\n",
       "      <td>T</td>\n",
       "      <td>3.0</td>\n",
       "      <td>3.0</td>\n",
       "      <td>other</td>\n",
       "      <td>other</td>\n",
       "      <td>home</td>\n",
       "      <td>father</td>\n",
       "      <td>1.0</td>\n",
       "      <td>2.0</td>\n",
       "      <td>0.0</td>\n",
       "      <td>no</td>\n",
       "      <td>yes</td>\n",
       "      <td>yes</td>\n",
       "      <td>no</td>\n",
       "      <td>yes</td>\n",
       "      <td>-6.0</td>\n",
       "      <td>yes</td>\n",
       "      <td>no</td>\n",
       "      <td>no</td>\n",
       "      <td>4.0</td>\n",
       "      <td>3.0</td>\n",
       "      <td>2.0</td>\n",
       "      <td>5.0</td>\n",
       "      <td>4.0</td>\n",
       "      <td>50.0</td>\n",
       "    </tr>\n",
       "    <tr>\n",
       "      <th>5</th>\n",
       "      <td>GP</td>\n",
       "      <td>M</td>\n",
       "      <td>16</td>\n",
       "      <td>U</td>\n",
       "      <td>LE3</td>\n",
       "      <td>T</td>\n",
       "      <td>4.0</td>\n",
       "      <td>3.0</td>\n",
       "      <td>services</td>\n",
       "      <td>other</td>\n",
       "      <td>reputation</td>\n",
       "      <td>mother</td>\n",
       "      <td>1.0</td>\n",
       "      <td>2.0</td>\n",
       "      <td>0.0</td>\n",
       "      <td>no</td>\n",
       "      <td>yes</td>\n",
       "      <td>yes</td>\n",
       "      <td>yes</td>\n",
       "      <td>yes</td>\n",
       "      <td>-6.0</td>\n",
       "      <td>yes</td>\n",
       "      <td>yes</td>\n",
       "      <td>no</td>\n",
       "      <td>5.0</td>\n",
       "      <td>4.0</td>\n",
       "      <td>2.0</td>\n",
       "      <td>5.0</td>\n",
       "      <td>10.0</td>\n",
       "      <td>75.0</td>\n",
       "    </tr>\n",
       "    <tr>\n",
       "      <th>6</th>\n",
       "      <td>GP</td>\n",
       "      <td>M</td>\n",
       "      <td>16</td>\n",
       "      <td>NaN</td>\n",
       "      <td>LE3</td>\n",
       "      <td>T</td>\n",
       "      <td>2.0</td>\n",
       "      <td>2.0</td>\n",
       "      <td>other</td>\n",
       "      <td>other</td>\n",
       "      <td>home</td>\n",
       "      <td>mother</td>\n",
       "      <td>1.0</td>\n",
       "      <td>2.0</td>\n",
       "      <td>0.0</td>\n",
       "      <td>no</td>\n",
       "      <td>no</td>\n",
       "      <td>no</td>\n",
       "      <td>no</td>\n",
       "      <td>yes</td>\n",
       "      <td>-6.0</td>\n",
       "      <td>yes</td>\n",
       "      <td>yes</td>\n",
       "      <td>no</td>\n",
       "      <td>4.0</td>\n",
       "      <td>4.0</td>\n",
       "      <td>4.0</td>\n",
       "      <td>3.0</td>\n",
       "      <td>0.0</td>\n",
       "      <td>55.0</td>\n",
       "    </tr>\n",
       "    <tr>\n",
       "      <th>7</th>\n",
       "      <td>GP</td>\n",
       "      <td>F</td>\n",
       "      <td>17</td>\n",
       "      <td>U</td>\n",
       "      <td>GT3</td>\n",
       "      <td>A</td>\n",
       "      <td>4.0</td>\n",
       "      <td>4.0</td>\n",
       "      <td>other</td>\n",
       "      <td>teacher</td>\n",
       "      <td>home</td>\n",
       "      <td>mother</td>\n",
       "      <td>2.0</td>\n",
       "      <td>2.0</td>\n",
       "      <td>0.0</td>\n",
       "      <td>yes</td>\n",
       "      <td>yes</td>\n",
       "      <td>no</td>\n",
       "      <td>no</td>\n",
       "      <td>yes</td>\n",
       "      <td>-6.0</td>\n",
       "      <td>yes</td>\n",
       "      <td>no</td>\n",
       "      <td>no</td>\n",
       "      <td>4.0</td>\n",
       "      <td>1.0</td>\n",
       "      <td>4.0</td>\n",
       "      <td>1.0</td>\n",
       "      <td>6.0</td>\n",
       "      <td>30.0</td>\n",
       "    </tr>\n",
       "    <tr>\n",
       "      <th>8</th>\n",
       "      <td>GP</td>\n",
       "      <td>M</td>\n",
       "      <td>15</td>\n",
       "      <td>U</td>\n",
       "      <td>LE3</td>\n",
       "      <td>A</td>\n",
       "      <td>3.0</td>\n",
       "      <td>2.0</td>\n",
       "      <td>services</td>\n",
       "      <td>other</td>\n",
       "      <td>home</td>\n",
       "      <td>mother</td>\n",
       "      <td>1.0</td>\n",
       "      <td>2.0</td>\n",
       "      <td>0.0</td>\n",
       "      <td>no</td>\n",
       "      <td>yes</td>\n",
       "      <td>yes</td>\n",
       "      <td>no</td>\n",
       "      <td>yes</td>\n",
       "      <td>-6.0</td>\n",
       "      <td>yes</td>\n",
       "      <td>yes</td>\n",
       "      <td>no</td>\n",
       "      <td>NaN</td>\n",
       "      <td>2.0</td>\n",
       "      <td>2.0</td>\n",
       "      <td>1.0</td>\n",
       "      <td>0.0</td>\n",
       "      <td>95.0</td>\n",
       "    </tr>\n",
       "    <tr>\n",
       "      <th>9</th>\n",
       "      <td>GP</td>\n",
       "      <td>M</td>\n",
       "      <td>15</td>\n",
       "      <td>U</td>\n",
       "      <td>NaN</td>\n",
       "      <td>NaN</td>\n",
       "      <td>3.0</td>\n",
       "      <td>4.0</td>\n",
       "      <td>other</td>\n",
       "      <td>other</td>\n",
       "      <td>home</td>\n",
       "      <td>mother</td>\n",
       "      <td>1.0</td>\n",
       "      <td>2.0</td>\n",
       "      <td>0.0</td>\n",
       "      <td>no</td>\n",
       "      <td>yes</td>\n",
       "      <td>yes</td>\n",
       "      <td>yes</td>\n",
       "      <td>yes</td>\n",
       "      <td>-6.0</td>\n",
       "      <td>yes</td>\n",
       "      <td>yes</td>\n",
       "      <td>no</td>\n",
       "      <td>5.0</td>\n",
       "      <td>5.0</td>\n",
       "      <td>1.0</td>\n",
       "      <td>5.0</td>\n",
       "      <td>0.0</td>\n",
       "      <td>75.0</td>\n",
       "    </tr>\n",
       "  </tbody>\n",
       "</table>\n",
       "</div>"
      ],
      "text/plain": [
       "  school gender  age address famsize pstatus  medu  fedu     mprof    fprof  \\\n",
       "0     GP      F   18       U     NaN       A   4.0   4.0   at_home  teacher   \n",
       "1     GP      F   17       U     GT3     NaN   1.0   1.0   at_home    other   \n",
       "2     GP      F   15       U     LE3       T   1.0   1.0   at_home    other   \n",
       "3     GP      F   15       U     GT3       T   4.0   2.0    health      NaN   \n",
       "4     GP      F   16       U     GT3       T   3.0   3.0     other    other   \n",
       "5     GP      M   16       U     LE3       T   4.0   3.0  services    other   \n",
       "6     GP      M   16     NaN     LE3       T   2.0   2.0     other    other   \n",
       "7     GP      F   17       U     GT3       A   4.0   4.0     other  teacher   \n",
       "8     GP      M   15       U     LE3       A   3.0   2.0  services    other   \n",
       "9     GP      M   15       U     NaN     NaN   3.0   4.0     other    other   \n",
       "\n",
       "       reason custodian  traveltime  studytime  failures schoolsup famsup  \\\n",
       "0      course    mother         2.0        2.0       0.0       yes     no   \n",
       "1      course    father         1.0        2.0       0.0        no    yes   \n",
       "2       other    mother         1.0        2.0       3.0       yes     no   \n",
       "3        home    mother         1.0        3.0       0.0        no    yes   \n",
       "4        home    father         1.0        2.0       0.0        no    yes   \n",
       "5  reputation    mother         1.0        2.0       0.0        no    yes   \n",
       "6        home    mother         1.0        2.0       0.0        no     no   \n",
       "7        home    mother         2.0        2.0       0.0       yes    yes   \n",
       "8        home    mother         1.0        2.0       0.0        no    yes   \n",
       "9        home    mother         1.0        2.0       0.0        no    yes   \n",
       "\n",
       "  paid activities nursery  studytime, granular higher internet romantic  \\\n",
       "0   no         no     yes                 -6.0    yes      NaN       no   \n",
       "1   no         no      no                 -6.0    yes      yes       no   \n",
       "2  NaN         no     yes                 -6.0    yes      yes      NaN   \n",
       "3  yes        yes     yes                 -9.0    yes      yes      yes   \n",
       "4  yes         no     yes                 -6.0    yes       no       no   \n",
       "5  yes        yes     yes                 -6.0    yes      yes       no   \n",
       "6   no         no     yes                 -6.0    yes      yes       no   \n",
       "7   no         no     yes                 -6.0    yes       no       no   \n",
       "8  yes         no     yes                 -6.0    yes      yes       no   \n",
       "9  yes        yes     yes                 -6.0    yes      yes       no   \n",
       "\n",
       "   famrel  freetime  goout  health  absences  score  \n",
       "0     4.0       3.0    4.0     3.0       6.0   30.0  \n",
       "1     5.0       3.0    3.0     3.0       4.0   30.0  \n",
       "2     4.0       3.0    2.0     3.0      10.0   50.0  \n",
       "3     3.0       2.0    2.0     5.0       2.0   75.0  \n",
       "4     4.0       3.0    2.0     5.0       4.0   50.0  \n",
       "5     5.0       4.0    2.0     5.0      10.0   75.0  \n",
       "6     4.0       4.0    4.0     3.0       0.0   55.0  \n",
       "7     4.0       1.0    4.0     1.0       6.0   30.0  \n",
       "8     NaN       2.0    2.0     1.0       0.0   95.0  \n",
       "9     5.0       5.0    1.0     5.0       0.0   75.0  "
      ]
     },
     "metadata": {},
     "output_type": "display_data"
    }
   ],
   "source": [
    "# Rows information:\n",
    "display(stud.head(10))"
   ]
  },
  {
   "cell_type": "code",
   "execution_count": 4,
   "id": "d74901b7",
   "metadata": {},
   "outputs": [
    {
     "name": "stdout",
     "output_type": "stream",
     "text": [
      "<class 'pandas.core.frame.DataFrame'>\n",
      "RangeIndex: 395 entries, 0 to 394\n",
      "Data columns (total 30 columns):\n",
      " #   Column               Non-Null Count  Dtype  \n",
      "---  ------               --------------  -----  \n",
      " 0   school               395 non-null    object \n",
      " 1   gender               395 non-null    object \n",
      " 2   age                  395 non-null    int64  \n",
      " 3   address              378 non-null    object \n",
      " 4   famsize              368 non-null    object \n",
      " 5   pstatus              350 non-null    object \n",
      " 6   medu                 392 non-null    float64\n",
      " 7   fedu                 371 non-null    float64\n",
      " 8   mprof                376 non-null    object \n",
      " 9   fprof                359 non-null    object \n",
      " 10  reason               378 non-null    object \n",
      " 11  custodian            364 non-null    object \n",
      " 12  traveltime           367 non-null    float64\n",
      " 13  studytime            388 non-null    float64\n",
      " 14  failures             373 non-null    float64\n",
      " 15  schoolsup            386 non-null    object \n",
      " 16  famsup               356 non-null    object \n",
      " 17  paid                 355 non-null    object \n",
      " 18  activities           381 non-null    object \n",
      " 19  nursery              379 non-null    object \n",
      " 20  studytime, granular  388 non-null    float64\n",
      " 21  higher               375 non-null    object \n",
      " 22  internet             361 non-null    object \n",
      " 23  romantic             364 non-null    object \n",
      " 24  famrel               368 non-null    float64\n",
      " 25  freetime             384 non-null    float64\n",
      " 26  goout                387 non-null    float64\n",
      " 27  health               380 non-null    float64\n",
      " 28  absences             383 non-null    float64\n",
      " 29  score                389 non-null    float64\n",
      "dtypes: float64(12), int64(1), object(17)\n",
      "memory usage: 92.7+ KB\n"
     ]
    }
   ],
   "source": [
    "# Columns information:\n",
    "stud.info() "
   ]
  },
  {
   "cell_type": "markdown",
   "id": "8dac3be7",
   "metadata": {},
   "source": [
    "# Initial data processing and initial data validations"
   ]
  },
  {
   "cell_type": "code",
   "execution_count": 5,
   "id": "6e8e4ac3",
   "metadata": {},
   "outputs": [],
   "source": [
    "# Rename the column 'studytime, granular':\n",
    "stud.rename(columns={'studytime, granular': 'studytime_granular',}, inplace=True)"
   ]
  },
  {
   "cell_type": "code",
   "execution_count": 6,
   "id": "15de9cdf",
   "metadata": {},
   "outputs": [
    {
     "data": {
      "text/plain": [
       "Index(['school', 'gender', 'age', 'address', 'famsize', 'pstatus', 'medu',\n",
       "       'fedu', 'mprof', 'fprof', 'reason', 'custodian', 'traveltime',\n",
       "       'studytime', 'failures', 'schoolsup', 'famsup', 'paid', 'activities',\n",
       "       'nursery', 'studytime_granular', 'higher', 'internet', 'romantic',\n",
       "       'famrel', 'freetime', 'goout', 'health', 'absences', 'score'],\n",
       "      dtype='object')"
      ]
     },
     "execution_count": 6,
     "metadata": {},
     "output_type": "execute_result"
    }
   ],
   "source": [
    "# Show the columns names:\n",
    "stud.columns"
   ]
  },
  {
   "cell_type": "code",
   "execution_count": 7,
   "id": "7a59e9a9",
   "metadata": {},
   "outputs": [],
   "source": [
    "# Function for viewing data in a column:\n",
    "def review_col_info(df, col, is_num=False, is_head=False):\n",
    "    # unique values and number of rows for each of them:\n",
    "    display_info = pd.DataFrame(df[col].value_counts())\n",
    "    if is_head:\n",
    "        display(display_info.head(10))\n",
    "    else:\n",
    "        display(display_info)\n",
    "    # number of unique values in a column:\n",
    "    cnt_uniq = df[col].nunique()\n",
    "    print('Column {cl}: found {cnt} unique values'.format(cl = col, cnt = cnt_uniq))\n",
    "    # the number of empty values in the column:\n",
    "    cnt_null = len(df[pd.isnull(df[col]) == True][col])\n",
    "    print('Column {cl}: found {cnt} null values'.format(cl = col, cnt = cnt_null))\n",
    "    if is_num:\n",
    "        # Finding the minimum, average, maximum, deviation, quantity, quantiles:\n",
    "        display(stud[col].describe())\n",
    "\n",
    "        \n",
    "# Function to check if values match a list of values - for columns yes/no, F/M, etc.:\n",
    "def check_enum(df, col, values_list):\n",
    "    if None not in values_list:\n",
    "        values_list.append(None)\n",
    "    error_list = []\n",
    "    for x in df[col]:\n",
    "        if x not in values_list:\n",
    "            if x not in error_list:\n",
    "                error_list.append(x)\n",
    "    if error_list:\n",
    "        print('Column {cl}: found incorrect values {er_lst} that do not match the list {cr_lst}'\n",
    "              .format(cl = col, er_lst = error_list, cr_lst = values_list))\n",
    "    else:\n",
    "        print('Column {cl}: all values are correct and match the list {cr_lst}'.format(cl = col, cr_lst = values_list))\n",
    "\n",
    "        \n",
    "# Function to replace \"\" to None:\n",
    "def replace_to_none(df, col):\n",
    "    df[col] = df[col].apply(lambda x: None if (pd.isnull(x) or x.lower() == 'nan') else x)       \n",
    "\n",
    "    \n",
    "# Function to add a column to the list to remove:\n",
    "drop_list = []\n",
    "def drop(col):\n",
    "    if col not in drop_list:\n",
    "        drop_list.append(col)\n",
    "\n",
    "        \n",
    "# Function to get outliers by column:\n",
    "def get_outlier(df, col):\n",
    "    Q3 = pd.DataFrame.quantile(df, q=0.75, axis=0, numeric_only=True, interpolation='midpoint')[col]\n",
    "    Q1 = pd.DataFrame.quantile(df, q=0.25, axis=0, numeric_only=True, interpolation='midpoint')[col]\n",
    "    IQR = round(Q3-Q1,1)\n",
    "    return df[~df[col].between(Q1 - 1.5*IQR, Q3 + 1.5*IQR)][col]\n",
    "\n",
    "\n",
    "# Function to calculate pairwise p_value with multiple column value.\n",
    "# Can be called with one of 2 options: \n",
    "# using scipy.stats.ttest_ind - calculate the Student's T-test for the means of two independent samples of scores.\n",
    "# using scipy.stats.mannwhitneyu - perform the Mann-Whitney U rank test on two independent samples.\n",
    "def get_stat_dif(df, col, col_num, gauss):\n",
    "    \n",
    "    p_list =[]\n",
    "    res = '' \n",
    "    \n",
    "    cols = df.loc[:, col].value_counts().index\n",
    "    combinations_all = list(combinations(cols, 2))\n",
    "    conv = 0.05 / len(combinations_all) # threshold significance level with Bonferroni correction\n",
    "    \n",
    "    for comb in combinations_all:\n",
    "        if gauss:\n",
    "            p_value = ttest_ind(df.loc[df.loc[:, col] == comb[0], col_num], \n",
    "                     df.loc[df.loc[:, col] == comb[1], col_num]).pvalue\n",
    "        else:\n",
    "            p_value = stats.mannwhitneyu(df.loc[df.loc[:, col] == comb[0], col_num],\n",
    "                     df.loc[df.loc[:, col] == comb[1], col_num]).pvalue\n",
    "        \n",
    "        p_list.append(p_value)\n",
    "        \n",
    "        if p_value < conv:\n",
    "            res = ' there is significance: for ' + str(comb) + ' p_value = ' + str(p_value)\n",
    "            break\n",
    "            \n",
    "    if res == '':\n",
    "        res = ' no significance: min(p_value) = ' + str(min(p_list))\n",
    "    \n",
    "    if gauss:\n",
    "        res = 'For threshold ' + str(conv) + ' by Student\\'s criterion' + res\n",
    "    else:\n",
    "        res = 'For threshold ' + str(conv) + ' by Mann-Whitney\\'s criterion' + res\n",
    "    \n",
    "    return res"
   ]
  },
  {
   "cell_type": "code",
   "execution_count": 8,
   "id": "9e3e7176",
   "metadata": {},
   "outputs": [],
   "source": [
    "# List of string columns:\n",
    "str_col_list = ['school', 'gender', 'address', 'famsize', 'pstatus', 'mprof', 'fprof', 'reason', 'custodian', 'schoolsup', \n",
    "                'famsup', 'paid', 'activities', 'nursery', 'higher', 'internet', 'romantic']\n"
   ]
  },
  {
   "cell_type": "code",
   "execution_count": 9,
   "id": "5fea0341",
   "metadata": {},
   "outputs": [],
   "source": [
    "# Replacing empty values with None in string columns:\n",
    "for col in str_col_list:\n",
    "    replace_to_none(stud, col)"
   ]
  },
  {
   "cell_type": "code",
   "execution_count": 10,
   "id": "38c21c11",
   "metadata": {},
   "outputs": [
    {
     "name": "stdout",
     "output_type": "stream",
     "text": [
      "Column gender: all values are correct and match the list ['F', 'M', None]\n",
      "Column address: all values are correct and match the list ['U', 'R', None]\n",
      "Column famsize: all values are correct and match the list ['LE3', 'GT3', None]\n",
      "Column pstatus: all values are correct and match the list ['T', 'A', None]\n",
      "Column mprof: all values are correct and match the list ['teacher', 'health', 'services', 'at_home', 'other', None]\n",
      "Column fprof: all values are correct and match the list ['teacher', 'health', 'services', 'at_home', 'other', None]\n",
      "Column reason: all values are correct and match the list ['home', 'reputation', 'course', 'other', None]\n",
      "Column custodian: all values are correct and match the list ['mother', 'father', 'other', None]\n",
      "Column schoolsup: all values are correct and match the list ['yes', 'no', None]\n",
      "Column famsup: all values are correct and match the list ['yes', 'no', None]\n",
      "Column paid: all values are correct and match the list ['yes', 'no', None]\n",
      "Column activities: all values are correct and match the list ['yes', 'no', None]\n",
      "Column nursery: all values are correct and match the list ['yes', 'no', None]\n",
      "Column higher: all values are correct and match the list ['yes', 'no', None]\n",
      "Column internet: all values are correct and match the list ['yes', 'no', None]\n",
      "Column romantic: all values are correct and match the list ['yes', 'no', None]\n"
     ]
    }
   ],
   "source": [
    "# Checking whether the data in the string tables matches the list of values:\n",
    "\n",
    "# Check gender column values:\n",
    "values_list = ['F', 'M']\n",
    "check_enum(stud, 'gender', values_list)\n",
    "\n",
    "# Check address column values:\n",
    "values_list = ['U', 'R']\n",
    "check_enum(stud, 'address', values_list)\n",
    "\n",
    "# Check famsize column values:\n",
    "values_list = ['LE3', 'GT3']\n",
    "check_enum(stud, 'famsize', values_list)\n",
    "\n",
    "# Check pstatus column values:\n",
    "values_list = ['T', 'A']\n",
    "check_enum(stud, 'pstatus', values_list)\n",
    "\n",
    "# Check mprof and fprof columns values:\n",
    "columns = ['mprof', 'fprof']\n",
    "values_list = ['teacher', 'health', 'services', 'at_home', 'other']\n",
    "for column in columns:\n",
    "    check_enum(stud, column, values_list)\n",
    "    \n",
    "# Check reason column values:\n",
    "values_list = ['home', 'reputation', 'course', 'other']\n",
    "check_enum(stud, 'reason', values_list)\n",
    "\n",
    "# Check custodian column values:\n",
    "values_list = ['mother', 'father', 'other']\n",
    "check_enum(stud, 'custodian', values_list)\n",
    "\n",
    "# Check columns with 'yes' or 'no' values:\n",
    "columns = ['schoolsup', 'famsup', 'paid', 'activities', 'nursery', 'higher', 'internet', 'romantic']\n",
    "values_list = ['yes', 'no']\n",
    "for column in columns:\n",
    "    check_enum(stud, column, values_list)"
   ]
  },
  {
   "cell_type": "markdown",
   "id": "19c39cbb",
   "metadata": {},
   "source": [
    "Primary validation and conversion completed. All values are correct. Next, each column will be analyzed separately."
   ]
  },
  {
   "cell_type": "markdown",
   "id": "ff6b21e5",
   "metadata": {},
   "source": [
    "# Analysis of the 'score' column\n",
    "Scores on the state exam in mathematics."
   ]
  },
  {
   "cell_type": "code",
   "execution_count": 11,
   "id": "d595a9af",
   "metadata": {},
   "outputs": [
    {
     "data": {
      "text/html": [
       "<div>\n",
       "<style scoped>\n",
       "    .dataframe tbody tr th:only-of-type {\n",
       "        vertical-align: middle;\n",
       "    }\n",
       "\n",
       "    .dataframe tbody tr th {\n",
       "        vertical-align: top;\n",
       "    }\n",
       "\n",
       "    .dataframe thead th {\n",
       "        text-align: right;\n",
       "    }\n",
       "</style>\n",
       "<table border=\"1\" class=\"dataframe\">\n",
       "  <thead>\n",
       "    <tr style=\"text-align: right;\">\n",
       "      <th></th>\n",
       "      <th>score</th>\n",
       "    </tr>\n",
       "  </thead>\n",
       "  <tbody>\n",
       "    <tr>\n",
       "      <th>50.0</th>\n",
       "      <td>54</td>\n",
       "    </tr>\n",
       "    <tr>\n",
       "      <th>55.0</th>\n",
       "      <td>46</td>\n",
       "    </tr>\n",
       "    <tr>\n",
       "      <th>0.0</th>\n",
       "      <td>37</td>\n",
       "    </tr>\n",
       "    <tr>\n",
       "      <th>75.0</th>\n",
       "      <td>33</td>\n",
       "    </tr>\n",
       "    <tr>\n",
       "      <th>65.0</th>\n",
       "      <td>31</td>\n",
       "    </tr>\n",
       "    <tr>\n",
       "      <th>60.0</th>\n",
       "      <td>31</td>\n",
       "    </tr>\n",
       "    <tr>\n",
       "      <th>40.0</th>\n",
       "      <td>31</td>\n",
       "    </tr>\n",
       "    <tr>\n",
       "      <th>45.0</th>\n",
       "      <td>27</td>\n",
       "    </tr>\n",
       "    <tr>\n",
       "      <th>70.0</th>\n",
       "      <td>27</td>\n",
       "    </tr>\n",
       "    <tr>\n",
       "      <th>80.0</th>\n",
       "      <td>16</td>\n",
       "    </tr>\n",
       "    <tr>\n",
       "      <th>30.0</th>\n",
       "      <td>15</td>\n",
       "    </tr>\n",
       "    <tr>\n",
       "      <th>90.0</th>\n",
       "      <td>12</td>\n",
       "    </tr>\n",
       "    <tr>\n",
       "      <th>35.0</th>\n",
       "      <td>9</td>\n",
       "    </tr>\n",
       "    <tr>\n",
       "      <th>25.0</th>\n",
       "      <td>7</td>\n",
       "    </tr>\n",
       "    <tr>\n",
       "      <th>85.0</th>\n",
       "      <td>6</td>\n",
       "    </tr>\n",
       "    <tr>\n",
       "      <th>95.0</th>\n",
       "      <td>5</td>\n",
       "    </tr>\n",
       "    <tr>\n",
       "      <th>100.0</th>\n",
       "      <td>1</td>\n",
       "    </tr>\n",
       "    <tr>\n",
       "      <th>20.0</th>\n",
       "      <td>1</td>\n",
       "    </tr>\n",
       "  </tbody>\n",
       "</table>\n",
       "</div>"
      ],
      "text/plain": [
       "       score\n",
       "50.0      54\n",
       "55.0      46\n",
       "0.0       37\n",
       "75.0      33\n",
       "65.0      31\n",
       "60.0      31\n",
       "40.0      31\n",
       "45.0      27\n",
       "70.0      27\n",
       "80.0      16\n",
       "30.0      15\n",
       "90.0      12\n",
       "35.0       9\n",
       "25.0       7\n",
       "85.0       6\n",
       "95.0       5\n",
       "100.0      1\n",
       "20.0       1"
      ]
     },
     "metadata": {},
     "output_type": "display_data"
    },
    {
     "name": "stdout",
     "output_type": "stream",
     "text": [
      "Column score: found 18 unique values\n",
      "Column score: found 6 null values\n"
     ]
    },
    {
     "data": {
      "text/plain": [
       "count    389.000000\n",
       "mean      52.262211\n",
       "std       22.919022\n",
       "min        0.000000\n",
       "25%       40.000000\n",
       "50%       55.000000\n",
       "75%       70.000000\n",
       "max      100.000000\n",
       "Name: score, dtype: float64"
      ]
     },
     "metadata": {},
     "output_type": "display_data"
    }
   ],
   "source": [
    "# Score is the main object of research, it must be analyzed first:\n",
    "review_col_info(stud, 'score', True)"
   ]
  },
  {
   "cell_type": "code",
   "execution_count": 12,
   "id": "5571fc45",
   "metadata": {},
   "outputs": [],
   "source": [
    "# Remove the rows with empty ratings from the working dataset, because they are not informative:\n",
    "stud = stud[~pd.isnull(stud.score)]"
   ]
  },
  {
   "cell_type": "code",
   "execution_count": 13,
   "id": "dac3dbc0",
   "metadata": {},
   "outputs": [
    {
     "data": {
      "text/plain": [
       "<AxesSubplot:>"
      ]
     },
     "execution_count": 13,
     "metadata": {},
     "output_type": "execute_result"
    },
    {
     "data": {
      "image/png": "[encoded data removed]",
      "text/plain": [
       "<Figure size 432x288 with 1 Axes>"
      ]
     },
     "metadata": {
      "needs_background": "light"
     },
     "output_type": "display_data"
    }
   ],
   "source": [
    "# Distribution histogram of scores:\n",
    "stud.score.hist(bins=16)"
   ]
  },
  {
   "cell_type": "markdown",
   "id": "b6ddfcf4",
   "metadata": {},
   "source": [
    "The scores are distributed more or less normally, except for zero scores."
   ]
  },
  {
   "cell_type": "code",
   "execution_count": 14,
   "id": "c6fc37fc",
   "metadata": {},
   "outputs": [],
   "source": [
    "# Exclude zero scores from the working dataset, because they are not included in the normal distribution:\n",
    "stud = stud[stud.score > 0]"
   ]
  },
  {
   "cell_type": "code",
   "execution_count": 15,
   "id": "59faca64",
   "metadata": {},
   "outputs": [
    {
     "name": "stdout",
     "output_type": "stream",
     "text": [
      "Count of outliers: 0\n"
     ]
    },
    {
     "data": {
      "text/plain": [
       "Series([], Name: score, dtype: float64)"
      ]
     },
     "metadata": {},
     "output_type": "display_data"
    }
   ],
   "source": [
    "# Check outliers:\n",
    "outliers = get_outlier(stud, 'score')\n",
    "print('Count of outliers: {}'.format(outliers.count()))\n",
    "display(outliers)"
   ]
  },
  {
   "cell_type": "markdown",
   "id": "7f50c20a",
   "metadata": {},
   "source": [
    "There are no outliers."
   ]
  },
  {
   "cell_type": "markdown",
   "id": "6cd12265",
   "metadata": {},
   "source": [
    "Check for the normality of the distribution with the assumption of 0.05.<br>\n",
    "For tests used methods:<br>\n",
    "scipy.stats.shapiro - the Shapiro-Wilk test tests the null hypothesis that the data was drawn from a normal distribution.<br>\n",
    "scipy.stats.normaltest - this function tests the null hypothesis that a sample comes from a normal distribution. It is based on D’Agostino and Pearson’s test that combines skew and kurtosis to produce an omnibus test of normality."
   ]
  },
  {
   "cell_type": "code",
   "execution_count": 16,
   "id": "b156471c",
   "metadata": {},
   "outputs": [
    {
     "name": "stdout",
     "output_type": "stream",
     "text": [
      "shapiro p_value= 0.0001710323995212093\n",
      "By shapiro: distribution is not normal\n",
      "normaltest p_value= 0.051812401238085656\n",
      "By normaltest: distribution is normal\n"
     ]
    }
   ],
   "source": [
    "# Set the assumption of 0.05:\n",
    "alpha = 0.05\n",
    "\n",
    "# shapiro test:\n",
    "u, p_value = shapiro(stud.score)\n",
    "print('shapiro p_value=', p_value)\n",
    "if p_value > alpha:\n",
    "    print('By shapiro: distribution is normal')\n",
    "else:\n",
    "    print('By shapiro: distribution is not normal')\n",
    "\n",
    "# normaltest:\n",
    "u, p_value = normaltest(stud.score)\n",
    "print('normaltest p_value=', p_value)\n",
    "if p_value > alpha:\n",
    "    print('By normaltest: distribution is normal')\n",
    "else:\n",
    "    print('By normaltest: distribution is not normal')"
   ]
  },
  {
   "cell_type": "markdown",
   "id": "516caaeb",
   "metadata": {},
   "source": [
    "The distribution is almost normal. Most likely, zero scores are lost data."
   ]
  },
  {
   "cell_type": "markdown",
   "id": "b08c80f9",
   "metadata": {},
   "source": [
    "# Correlation of numeric columns"
   ]
  },
  {
   "cell_type": "code",
   "execution_count": 17,
   "id": "edaedf1c",
   "metadata": {},
   "outputs": [
    {
     "data": {
      "text/html": [
       "<div>\n",
       "<style scoped>\n",
       "    .dataframe tbody tr th:only-of-type {\n",
       "        vertical-align: middle;\n",
       "    }\n",
       "\n",
       "    .dataframe tbody tr th {\n",
       "        vertical-align: top;\n",
       "    }\n",
       "\n",
       "    .dataframe thead th {\n",
       "        text-align: right;\n",
       "    }\n",
       "</style>\n",
       "<table border=\"1\" class=\"dataframe\">\n",
       "  <thead>\n",
       "    <tr style=\"text-align: right;\">\n",
       "      <th></th>\n",
       "      <th>age</th>\n",
       "      <th>medu</th>\n",
       "      <th>fedu</th>\n",
       "      <th>traveltime</th>\n",
       "      <th>studytime</th>\n",
       "      <th>failures</th>\n",
       "      <th>studytime_granular</th>\n",
       "      <th>famrel</th>\n",
       "      <th>freetime</th>\n",
       "      <th>goout</th>\n",
       "      <th>health</th>\n",
       "      <th>absences</th>\n",
       "      <th>score</th>\n",
       "    </tr>\n",
       "  </thead>\n",
       "  <tbody>\n",
       "    <tr>\n",
       "      <th>age</th>\n",
       "      <td>1.000000</td>\n",
       "      <td>-0.122979</td>\n",
       "      <td>-0.121617</td>\n",
       "      <td>0.095370</td>\n",
       "      <td>-0.011426</td>\n",
       "      <td>0.235875</td>\n",
       "      <td>0.011426</td>\n",
       "      <td>0.074152</td>\n",
       "      <td>0.004837</td>\n",
       "      <td>0.123638</td>\n",
       "      <td>-0.056173</td>\n",
       "      <td>0.112599</td>\n",
       "      <td>-0.131542</td>\n",
       "    </tr>\n",
       "    <tr>\n",
       "      <th>medu</th>\n",
       "      <td>-0.122979</td>\n",
       "      <td>1.000000</td>\n",
       "      <td>0.247339</td>\n",
       "      <td>-0.165394</td>\n",
       "      <td>0.070533</td>\n",
       "      <td>-0.205944</td>\n",
       "      <td>-0.070533</td>\n",
       "      <td>-0.000958</td>\n",
       "      <td>0.021002</td>\n",
       "      <td>0.080556</td>\n",
       "      <td>-0.038050</td>\n",
       "      <td>-0.027377</td>\n",
       "      <td>0.186477</td>\n",
       "    </tr>\n",
       "    <tr>\n",
       "      <th>fedu</th>\n",
       "      <td>-0.121617</td>\n",
       "      <td>0.247339</td>\n",
       "      <td>1.000000</td>\n",
       "      <td>0.042074</td>\n",
       "      <td>0.049060</td>\n",
       "      <td>-0.141995</td>\n",
       "      <td>-0.049060</td>\n",
       "      <td>0.049613</td>\n",
       "      <td>-0.071328</td>\n",
       "      <td>-0.026507</td>\n",
       "      <td>0.025874</td>\n",
       "      <td>0.000245</td>\n",
       "      <td>0.069842</td>\n",
       "    </tr>\n",
       "    <tr>\n",
       "      <th>traveltime</th>\n",
       "      <td>0.095370</td>\n",
       "      <td>-0.165394</td>\n",
       "      <td>0.042074</td>\n",
       "      <td>1.000000</td>\n",
       "      <td>-0.101490</td>\n",
       "      <td>0.091757</td>\n",
       "      <td>0.101490</td>\n",
       "      <td>-0.023920</td>\n",
       "      <td>-0.023067</td>\n",
       "      <td>0.029374</td>\n",
       "      <td>-0.000092</td>\n",
       "      <td>-0.047560</td>\n",
       "      <td>-0.075516</td>\n",
       "    </tr>\n",
       "    <tr>\n",
       "      <th>studytime</th>\n",
       "      <td>-0.011426</td>\n",
       "      <td>0.070533</td>\n",
       "      <td>0.049060</td>\n",
       "      <td>-0.101490</td>\n",
       "      <td>1.000000</td>\n",
       "      <td>-0.156406</td>\n",
       "      <td>-1.000000</td>\n",
       "      <td>0.063856</td>\n",
       "      <td>-0.128661</td>\n",
       "      <td>-0.029686</td>\n",
       "      <td>-0.085469</td>\n",
       "      <td>-0.030187</td>\n",
       "      <td>0.142055</td>\n",
       "    </tr>\n",
       "    <tr>\n",
       "      <th>failures</th>\n",
       "      <td>0.235875</td>\n",
       "      <td>-0.205944</td>\n",
       "      <td>-0.141995</td>\n",
       "      <td>0.091757</td>\n",
       "      <td>-0.156406</td>\n",
       "      <td>1.000000</td>\n",
       "      <td>0.156406</td>\n",
       "      <td>-0.011414</td>\n",
       "      <td>0.127391</td>\n",
       "      <td>0.126770</td>\n",
       "      <td>0.064083</td>\n",
       "      <td>0.089541</td>\n",
       "      <td>-0.289377</td>\n",
       "    </tr>\n",
       "    <tr>\n",
       "      <th>studytime_granular</th>\n",
       "      <td>0.011426</td>\n",
       "      <td>-0.070533</td>\n",
       "      <td>-0.049060</td>\n",
       "      <td>0.101490</td>\n",
       "      <td>-1.000000</td>\n",
       "      <td>0.156406</td>\n",
       "      <td>1.000000</td>\n",
       "      <td>-0.063856</td>\n",
       "      <td>0.128661</td>\n",
       "      <td>0.029686</td>\n",
       "      <td>0.085469</td>\n",
       "      <td>0.030187</td>\n",
       "      <td>-0.142055</td>\n",
       "    </tr>\n",
       "    <tr>\n",
       "      <th>famrel</th>\n",
       "      <td>0.074152</td>\n",
       "      <td>-0.000958</td>\n",
       "      <td>0.049613</td>\n",
       "      <td>-0.023920</td>\n",
       "      <td>0.063856</td>\n",
       "      <td>-0.011414</td>\n",
       "      <td>-0.063856</td>\n",
       "      <td>1.000000</td>\n",
       "      <td>0.162283</td>\n",
       "      <td>0.050751</td>\n",
       "      <td>0.096471</td>\n",
       "      <td>-0.089609</td>\n",
       "      <td>0.046717</td>\n",
       "    </tr>\n",
       "    <tr>\n",
       "      <th>freetime</th>\n",
       "      <td>0.004837</td>\n",
       "      <td>0.021002</td>\n",
       "      <td>-0.071328</td>\n",
       "      <td>-0.023067</td>\n",
       "      <td>-0.128661</td>\n",
       "      <td>0.127391</td>\n",
       "      <td>0.128661</td>\n",
       "      <td>0.162283</td>\n",
       "      <td>1.000000</td>\n",
       "      <td>0.296392</td>\n",
       "      <td>0.072729</td>\n",
       "      <td>0.007748</td>\n",
       "      <td>-0.012457</td>\n",
       "    </tr>\n",
       "    <tr>\n",
       "      <th>goout</th>\n",
       "      <td>0.123638</td>\n",
       "      <td>0.080556</td>\n",
       "      <td>-0.026507</td>\n",
       "      <td>0.029374</td>\n",
       "      <td>-0.029686</td>\n",
       "      <td>0.126770</td>\n",
       "      <td>0.029686</td>\n",
       "      <td>0.050751</td>\n",
       "      <td>0.296392</td>\n",
       "      <td>1.000000</td>\n",
       "      <td>-0.010343</td>\n",
       "      <td>-0.050616</td>\n",
       "      <td>-0.182286</td>\n",
       "    </tr>\n",
       "    <tr>\n",
       "      <th>health</th>\n",
       "      <td>-0.056173</td>\n",
       "      <td>-0.038050</td>\n",
       "      <td>0.025874</td>\n",
       "      <td>-0.000092</td>\n",
       "      <td>-0.085469</td>\n",
       "      <td>0.064083</td>\n",
       "      <td>0.085469</td>\n",
       "      <td>0.096471</td>\n",
       "      <td>0.072729</td>\n",
       "      <td>-0.010343</td>\n",
       "      <td>1.000000</td>\n",
       "      <td>-0.014308</td>\n",
       "      <td>-0.075340</td>\n",
       "    </tr>\n",
       "    <tr>\n",
       "      <th>absences</th>\n",
       "      <td>0.112599</td>\n",
       "      <td>-0.027377</td>\n",
       "      <td>0.000245</td>\n",
       "      <td>-0.047560</td>\n",
       "      <td>-0.030187</td>\n",
       "      <td>0.089541</td>\n",
       "      <td>0.030187</td>\n",
       "      <td>-0.089609</td>\n",
       "      <td>0.007748</td>\n",
       "      <td>-0.050616</td>\n",
       "      <td>-0.014308</td>\n",
       "      <td>1.000000</td>\n",
       "      <td>-0.014039</td>\n",
       "    </tr>\n",
       "    <tr>\n",
       "      <th>score</th>\n",
       "      <td>-0.131542</td>\n",
       "      <td>0.186477</td>\n",
       "      <td>0.069842</td>\n",
       "      <td>-0.075516</td>\n",
       "      <td>0.142055</td>\n",
       "      <td>-0.289377</td>\n",
       "      <td>-0.142055</td>\n",
       "      <td>0.046717</td>\n",
       "      <td>-0.012457</td>\n",
       "      <td>-0.182286</td>\n",
       "      <td>-0.075340</td>\n",
       "      <td>-0.014039</td>\n",
       "      <td>1.000000</td>\n",
       "    </tr>\n",
       "  </tbody>\n",
       "</table>\n",
       "</div>"
      ],
      "text/plain": [
       "                         age      medu      fedu  traveltime  studytime  \\\n",
       "age                 1.000000 -0.122979 -0.121617    0.095370  -0.011426   \n",
       "medu               -0.122979  1.000000  0.247339   -0.165394   0.070533   \n",
       "fedu               -0.121617  0.247339  1.000000    0.042074   0.049060   \n",
       "traveltime          0.095370 -0.165394  0.042074    1.000000  -0.101490   \n",
       "studytime          -0.011426  0.070533  0.049060   -0.101490   1.000000   \n",
       "failures            0.235875 -0.205944 -0.141995    0.091757  -0.156406   \n",
       "studytime_granular  0.011426 -0.070533 -0.049060    0.101490  -1.000000   \n",
       "famrel              0.074152 -0.000958  0.049613   -0.023920   0.063856   \n",
       "freetime            0.004837  0.021002 -0.071328   -0.023067  -0.128661   \n",
       "goout               0.123638  0.080556 -0.026507    0.029374  -0.029686   \n",
       "health             -0.056173 -0.038050  0.025874   -0.000092  -0.085469   \n",
       "absences            0.112599 -0.027377  0.000245   -0.047560  -0.030187   \n",
       "score              -0.131542  0.186477  0.069842   -0.075516   0.142055   \n",
       "\n",
       "                    failures  studytime_granular    famrel  freetime  \\\n",
       "age                 0.235875            0.011426  0.074152  0.004837   \n",
       "medu               -0.205944           -0.070533 -0.000958  0.021002   \n",
       "fedu               -0.141995           -0.049060  0.049613 -0.071328   \n",
       "traveltime          0.091757            0.101490 -0.023920 -0.023067   \n",
       "studytime          -0.156406           -1.000000  0.063856 -0.128661   \n",
       "failures            1.000000            0.156406 -0.011414  0.127391   \n",
       "studytime_granular  0.156406            1.000000 -0.063856  0.128661   \n",
       "famrel             -0.011414           -0.063856  1.000000  0.162283   \n",
       "freetime            0.127391            0.128661  0.162283  1.000000   \n",
       "goout               0.126770            0.029686  0.050751  0.296392   \n",
       "health              0.064083            0.085469  0.096471  0.072729   \n",
       "absences            0.089541            0.030187 -0.089609  0.007748   \n",
       "score              -0.289377           -0.142055  0.046717 -0.012457   \n",
       "\n",
       "                       goout    health  absences     score  \n",
       "age                 0.123638 -0.056173  0.112599 -0.131542  \n",
       "medu                0.080556 -0.038050 -0.027377  0.186477  \n",
       "fedu               -0.026507  0.025874  0.000245  0.069842  \n",
       "traveltime          0.029374 -0.000092 -0.047560 -0.075516  \n",
       "studytime          -0.029686 -0.085469 -0.030187  0.142055  \n",
       "failures            0.126770  0.064083  0.089541 -0.289377  \n",
       "studytime_granular  0.029686  0.085469  0.030187 -0.142055  \n",
       "famrel              0.050751  0.096471 -0.089609  0.046717  \n",
       "freetime            0.296392  0.072729  0.007748 -0.012457  \n",
       "goout               1.000000 -0.010343 -0.050616 -0.182286  \n",
       "health             -0.010343  1.000000 -0.014308 -0.075340  \n",
       "absences           -0.050616 -0.014308  1.000000 -0.014039  \n",
       "score              -0.182286 -0.075340 -0.014039  1.000000  "
      ]
     },
     "execution_count": 17,
     "metadata": {},
     "output_type": "execute_result"
    }
   ],
   "source": [
    "stud.corr()"
   ]
  },
  {
   "cell_type": "markdown",
   "id": "f68a7f0f",
   "metadata": {},
   "source": [
    "Column studytime is fully correlated with studytime_granular, one of the columns can be removed.<br>\n",
    "The correlation of the other columns is rather weak and does not exceed 0.3."
   ]
  },
  {
   "cell_type": "code",
   "execution_count": 18,
   "id": "8de3c7a3",
   "metadata": {},
   "outputs": [],
   "source": [
    "# Remove studytime_granular:\n",
    "drop('studytime_granular')"
   ]
  },
  {
   "cell_type": "code",
   "execution_count": 19,
   "id": "d76907c5",
   "metadata": {},
   "outputs": [
    {
     "data": {
      "text/html": [
       "<div>\n",
       "<style scoped>\n",
       "    .dataframe tbody tr th:only-of-type {\n",
       "        vertical-align: middle;\n",
       "    }\n",
       "\n",
       "    .dataframe tbody tr th {\n",
       "        vertical-align: top;\n",
       "    }\n",
       "\n",
       "    .dataframe thead th {\n",
       "        text-align: right;\n",
       "    }\n",
       "</style>\n",
       "<table border=\"1\" class=\"dataframe\">\n",
       "  <thead>\n",
       "    <tr style=\"text-align: right;\">\n",
       "      <th></th>\n",
       "      <th>age</th>\n",
       "      <th>medu</th>\n",
       "      <th>fedu</th>\n",
       "      <th>traveltime</th>\n",
       "      <th>studytime</th>\n",
       "      <th>failures</th>\n",
       "      <th>studytime_granular</th>\n",
       "      <th>famrel</th>\n",
       "      <th>freetime</th>\n",
       "      <th>goout</th>\n",
       "      <th>health</th>\n",
       "      <th>absences</th>\n",
       "      <th>score</th>\n",
       "    </tr>\n",
       "  </thead>\n",
       "  <tbody>\n",
       "    <tr>\n",
       "      <th>age</th>\n",
       "      <td>1.000000</td>\n",
       "      <td>-0.122979</td>\n",
       "      <td>-0.121617</td>\n",
       "      <td>0.095370</td>\n",
       "      <td>-0.011426</td>\n",
       "      <td>0.235875</td>\n",
       "      <td>0.011426</td>\n",
       "      <td>0.074152</td>\n",
       "      <td>0.004837</td>\n",
       "      <td>0.123638</td>\n",
       "      <td>-0.056173</td>\n",
       "      <td>0.112599</td>\n",
       "      <td>-0.131542</td>\n",
       "    </tr>\n",
       "    <tr>\n",
       "      <th>medu</th>\n",
       "      <td>-0.122979</td>\n",
       "      <td>1.000000</td>\n",
       "      <td>0.247339</td>\n",
       "      <td>-0.165394</td>\n",
       "      <td>0.070533</td>\n",
       "      <td>-0.205944</td>\n",
       "      <td>-0.070533</td>\n",
       "      <td>-0.000958</td>\n",
       "      <td>0.021002</td>\n",
       "      <td>0.080556</td>\n",
       "      <td>-0.038050</td>\n",
       "      <td>-0.027377</td>\n",
       "      <td>0.186477</td>\n",
       "    </tr>\n",
       "    <tr>\n",
       "      <th>fedu</th>\n",
       "      <td>-0.121617</td>\n",
       "      <td>0.247339</td>\n",
       "      <td>1.000000</td>\n",
       "      <td>0.042074</td>\n",
       "      <td>0.049060</td>\n",
       "      <td>-0.141995</td>\n",
       "      <td>-0.049060</td>\n",
       "      <td>0.049613</td>\n",
       "      <td>-0.071328</td>\n",
       "      <td>-0.026507</td>\n",
       "      <td>0.025874</td>\n",
       "      <td>0.000245</td>\n",
       "      <td>0.069842</td>\n",
       "    </tr>\n",
       "    <tr>\n",
       "      <th>traveltime</th>\n",
       "      <td>0.095370</td>\n",
       "      <td>-0.165394</td>\n",
       "      <td>0.042074</td>\n",
       "      <td>1.000000</td>\n",
       "      <td>-0.101490</td>\n",
       "      <td>0.091757</td>\n",
       "      <td>0.101490</td>\n",
       "      <td>-0.023920</td>\n",
       "      <td>-0.023067</td>\n",
       "      <td>0.029374</td>\n",
       "      <td>-0.000092</td>\n",
       "      <td>-0.047560</td>\n",
       "      <td>-0.075516</td>\n",
       "    </tr>\n",
       "    <tr>\n",
       "      <th>studytime</th>\n",
       "      <td>-0.011426</td>\n",
       "      <td>0.070533</td>\n",
       "      <td>0.049060</td>\n",
       "      <td>-0.101490</td>\n",
       "      <td>1.000000</td>\n",
       "      <td>-0.156406</td>\n",
       "      <td>-1.000000</td>\n",
       "      <td>0.063856</td>\n",
       "      <td>-0.128661</td>\n",
       "      <td>-0.029686</td>\n",
       "      <td>-0.085469</td>\n",
       "      <td>-0.030187</td>\n",
       "      <td>0.142055</td>\n",
       "    </tr>\n",
       "    <tr>\n",
       "      <th>failures</th>\n",
       "      <td>0.235875</td>\n",
       "      <td>-0.205944</td>\n",
       "      <td>-0.141995</td>\n",
       "      <td>0.091757</td>\n",
       "      <td>-0.156406</td>\n",
       "      <td>1.000000</td>\n",
       "      <td>0.156406</td>\n",
       "      <td>-0.011414</td>\n",
       "      <td>0.127391</td>\n",
       "      <td>0.126770</td>\n",
       "      <td>0.064083</td>\n",
       "      <td>0.089541</td>\n",
       "      <td>-0.289377</td>\n",
       "    </tr>\n",
       "    <tr>\n",
       "      <th>studytime_granular</th>\n",
       "      <td>0.011426</td>\n",
       "      <td>-0.070533</td>\n",
       "      <td>-0.049060</td>\n",
       "      <td>0.101490</td>\n",
       "      <td>-1.000000</td>\n",
       "      <td>0.156406</td>\n",
       "      <td>1.000000</td>\n",
       "      <td>-0.063856</td>\n",
       "      <td>0.128661</td>\n",
       "      <td>0.029686</td>\n",
       "      <td>0.085469</td>\n",
       "      <td>0.030187</td>\n",
       "      <td>-0.142055</td>\n",
       "    </tr>\n",
       "    <tr>\n",
       "      <th>famrel</th>\n",
       "      <td>0.074152</td>\n",
       "      <td>-0.000958</td>\n",
       "      <td>0.049613</td>\n",
       "      <td>-0.023920</td>\n",
       "      <td>0.063856</td>\n",
       "      <td>-0.011414</td>\n",
       "      <td>-0.063856</td>\n",
       "      <td>1.000000</td>\n",
       "      <td>0.162283</td>\n",
       "      <td>0.050751</td>\n",
       "      <td>0.096471</td>\n",
       "      <td>-0.089609</td>\n",
       "      <td>0.046717</td>\n",
       "    </tr>\n",
       "    <tr>\n",
       "      <th>freetime</th>\n",
       "      <td>0.004837</td>\n",
       "      <td>0.021002</td>\n",
       "      <td>-0.071328</td>\n",
       "      <td>-0.023067</td>\n",
       "      <td>-0.128661</td>\n",
       "      <td>0.127391</td>\n",
       "      <td>0.128661</td>\n",
       "      <td>0.162283</td>\n",
       "      <td>1.000000</td>\n",
       "      <td>0.296392</td>\n",
       "      <td>0.072729</td>\n",
       "      <td>0.007748</td>\n",
       "      <td>-0.012457</td>\n",
       "    </tr>\n",
       "    <tr>\n",
       "      <th>goout</th>\n",
       "      <td>0.123638</td>\n",
       "      <td>0.080556</td>\n",
       "      <td>-0.026507</td>\n",
       "      <td>0.029374</td>\n",
       "      <td>-0.029686</td>\n",
       "      <td>0.126770</td>\n",
       "      <td>0.029686</td>\n",
       "      <td>0.050751</td>\n",
       "      <td>0.296392</td>\n",
       "      <td>1.000000</td>\n",
       "      <td>-0.010343</td>\n",
       "      <td>-0.050616</td>\n",
       "      <td>-0.182286</td>\n",
       "    </tr>\n",
       "    <tr>\n",
       "      <th>health</th>\n",
       "      <td>-0.056173</td>\n",
       "      <td>-0.038050</td>\n",
       "      <td>0.025874</td>\n",
       "      <td>-0.000092</td>\n",
       "      <td>-0.085469</td>\n",
       "      <td>0.064083</td>\n",
       "      <td>0.085469</td>\n",
       "      <td>0.096471</td>\n",
       "      <td>0.072729</td>\n",
       "      <td>-0.010343</td>\n",
       "      <td>1.000000</td>\n",
       "      <td>-0.014308</td>\n",
       "      <td>-0.075340</td>\n",
       "    </tr>\n",
       "    <tr>\n",
       "      <th>absences</th>\n",
       "      <td>0.112599</td>\n",
       "      <td>-0.027377</td>\n",
       "      <td>0.000245</td>\n",
       "      <td>-0.047560</td>\n",
       "      <td>-0.030187</td>\n",
       "      <td>0.089541</td>\n",
       "      <td>0.030187</td>\n",
       "      <td>-0.089609</td>\n",
       "      <td>0.007748</td>\n",
       "      <td>-0.050616</td>\n",
       "      <td>-0.014308</td>\n",
       "      <td>1.000000</td>\n",
       "      <td>-0.014039</td>\n",
       "    </tr>\n",
       "    <tr>\n",
       "      <th>score</th>\n",
       "      <td>-0.131542</td>\n",
       "      <td>0.186477</td>\n",
       "      <td>0.069842</td>\n",
       "      <td>-0.075516</td>\n",
       "      <td>0.142055</td>\n",
       "      <td>-0.289377</td>\n",
       "      <td>-0.142055</td>\n",
       "      <td>0.046717</td>\n",
       "      <td>-0.012457</td>\n",
       "      <td>-0.182286</td>\n",
       "      <td>-0.075340</td>\n",
       "      <td>-0.014039</td>\n",
       "      <td>1.000000</td>\n",
       "    </tr>\n",
       "  </tbody>\n",
       "</table>\n",
       "</div>"
      ],
      "text/plain": [
       "                         age      medu      fedu  traveltime  studytime  \\\n",
       "age                 1.000000 -0.122979 -0.121617    0.095370  -0.011426   \n",
       "medu               -0.122979  1.000000  0.247339   -0.165394   0.070533   \n",
       "fedu               -0.121617  0.247339  1.000000    0.042074   0.049060   \n",
       "traveltime          0.095370 -0.165394  0.042074    1.000000  -0.101490   \n",
       "studytime          -0.011426  0.070533  0.049060   -0.101490   1.000000   \n",
       "failures            0.235875 -0.205944 -0.141995    0.091757  -0.156406   \n",
       "studytime_granular  0.011426 -0.070533 -0.049060    0.101490  -1.000000   \n",
       "famrel              0.074152 -0.000958  0.049613   -0.023920   0.063856   \n",
       "freetime            0.004837  0.021002 -0.071328   -0.023067  -0.128661   \n",
       "goout               0.123638  0.080556 -0.026507    0.029374  -0.029686   \n",
       "health             -0.056173 -0.038050  0.025874   -0.000092  -0.085469   \n",
       "absences            0.112599 -0.027377  0.000245   -0.047560  -0.030187   \n",
       "score              -0.131542  0.186477  0.069842   -0.075516   0.142055   \n",
       "\n",
       "                    failures  studytime_granular    famrel  freetime  \\\n",
       "age                 0.235875            0.011426  0.074152  0.004837   \n",
       "medu               -0.205944           -0.070533 -0.000958  0.021002   \n",
       "fedu               -0.141995           -0.049060  0.049613 -0.071328   \n",
       "traveltime          0.091757            0.101490 -0.023920 -0.023067   \n",
       "studytime          -0.156406           -1.000000  0.063856 -0.128661   \n",
       "failures            1.000000            0.156406 -0.011414  0.127391   \n",
       "studytime_granular  0.156406            1.000000 -0.063856  0.128661   \n",
       "famrel             -0.011414           -0.063856  1.000000  0.162283   \n",
       "freetime            0.127391            0.128661  0.162283  1.000000   \n",
       "goout               0.126770            0.029686  0.050751  0.296392   \n",
       "health              0.064083            0.085469  0.096471  0.072729   \n",
       "absences            0.089541            0.030187 -0.089609  0.007748   \n",
       "score              -0.289377           -0.142055  0.046717 -0.012457   \n",
       "\n",
       "                       goout    health  absences     score  \n",
       "age                 0.123638 -0.056173  0.112599 -0.131542  \n",
       "medu                0.080556 -0.038050 -0.027377  0.186477  \n",
       "fedu               -0.026507  0.025874  0.000245  0.069842  \n",
       "traveltime          0.029374 -0.000092 -0.047560 -0.075516  \n",
       "studytime          -0.029686 -0.085469 -0.030187  0.142055  \n",
       "failures            0.126770  0.064083  0.089541 -0.289377  \n",
       "studytime_granular  0.029686  0.085469  0.030187 -0.142055  \n",
       "famrel              0.050751  0.096471 -0.089609  0.046717  \n",
       "freetime            0.296392  0.072729  0.007748 -0.012457  \n",
       "goout               1.000000 -0.010343 -0.050616 -0.182286  \n",
       "health             -0.010343  1.000000 -0.014308 -0.075340  \n",
       "absences           -0.050616 -0.014308  1.000000 -0.014039  \n",
       "score              -0.182286 -0.075340 -0.014039  1.000000  "
      ]
     },
     "execution_count": 19,
     "metadata": {},
     "output_type": "execute_result"
    }
   ],
   "source": [
    "# Check the correlation of non-empty column values:\n",
    "for col in stud.columns:\n",
    "    stud_tmp = stud[~stud[col].isnull()]\n",
    "stud_tmp.corr()"
   ]
  },
  {
   "cell_type": "markdown",
   "id": "8307fba5",
   "metadata": {},
   "source": [
    "A significant correlation appeared between the Medu and Fedu columns. Need to check correlation after clearing data in these columns."
   ]
  },
  {
   "cell_type": "markdown",
   "id": "c97ad258",
   "metadata": {},
   "source": [
    "# Analysis of numeric columns"
   ]
  },
  {
   "cell_type": "markdown",
   "id": "3d88a324",
   "metadata": {},
   "source": [
    "The null hypothesis for each column is that the value of the column does not affect the values in the score column.<br>\n",
    "The hypothesis must be confirmed or refuted graphically or analytically.<br>\n",
    "Graphically - plotting: distribution histogram, boxplot, a plot of the average of the ratings for each value in case the data is discrete.<br>\n",
    "Analytically - correlation testing in the ways of Pearson, Spearman and Kendall.<br>\n",
    "scipy.stats.pearsonr - Pearson correlation coefficient and p-value for testing non-correlation.<br>\n",
    "scipy.stats.spearmanr - Calculate a Spearman correlation coefficient with associated p-value.<br>\n",
    "scipy.stats.kendalltau - Calculate Kendall’s tau, a correlation measure for ordinal data.<br>\n",
    "Spearman and Kendall correlations are better suited to scaling than Pearson.<br>\n",
    "To verify the dependence of the values, the hypothesis of independence must be tested by calculating p_value.<br>\n",
    "If p_value is greater than the significance level (take it = 0.05), then the null hypothesis is confirmed."
   ]
  },
  {
   "cell_type": "markdown",
   "id": "dd0ca406",
   "metadata": {},
   "source": [
    "## 'age' column\n",
    "Student's age (from 15 to 22)."
   ]
  },
  {
   "cell_type": "code",
   "execution_count": 20,
   "id": "11e213de",
   "metadata": {},
   "outputs": [
    {
     "data": {
      "text/html": [
       "<div>\n",
       "<style scoped>\n",
       "    .dataframe tbody tr th:only-of-type {\n",
       "        vertical-align: middle;\n",
       "    }\n",
       "\n",
       "    .dataframe tbody tr th {\n",
       "        vertical-align: top;\n",
       "    }\n",
       "\n",
       "    .dataframe thead th {\n",
       "        text-align: right;\n",
       "    }\n",
       "</style>\n",
       "<table border=\"1\" class=\"dataframe\">\n",
       "  <thead>\n",
       "    <tr style=\"text-align: right;\">\n",
       "      <th></th>\n",
       "      <th>age</th>\n",
       "    </tr>\n",
       "  </thead>\n",
       "  <tbody>\n",
       "    <tr>\n",
       "      <th>16</th>\n",
       "      <td>96</td>\n",
       "    </tr>\n",
       "    <tr>\n",
       "      <th>17</th>\n",
       "      <td>90</td>\n",
       "    </tr>\n",
       "    <tr>\n",
       "      <th>15</th>\n",
       "      <td>76</td>\n",
       "    </tr>\n",
       "    <tr>\n",
       "      <th>18</th>\n",
       "      <td>69</td>\n",
       "    </tr>\n",
       "    <tr>\n",
       "      <th>19</th>\n",
       "      <td>16</td>\n",
       "    </tr>\n",
       "    <tr>\n",
       "      <th>20</th>\n",
       "      <td>3</td>\n",
       "    </tr>\n",
       "    <tr>\n",
       "      <th>22</th>\n",
       "      <td>1</td>\n",
       "    </tr>\n",
       "    <tr>\n",
       "      <th>21</th>\n",
       "      <td>1</td>\n",
       "    </tr>\n",
       "  </tbody>\n",
       "</table>\n",
       "</div>"
      ],
      "text/plain": [
       "    age\n",
       "16   96\n",
       "17   90\n",
       "15   76\n",
       "18   69\n",
       "19   16\n",
       "20    3\n",
       "22    1\n",
       "21    1"
      ]
     },
     "metadata": {},
     "output_type": "display_data"
    },
    {
     "name": "stdout",
     "output_type": "stream",
     "text": [
      "Column age: found 8 unique values\n",
      "Column age: found 0 null values\n"
     ]
    },
    {
     "data": {
      "text/plain": [
       "count    352.000000\n",
       "mean      16.633523\n",
       "std        1.256011\n",
       "min       15.000000\n",
       "25%       16.000000\n",
       "50%       17.000000\n",
       "75%       18.000000\n",
       "max       22.000000\n",
       "Name: age, dtype: float64"
      ]
     },
     "metadata": {},
     "output_type": "display_data"
    }
   ],
   "source": [
    "# Previously found a correlation between age and score.\n",
    "review_col_info(stud, 'age', True)"
   ]
  },
  {
   "cell_type": "markdown",
   "id": "4fb9467f",
   "metadata": {},
   "source": [
    "There are no empty values."
   ]
  },
  {
   "cell_type": "code",
   "execution_count": 21,
   "id": "ae5e615e",
   "metadata": {},
   "outputs": [
    {
     "data": {
      "text/plain": [
       "<AxesSubplot:>"
      ]
     },
     "execution_count": 21,
     "metadata": {},
     "output_type": "execute_result"
    },
    {
     "data": {
      "image/png": "[encoded data removed]",
      "text/plain": [
       "<Figure size 432x288 with 1 Axes>"
      ]
     },
     "metadata": {
      "needs_background": "light"
     },
     "output_type": "display_data"
    }
   ],
   "source": [
    "# Distribution histogram:\n",
    "stud.age.hist(bins=16)"
   ]
  },
  {
   "cell_type": "markdown",
   "id": "a2ba6d6e",
   "metadata": {},
   "source": [
    "The distribution is similar to normal up to 18 years of age. "
   ]
  },
  {
   "cell_type": "code",
   "execution_count": 22,
   "id": "742e2289",
   "metadata": {},
   "outputs": [
    {
     "name": "stdout",
     "output_type": "stream",
     "text": [
      "Count of outliers: 1\n"
     ]
    },
    {
     "data": {
      "text/plain": [
       "247    22\n",
       "Name: age, dtype: int64"
      ]
     },
     "metadata": {},
     "output_type": "display_data"
    }
   ],
   "source": [
    "# Check the outliers:\n",
    "outliers = get_outlier(stud, 'age')\n",
    "print('Count of outliers: {}'.format(outliers.count()))\n",
    "display(outliers)"
   ]
  },
  {
   "cell_type": "code",
   "execution_count": 23,
   "id": "ce679050",
   "metadata": {},
   "outputs": [],
   "source": [
    "# Remove the outlier for age = 22 years, create a temporary dataset:\n",
    "stud_tmp = stud[stud.age < 22]"
   ]
  },
  {
   "cell_type": "code",
   "execution_count": 24,
   "id": "01837263",
   "metadata": {},
   "outputs": [
    {
     "name": "stdout",
     "output_type": "stream",
     "text": [
      "normaltest p_value= 0.002862442153038958\n",
      "By normaltest: distribution is not normal\n"
     ]
    }
   ],
   "source": [
    "# Check the distribution for normality by normaltest:\n",
    "alpha = 0.05\n",
    "u, p_value = normaltest(stud_tmp.age)\n",
    "print('normaltest p_value=', p_value)\n",
    "if p_value > alpha:\n",
    "    print('By normaltest: distribution is normal')\n",
    "else:\n",
    "    print('By normaltest: distribution is not normal')"
   ]
  },
  {
   "cell_type": "code",
   "execution_count": 25,
   "id": "ae2db6fd",
   "metadata": {},
   "outputs": [
    {
     "data": {
      "text/plain": [
       "<AxesSubplot:title={'center':'score'}, xlabel='age'>"
      ]
     },
     "execution_count": 25,
     "metadata": {},
     "output_type": "execute_result"
    },
    {
     "data": {
      "image/png": "[encoded data removed]",
      "text/plain": [
       "<Figure size 432x288 with 1 Axes>"
      ]
     },
     "metadata": {
      "needs_background": "light"
     },
     "output_type": "display_data"
    }
   ],
   "source": [
    "# Create a boxplot to look at the range of scores for each age:\n",
    "stud_tmp.boxplot(column = 'score', by = 'age')"
   ]
  },
  {
   "cell_type": "markdown",
   "id": "19f80d6f",
   "metadata": {},
   "source": [
    "Up to 19 years of age, there is a slight decrease in scores with age.<br>\n",
    "There are only 3 students in the 20-year-old group, and 1 in the 21-year-old group. This group can be ignored, because there is not enough data for analysis."
   ]
  },
  {
   "cell_type": "code",
   "execution_count": 26,
   "id": "3ef224d4",
   "metadata": {},
   "outputs": [
    {
     "data": {
      "text/plain": [
       "<AxesSubplot:xlabel='age'>"
      ]
     },
     "execution_count": 26,
     "metadata": {},
     "output_type": "execute_result"
    },
    {
     "data": {
      "image/png": "[encoded data removed]",
      "text/plain": [
       "<Figure size 432x288 with 1 Axes>"
      ]
     },
     "metadata": {
      "needs_background": "light"
     },
     "output_type": "display_data"
    }
   ],
   "source": [
    "# Average scores for each age under 19:\n",
    "stud_tmp[stud_tmp.age <= 19].groupby(['age']).score.mean().plot(kind='bar')"
   ]
  },
  {
   "cell_type": "markdown",
   "id": "3d5967c1",
   "metadata": {},
   "source": [
    "The plot also shows that with age, the scores slightly decrease."
   ]
  },
  {
   "cell_type": "code",
   "execution_count": 27,
   "id": "26bbee2f",
   "metadata": {},
   "outputs": [
    {
     "name": "stdout",
     "output_type": "stream",
     "text": [
      "Pearson p_value = 0.022719301282731686\n",
      "Spearman p_value = 0.012318658221349036\n",
      "Kendall p_value = 0.011698652404360908\n"
     ]
    },
    {
     "data": {
      "text/html": [
       "<div>\n",
       "<style scoped>\n",
       "    .dataframe tbody tr th:only-of-type {\n",
       "        vertical-align: middle;\n",
       "    }\n",
       "\n",
       "    .dataframe tbody tr th {\n",
       "        vertical-align: top;\n",
       "    }\n",
       "\n",
       "    .dataframe thead th {\n",
       "        text-align: right;\n",
       "    }\n",
       "</style>\n",
       "<table border=\"1\" class=\"dataframe\">\n",
       "  <thead>\n",
       "    <tr style=\"text-align: right;\">\n",
       "      <th></th>\n",
       "      <th>score</th>\n",
       "      <th>age</th>\n",
       "    </tr>\n",
       "  </thead>\n",
       "  <tbody>\n",
       "    <tr>\n",
       "      <th>score</th>\n",
       "      <td>1.000000</td>\n",
       "      <td>-0.100412</td>\n",
       "    </tr>\n",
       "    <tr>\n",
       "      <th>age</th>\n",
       "      <td>-0.100412</td>\n",
       "      <td>1.000000</td>\n",
       "    </tr>\n",
       "  </tbody>\n",
       "</table>\n",
       "</div>"
      ],
      "text/plain": [
       "          score       age\n",
       "score  1.000000 -0.100412\n",
       "age   -0.100412  1.000000"
      ]
     },
     "execution_count": 27,
     "metadata": {},
     "output_type": "execute_result"
    }
   ],
   "source": [
    "# To verify the dependences between the columns, test the independence hypothesis in different ways by calculating p_value:\n",
    "print('Pearson p_value =',pearsonr(stud_tmp.age, stud_tmp.score)[1])\n",
    "print('Spearman p_value =',spearmanr(stud_tmp.age, stud_tmp.score)[1])\n",
    "print('Kendall p_value =',kendalltau(stud_tmp.age, stud_tmp.score)[1])\n",
    "# Correlation:\n",
    "pd.DataFrame(stud_tmp.age, stud_tmp.score).reset_index().corr()"
   ]
  },
  {
   "cell_type": "markdown",
   "id": "fb1a017d",
   "metadata": {},
   "source": [
    "Since p_value < 0.05, the null hypothesis is rejected and the alternative hypothesis that there is a relationship between the values is accepted. The column age must be included in the future model."
   ]
  },
  {
   "cell_type": "markdown",
   "id": "34c3eab9",
   "metadata": {},
   "source": [
    "## 'medu' column\n",
    "Mother's education (0 - no, 1 - 4 grades, 2 - 5-9 grades, 3 - secondary special or 11 grades, 4 - higher)."
   ]
  },
  {
   "cell_type": "code",
   "execution_count": 28,
   "id": "6b0e4e54",
   "metadata": {},
   "outputs": [
    {
     "data": {
      "text/html": [
       "<div>\n",
       "<style scoped>\n",
       "    .dataframe tbody tr th:only-of-type {\n",
       "        vertical-align: middle;\n",
       "    }\n",
       "\n",
       "    .dataframe tbody tr th {\n",
       "        vertical-align: top;\n",
       "    }\n",
       "\n",
       "    .dataframe thead th {\n",
       "        text-align: right;\n",
       "    }\n",
       "</style>\n",
       "<table border=\"1\" class=\"dataframe\">\n",
       "  <thead>\n",
       "    <tr style=\"text-align: right;\">\n",
       "      <th></th>\n",
       "      <th>medu</th>\n",
       "    </tr>\n",
       "  </thead>\n",
       "  <tbody>\n",
       "    <tr>\n",
       "      <th>4.0</th>\n",
       "      <td>125</td>\n",
       "    </tr>\n",
       "    <tr>\n",
       "      <th>2.0</th>\n",
       "      <td>88</td>\n",
       "    </tr>\n",
       "    <tr>\n",
       "      <th>3.0</th>\n",
       "      <td>87</td>\n",
       "    </tr>\n",
       "    <tr>\n",
       "      <th>1.0</th>\n",
       "      <td>47</td>\n",
       "    </tr>\n",
       "    <tr>\n",
       "      <th>0.0</th>\n",
       "      <td>3</td>\n",
       "    </tr>\n",
       "  </tbody>\n",
       "</table>\n",
       "</div>"
      ],
      "text/plain": [
       "     medu\n",
       "4.0   125\n",
       "2.0    88\n",
       "3.0    87\n",
       "1.0    47\n",
       "0.0     3"
      ]
     },
     "metadata": {},
     "output_type": "display_data"
    },
    {
     "name": "stdout",
     "output_type": "stream",
     "text": [
      "Column medu: found 5 unique values\n",
      "Column medu: found 2 null values\n"
     ]
    },
    {
     "data": {
      "text/plain": [
       "count    350.000000\n",
       "mean       2.811429\n",
       "std        1.091192\n",
       "min        0.000000\n",
       "25%        2.000000\n",
       "50%        3.000000\n",
       "75%        4.000000\n",
       "max        4.000000\n",
       "Name: medu, dtype: float64"
      ]
     },
     "metadata": {},
     "output_type": "display_data"
    }
   ],
   "source": [
    "# Previously a correlation between medu and score was found.\n",
    "review_col_info(stud, 'medu', True)"
   ]
  },
  {
   "cell_type": "code",
   "execution_count": 29,
   "id": "d11fd8b5",
   "metadata": {},
   "outputs": [],
   "source": [
    "# Remove empty lines, create temporary dataset:\n",
    "stud_tmp = stud[~stud['medu'].isnull()]"
   ]
  },
  {
   "cell_type": "code",
   "execution_count": 30,
   "id": "44d289a9",
   "metadata": {},
   "outputs": [
    {
     "name": "stdout",
     "output_type": "stream",
     "text": [
      "Count of outliers: 0\n"
     ]
    },
    {
     "data": {
      "text/plain": [
       "Series([], Name: medu, dtype: float64)"
      ]
     },
     "metadata": {},
     "output_type": "display_data"
    }
   ],
   "source": [
    "# Check the outliers:\n",
    "outliers = get_outlier(stud_tmp, 'medu')\n",
    "print('Count of outliers: {}'.format(outliers.count()))\n",
    "display(outliers)"
   ]
  },
  {
   "cell_type": "code",
   "execution_count": 31,
   "id": "969fe9e3",
   "metadata": {},
   "outputs": [
    {
     "data": {
      "text/plain": [
       "<AxesSubplot:title={'center':'score'}, xlabel='medu'>"
      ]
     },
     "execution_count": 31,
     "metadata": {},
     "output_type": "execute_result"
    },
    {
     "data": {
      "image/png": "[encoded data removed]",
      "text/plain": [
       "<Figure size 432x288 with 1 Axes>"
      ]
     },
     "metadata": {
      "needs_background": "light"
     },
     "output_type": "display_data"
    }
   ],
   "source": [
    "# Create a boxplot to look at the scores for each group:\n",
    "stud_tmp.boxplot(column = 'score', by = 'medu')"
   ]
  },
  {
   "cell_type": "code",
   "execution_count": 32,
   "id": "0fd65515",
   "metadata": {},
   "outputs": [
    {
     "data": {
      "text/html": [
       "<div>\n",
       "<style scoped>\n",
       "    .dataframe tbody tr th:only-of-type {\n",
       "        vertical-align: middle;\n",
       "    }\n",
       "\n",
       "    .dataframe tbody tr th {\n",
       "        vertical-align: top;\n",
       "    }\n",
       "\n",
       "    .dataframe thead th {\n",
       "        text-align: right;\n",
       "    }\n",
       "</style>\n",
       "<table border=\"1\" class=\"dataframe\">\n",
       "  <thead>\n",
       "    <tr style=\"text-align: right;\">\n",
       "      <th></th>\n",
       "      <th>school</th>\n",
       "      <th>gender</th>\n",
       "      <th>age</th>\n",
       "      <th>address</th>\n",
       "      <th>famsize</th>\n",
       "      <th>pstatus</th>\n",
       "      <th>medu</th>\n",
       "      <th>fedu</th>\n",
       "      <th>mprof</th>\n",
       "      <th>fprof</th>\n",
       "      <th>reason</th>\n",
       "      <th>custodian</th>\n",
       "      <th>traveltime</th>\n",
       "      <th>studytime</th>\n",
       "      <th>failures</th>\n",
       "      <th>schoolsup</th>\n",
       "      <th>famsup</th>\n",
       "      <th>paid</th>\n",
       "      <th>activities</th>\n",
       "      <th>nursery</th>\n",
       "      <th>studytime_granular</th>\n",
       "      <th>higher</th>\n",
       "      <th>internet</th>\n",
       "      <th>romantic</th>\n",
       "      <th>famrel</th>\n",
       "      <th>freetime</th>\n",
       "      <th>goout</th>\n",
       "      <th>health</th>\n",
       "      <th>absences</th>\n",
       "      <th>score</th>\n",
       "    </tr>\n",
       "  </thead>\n",
       "  <tbody>\n",
       "    <tr>\n",
       "      <th>127</th>\n",
       "      <td>GP</td>\n",
       "      <td>F</td>\n",
       "      <td>19</td>\n",
       "      <td>U</td>\n",
       "      <td>GT3</td>\n",
       "      <td>T</td>\n",
       "      <td>0.0</td>\n",
       "      <td>1.0</td>\n",
       "      <td>at_home</td>\n",
       "      <td>other</td>\n",
       "      <td>course</td>\n",
       "      <td>other</td>\n",
       "      <td>1.0</td>\n",
       "      <td>2.0</td>\n",
       "      <td>3.0</td>\n",
       "      <td>no</td>\n",
       "      <td>None</td>\n",
       "      <td>no</td>\n",
       "      <td>no</td>\n",
       "      <td>no</td>\n",
       "      <td>-6.0</td>\n",
       "      <td>no</td>\n",
       "      <td>no</td>\n",
       "      <td>no</td>\n",
       "      <td>3.0</td>\n",
       "      <td>4.0</td>\n",
       "      <td>2.0</td>\n",
       "      <td>5.0</td>\n",
       "      <td>2.0</td>\n",
       "      <td>45.0</td>\n",
       "    </tr>\n",
       "    <tr>\n",
       "      <th>249</th>\n",
       "      <td>GP</td>\n",
       "      <td>M</td>\n",
       "      <td>16</td>\n",
       "      <td>U</td>\n",
       "      <td>GT3</td>\n",
       "      <td>T</td>\n",
       "      <td>0.0</td>\n",
       "      <td>2.0</td>\n",
       "      <td>other</td>\n",
       "      <td>other</td>\n",
       "      <td>other</td>\n",
       "      <td>mother</td>\n",
       "      <td>1.0</td>\n",
       "      <td>1.0</td>\n",
       "      <td>0.0</td>\n",
       "      <td>no</td>\n",
       "      <td>no</td>\n",
       "      <td>yes</td>\n",
       "      <td>no</td>\n",
       "      <td>None</td>\n",
       "      <td>-3.0</td>\n",
       "      <td>yes</td>\n",
       "      <td>yes</td>\n",
       "      <td>no</td>\n",
       "      <td>4.0</td>\n",
       "      <td>3.0</td>\n",
       "      <td>2.0</td>\n",
       "      <td>5.0</td>\n",
       "      <td>0.0</td>\n",
       "      <td>75.0</td>\n",
       "    </tr>\n",
       "    <tr>\n",
       "      <th>324</th>\n",
       "      <td>GP</td>\n",
       "      <td>F</td>\n",
       "      <td>17</td>\n",
       "      <td>U</td>\n",
       "      <td>LE3</td>\n",
       "      <td>T</td>\n",
       "      <td>0.0</td>\n",
       "      <td>2.0</td>\n",
       "      <td>at_home</td>\n",
       "      <td>at_home</td>\n",
       "      <td>home</td>\n",
       "      <td>father</td>\n",
       "      <td>2.0</td>\n",
       "      <td>3.0</td>\n",
       "      <td>0.0</td>\n",
       "      <td>no</td>\n",
       "      <td>no</td>\n",
       "      <td>no</td>\n",
       "      <td>no</td>\n",
       "      <td>yes</td>\n",
       "      <td>-9.0</td>\n",
       "      <td>yes</td>\n",
       "      <td>yes</td>\n",
       "      <td>no</td>\n",
       "      <td>3.0</td>\n",
       "      <td>3.0</td>\n",
       "      <td>3.0</td>\n",
       "      <td>2.0</td>\n",
       "      <td>0.0</td>\n",
       "      <td>75.0</td>\n",
       "    </tr>\n",
       "  </tbody>\n",
       "</table>\n",
       "</div>"
      ],
      "text/plain": [
       "    school gender  age address famsize pstatus  medu  fedu    mprof    fprof  \\\n",
       "127     GP      F   19       U     GT3       T   0.0   1.0  at_home    other   \n",
       "249     GP      M   16       U     GT3       T   0.0   2.0    other    other   \n",
       "324     GP      F   17       U     LE3       T   0.0   2.0  at_home  at_home   \n",
       "\n",
       "     reason custodian  traveltime  studytime  failures schoolsup famsup paid  \\\n",
       "127  course     other         1.0        2.0       3.0        no   None   no   \n",
       "249   other    mother         1.0        1.0       0.0        no     no  yes   \n",
       "324    home    father         2.0        3.0       0.0        no     no   no   \n",
       "\n",
       "    activities nursery  studytime_granular higher internet romantic  famrel  \\\n",
       "127         no      no                -6.0     no       no       no     3.0   \n",
       "249         no    None                -3.0    yes      yes       no     4.0   \n",
       "324         no     yes                -9.0    yes      yes       no     3.0   \n",
       "\n",
       "     freetime  goout  health  absences  score  \n",
       "127       4.0    2.0     5.0       2.0   45.0  \n",
       "249       3.0    2.0     5.0       0.0   75.0  \n",
       "324       3.0    3.0     2.0       0.0   75.0  "
      ]
     },
     "execution_count": 32,
     "metadata": {},
     "output_type": "execute_result"
    }
   ],
   "source": [
    "# Review the data for the medu value = 0:\n",
    "stud_tmp[stud_tmp.medu == 0]"
   ]
  },
  {
   "cell_type": "markdown",
   "id": "229007ef",
   "metadata": {},
   "source": [
    "There are 3 rows only with medu = 0. The data are similar to erroneous, most likely, the education of the mother is not indicated."
   ]
  },
  {
   "cell_type": "code",
   "execution_count": 33,
   "id": "e99e3b83",
   "metadata": {},
   "outputs": [],
   "source": [
    "# Remove zero values from the temporary dataset:\n",
    "stud_tmp = stud_tmp[stud_tmp.medu > 0]"
   ]
  },
  {
   "cell_type": "code",
   "execution_count": 34,
   "id": "f19219a7",
   "metadata": {},
   "outputs": [],
   "source": [
    "# Remove outliers for medu = 2 from the temp dataset:\n",
    "stud_tmp = stud_tmp[~((stud_tmp.medu == 2) & (stud_tmp.score >= 90))]"
   ]
  },
  {
   "cell_type": "code",
   "execution_count": 35,
   "id": "c9346f95",
   "metadata": {},
   "outputs": [
    {
     "data": {
      "text/plain": [
       "<AxesSubplot:xlabel='medu'>"
      ]
     },
     "execution_count": 35,
     "metadata": {},
     "output_type": "execute_result"
    },
    {
     "data": {
      "image/png": "[encoded data removed]",
      "text/plain": [
       "<Figure size 432x288 with 1 Axes>"
      ]
     },
     "metadata": {
      "needs_background": "light"
     },
     "output_type": "display_data"
    }
   ],
   "source": [
    "# Review the average scores for each medu value:\n",
    "stud_tmp.groupby(['medu']).score.mean().plot(kind='bar')"
   ]
  },
  {
   "cell_type": "code",
   "execution_count": 36,
   "id": "77220320",
   "metadata": {},
   "outputs": [
    {
     "data": {
      "text/html": [
       "<div>\n",
       "<style scoped>\n",
       "    .dataframe tbody tr th:only-of-type {\n",
       "        vertical-align: middle;\n",
       "    }\n",
       "\n",
       "    .dataframe tbody tr th {\n",
       "        vertical-align: top;\n",
       "    }\n",
       "\n",
       "    .dataframe thead th {\n",
       "        text-align: right;\n",
       "    }\n",
       "</style>\n",
       "<table border=\"1\" class=\"dataframe\">\n",
       "  <thead>\n",
       "    <tr style=\"text-align: right;\">\n",
       "      <th></th>\n",
       "      <th>score</th>\n",
       "      <th>medu</th>\n",
       "    </tr>\n",
       "  </thead>\n",
       "  <tbody>\n",
       "    <tr>\n",
       "      <th>score</th>\n",
       "      <td>1.000000</td>\n",
       "      <td>0.215908</td>\n",
       "    </tr>\n",
       "    <tr>\n",
       "      <th>medu</th>\n",
       "      <td>0.215908</td>\n",
       "      <td>1.000000</td>\n",
       "    </tr>\n",
       "  </tbody>\n",
       "</table>\n",
       "</div>"
      ],
      "text/plain": [
       "          score      medu\n",
       "score  1.000000  0.215908\n",
       "medu   0.215908  1.000000"
      ]
     },
     "execution_count": 36,
     "metadata": {},
     "output_type": "execute_result"
    }
   ],
   "source": [
    "# The plot shows the dependence of score on Medu. Look at the correlation after data processing:\n",
    "pd.DataFrame(stud_tmp.medu, stud_tmp.score).reset_index().corr()"
   ]
  },
  {
   "cell_type": "markdown",
   "id": "ac1d68a7",
   "metadata": {},
   "source": [
    "There is a slight correlation. Test the null hypothesis that there is no relationship between the columns."
   ]
  },
  {
   "cell_type": "code",
   "execution_count": 37,
   "id": "efd5ea2c",
   "metadata": {},
   "outputs": [
    {
     "name": "stdout",
     "output_type": "stream",
     "text": [
      "Spearman p_value = 9.23848694032104e-05\n"
     ]
    }
   ],
   "source": [
    "# Check the dependence analytically according to Spearman (because this is a scale interval):\n",
    "print('Spearman p_value =',spearmanr(stud_tmp.medu, stud_tmp.score)[1])"
   ]
  },
  {
   "cell_type": "markdown",
   "id": "9080dcde",
   "metadata": {},
   "source": [
    "Since p_value < 0.05, the null hypothesis is rejected and the alternative hypothesis that there is a relationship between the values is accepted. The medu column should be included in the future model."
   ]
  },
  {
   "cell_type": "markdown",
   "id": "f19ea270",
   "metadata": {},
   "source": [
    "## 'fedu' column\n",
    "Father's education (0 - no, 1 - 4 grades, 2 - 5-9 grades, 3 - secondary special or 11 grades, 4 - higher)."
   ]
  },
  {
   "cell_type": "code",
   "execution_count": 38,
   "id": "0a2b73ca",
   "metadata": {},
   "outputs": [
    {
     "data": {
      "text/html": [
       "<div>\n",
       "<style scoped>\n",
       "    .dataframe tbody tr th:only-of-type {\n",
       "        vertical-align: middle;\n",
       "    }\n",
       "\n",
       "    .dataframe tbody tr th {\n",
       "        vertical-align: top;\n",
       "    }\n",
       "\n",
       "    .dataframe thead th {\n",
       "        text-align: right;\n",
       "    }\n",
       "</style>\n",
       "<table border=\"1\" class=\"dataframe\">\n",
       "  <thead>\n",
       "    <tr style=\"text-align: right;\">\n",
       "      <th></th>\n",
       "      <th>fedu</th>\n",
       "    </tr>\n",
       "  </thead>\n",
       "  <tbody>\n",
       "    <tr>\n",
       "      <th>2.0</th>\n",
       "      <td>94</td>\n",
       "    </tr>\n",
       "    <tr>\n",
       "      <th>3.0</th>\n",
       "      <td>89</td>\n",
       "    </tr>\n",
       "    <tr>\n",
       "      <th>4.0</th>\n",
       "      <td>80</td>\n",
       "    </tr>\n",
       "    <tr>\n",
       "      <th>1.0</th>\n",
       "      <td>65</td>\n",
       "    </tr>\n",
       "    <tr>\n",
       "      <th>0.0</th>\n",
       "      <td>2</td>\n",
       "    </tr>\n",
       "    <tr>\n",
       "      <th>40.0</th>\n",
       "      <td>1</td>\n",
       "    </tr>\n",
       "  </tbody>\n",
       "</table>\n",
       "</div>"
      ],
      "text/plain": [
       "      fedu\n",
       "2.0     94\n",
       "3.0     89\n",
       "4.0     80\n",
       "1.0     65\n",
       "0.0      2\n",
       "40.0     1"
      ]
     },
     "metadata": {},
     "output_type": "display_data"
    },
    {
     "name": "stdout",
     "output_type": "stream",
     "text": [
      "Column fedu: found 6 unique values\n",
      "Column fedu: found 21 null values\n"
     ]
    },
    {
     "data": {
      "text/plain": [
       "count    331.000000\n",
       "mean       2.658610\n",
       "std        2.324066\n",
       "min        0.000000\n",
       "25%        2.000000\n",
       "50%        3.000000\n",
       "75%        3.000000\n",
       "max       40.000000\n",
       "Name: fedu, dtype: float64"
      ]
     },
     "metadata": {},
     "output_type": "display_data"
    }
   ],
   "source": [
    "review_col_info(stud, 'fedu', True)"
   ]
  },
  {
   "cell_type": "code",
   "execution_count": 39,
   "id": "bf92def8",
   "metadata": {},
   "outputs": [],
   "source": [
    "# The obviously incorrect value = 40 is detected. Create a temporary dataset without fedu = 40 and without empty values:\n",
    "stud_tmp = stud[stud.fedu < 40]"
   ]
  },
  {
   "cell_type": "code",
   "execution_count": 40,
   "id": "6b0157bf",
   "metadata": {},
   "outputs": [
    {
     "name": "stdout",
     "output_type": "stream",
     "text": [
      "Count of outliers: 2\n"
     ]
    },
    {
     "data": {
      "text/plain": [
       "76     0.0\n",
       "171    0.0\n",
       "Name: fedu, dtype: float64"
      ]
     },
     "metadata": {},
     "output_type": "display_data"
    }
   ],
   "source": [
    "# Check the outliers:\n",
    "outliers = get_outlier(stud_tmp, 'fedu')\n",
    "print('Count of outliers: {}'.format(outliers.count()))\n",
    "display(outliers)"
   ]
  },
  {
   "cell_type": "code",
   "execution_count": 41,
   "id": "8348fc26",
   "metadata": {},
   "outputs": [],
   "source": [
    "# Remove outliers (rows with fedu = 0) from the temp dataset:\n",
    "stud_tmp = stud_tmp[stud_tmp.fedu > 0]"
   ]
  },
  {
   "cell_type": "code",
   "execution_count": 42,
   "id": "d8d06681",
   "metadata": {},
   "outputs": [
    {
     "data": {
      "text/plain": [
       "<AxesSubplot:title={'center':'score'}, xlabel='fedu'>"
      ]
     },
     "execution_count": 42,
     "metadata": {},
     "output_type": "execute_result"
    },
    {
     "data": {
      "image/png": "[encoded data removed]",
      "text/plain": [
       "<Figure size 432x288 with 1 Axes>"
      ]
     },
     "metadata": {
      "needs_background": "light"
     },
     "output_type": "display_data"
    }
   ],
   "source": [
    "# Create a boxplot\n",
    "stud_tmp.boxplot(column = 'score', by = 'fedu')"
   ]
  },
  {
   "cell_type": "code",
   "execution_count": 43,
   "id": "9988f449",
   "metadata": {},
   "outputs": [
    {
     "data": {
      "text/plain": [
       "<AxesSubplot:xlabel='fedu'>"
      ]
     },
     "execution_count": 43,
     "metadata": {},
     "output_type": "execute_result"
    },
    {
     "data": {
      "image/png": "[encoded data removed]",
      "text/plain": [
       "<Figure size 432x288 with 1 Axes>"
      ]
     },
     "metadata": {
      "needs_background": "light"
     },
     "output_type": "display_data"
    }
   ],
   "source": [
    "# Review the average scores for each Fedu value:\n",
    "stud_tmp.groupby(['fedu']).score.mean().plot(kind='bar')"
   ]
  },
  {
   "cell_type": "markdown",
   "id": "8a06c504",
   "metadata": {},
   "source": [
    "A very slight dependence of the level of education of the father on the scores of the child is visible."
   ]
  },
  {
   "cell_type": "code",
   "execution_count": 44,
   "id": "6dd7b414",
   "metadata": {},
   "outputs": [
    {
     "name": "stdout",
     "output_type": "stream",
     "text": [
      "Spearman p_value = 0.006319095740639738\n"
     ]
    }
   ],
   "source": [
    "# Check the dependence analytically according to Spearman (because this is a scale interval):\n",
    "print('Spearman p_value =',spearmanr(stud_tmp.fedu, stud_tmp.score)[1])"
   ]
  },
  {
   "cell_type": "markdown",
   "id": "792fa8cd",
   "metadata": {},
   "source": [
    "Since p_value < 0.05, the null hypothesis is rejected and the alternative hypothesis that there is a relationship between the values is accepted.<br>\n",
    "But a significant correlation was previously found between the medu and fedu columns. Correlate the cleared values."
   ]
  },
  {
   "cell_type": "code",
   "execution_count": 45,
   "id": "c428ef45",
   "metadata": {},
   "outputs": [
    {
     "data": {
      "text/html": [
       "<div>\n",
       "<style scoped>\n",
       "    .dataframe tbody tr th:only-of-type {\n",
       "        vertical-align: middle;\n",
       "    }\n",
       "\n",
       "    .dataframe tbody tr th {\n",
       "        vertical-align: top;\n",
       "    }\n",
       "\n",
       "    .dataframe thead th {\n",
       "        text-align: right;\n",
       "    }\n",
       "</style>\n",
       "<table border=\"1\" class=\"dataframe\">\n",
       "  <thead>\n",
       "    <tr style=\"text-align: right;\">\n",
       "      <th></th>\n",
       "      <th>fedu</th>\n",
       "      <th>medu</th>\n",
       "    </tr>\n",
       "  </thead>\n",
       "  <tbody>\n",
       "    <tr>\n",
       "      <th>fedu</th>\n",
       "      <td>1.000000</td>\n",
       "      <td>0.756799</td>\n",
       "    </tr>\n",
       "    <tr>\n",
       "      <th>medu</th>\n",
       "      <td>0.756799</td>\n",
       "      <td>1.000000</td>\n",
       "    </tr>\n",
       "  </tbody>\n",
       "</table>\n",
       "</div>"
      ],
      "text/plain": [
       "          fedu      medu\n",
       "fedu  1.000000  0.756799\n",
       "medu  0.756799  1.000000"
      ]
     },
     "execution_count": 45,
     "metadata": {},
     "output_type": "execute_result"
    }
   ],
   "source": [
    "# Removal of outliers and incorrect values for medu, performed earlier for a temporary dataset:\n",
    "stud_tmp = stud_tmp[stud_tmp.medu > 0]\n",
    "stud_tmp = stud_tmp[~((stud_tmp.medu == 2) & (stud_tmp.score >= 90))]\n",
    "# Correlation between columns medu and fedu in the updated temp dataset:\n",
    "pd.DataFrame(stud_tmp.medu, stud_tmp.fedu).reset_index().corr()"
   ]
  },
  {
   "cell_type": "markdown",
   "id": "f38c7d50",
   "metadata": {},
   "source": [
    "The correlation is high enough to allow only one column to be included in the model."
   ]
  },
  {
   "cell_type": "code",
   "execution_count": 46,
   "id": "b37bbaf7",
   "metadata": {},
   "outputs": [],
   "source": [
    "# Remove the column fedu from the future model:\n",
    "drop('fedu')"
   ]
  },
  {
   "cell_type": "markdown",
   "id": "2b27eb79",
   "metadata": {},
   "source": [
    "## 'traveltime' column\n",
    "Travel time to school (1 - <15 min., 2 - 15-30 min., 3 - 30-60 min., 4 - >60 min)."
   ]
  },
  {
   "cell_type": "code",
   "execution_count": 47,
   "id": "7b42da75",
   "metadata": {},
   "outputs": [
    {
     "data": {
      "text/html": [
       "<div>\n",
       "<style scoped>\n",
       "    .dataframe tbody tr th:only-of-type {\n",
       "        vertical-align: middle;\n",
       "    }\n",
       "\n",
       "    .dataframe tbody tr th {\n",
       "        vertical-align: top;\n",
       "    }\n",
       "\n",
       "    .dataframe thead th {\n",
       "        text-align: right;\n",
       "    }\n",
       "</style>\n",
       "<table border=\"1\" class=\"dataframe\">\n",
       "  <thead>\n",
       "    <tr style=\"text-align: right;\">\n",
       "      <th></th>\n",
       "      <th>traveltime</th>\n",
       "    </tr>\n",
       "  </thead>\n",
       "  <tbody>\n",
       "    <tr>\n",
       "      <th>1.0</th>\n",
       "      <td>219</td>\n",
       "    </tr>\n",
       "    <tr>\n",
       "      <th>2.0</th>\n",
       "      <td>86</td>\n",
       "    </tr>\n",
       "    <tr>\n",
       "      <th>3.0</th>\n",
       "      <td>17</td>\n",
       "    </tr>\n",
       "    <tr>\n",
       "      <th>4.0</th>\n",
       "      <td>7</td>\n",
       "    </tr>\n",
       "  </tbody>\n",
       "</table>\n",
       "</div>"
      ],
      "text/plain": [
       "     traveltime\n",
       "1.0         219\n",
       "2.0          86\n",
       "3.0          17\n",
       "4.0           7"
      ]
     },
     "metadata": {},
     "output_type": "display_data"
    },
    {
     "name": "stdout",
     "output_type": "stream",
     "text": [
      "Column traveltime: found 4 unique values\n",
      "Column traveltime: found 23 null values\n"
     ]
    },
    {
     "data": {
      "text/plain": [
       "count    329.000000\n",
       "mean       1.428571\n",
       "std        0.690907\n",
       "min        1.000000\n",
       "25%        1.000000\n",
       "50%        1.000000\n",
       "75%        2.000000\n",
       "max        4.000000\n",
       "Name: traveltime, dtype: float64"
      ]
     },
     "metadata": {},
     "output_type": "display_data"
    }
   ],
   "source": [
    "review_col_info(stud, 'traveltime', True)"
   ]
  },
  {
   "cell_type": "code",
   "execution_count": 48,
   "id": "f57d9360",
   "metadata": {},
   "outputs": [],
   "source": [
    "# Remove empty values, create a temporary dataset without these values:\n",
    "stud_tmp = stud[~stud['traveltime'].isnull()]"
   ]
  },
  {
   "cell_type": "code",
   "execution_count": 49,
   "id": "d26c005a",
   "metadata": {},
   "outputs": [
    {
     "name": "stdout",
     "output_type": "stream",
     "text": [
      "Count of outliers: 7\n"
     ]
    },
    {
     "data": {
      "text/plain": [
       "61     4.0\n",
       "108    4.0\n",
       "149    4.0\n",
       "164    4.0\n",
       "228    4.0\n",
       "327    4.0\n",
       "375    4.0\n",
       "Name: traveltime, dtype: float64"
      ]
     },
     "metadata": {},
     "output_type": "display_data"
    }
   ],
   "source": [
    "# Check the outliers:\n",
    "outliers = get_outlier(stud_tmp, 'traveltime')\n",
    "print('Count of outliers: {}'.format(outliers.count()))\n",
    "display(outliers)"
   ]
  },
  {
   "cell_type": "code",
   "execution_count": 50,
   "id": "10c85a27",
   "metadata": {},
   "outputs": [],
   "source": [
    "# All traveltime = 4 values are outliers. Remove them from the temporary dataset:\n",
    "stud_tmp = stud_tmp[stud_tmp.traveltime < 4]"
   ]
  },
  {
   "cell_type": "code",
   "execution_count": 51,
   "id": "c2de7d6f",
   "metadata": {},
   "outputs": [
    {
     "data": {
      "text/plain": [
       "<AxesSubplot:title={'center':'score'}, xlabel='traveltime'>"
      ]
     },
     "execution_count": 51,
     "metadata": {},
     "output_type": "execute_result"
    },
    {
     "data": {
      "image/png": "[encoded data removed]",
      "text/plain": [
       "<Figure size 432x288 with 1 Axes>"
      ]
     },
     "metadata": {
      "needs_background": "light"
     },
     "output_type": "display_data"
    }
   ],
   "source": [
    "# Create a boxplot:\n",
    "stud_tmp.boxplot(column = 'score', by = 'traveltime')"
   ]
  },
  {
   "cell_type": "code",
   "execution_count": 52,
   "id": "02170975",
   "metadata": {},
   "outputs": [],
   "source": [
    "# There is an outlier for traveltime = 3, remove it from the temporary dataset:\n",
    "stud_tmp = stud_tmp[~((stud_tmp.traveltime == 3) & (stud_tmp.score == 90))]"
   ]
  },
  {
   "cell_type": "markdown",
   "id": "0ccf1c7e",
   "metadata": {},
   "source": [
    "Boxplot shows that there is a slight dependence of scores on traveltime. It can be seen that among students who get home in less than 15 minutes, the scores are higher than among other groups."
   ]
  },
  {
   "cell_type": "code",
   "execution_count": 53,
   "id": "5198a88c",
   "metadata": {},
   "outputs": [
    {
     "data": {
      "text/plain": [
       "<AxesSubplot:xlabel='traveltime'>"
      ]
     },
     "execution_count": 53,
     "metadata": {},
     "output_type": "execute_result"
    },
    {
     "data": {
      "image/png": "[encoded data removed]",
      "text/plain": [
       "<Figure size 432x288 with 1 Axes>"
      ]
     },
     "metadata": {
      "needs_background": "light"
     },
     "output_type": "display_data"
    }
   ],
   "source": [
    "# Review the average scores for each traveltime value:\n",
    "stud_tmp.groupby(['traveltime']).score.mean().plot(kind='bar')"
   ]
  },
  {
   "cell_type": "markdown",
   "id": "49d8e740",
   "metadata": {},
   "source": [
    "On the plot of average scores for each traveltime, there is also a slight dependence: the more traveltime, the lower the scores of the student."
   ]
  },
  {
   "cell_type": "code",
   "execution_count": 54,
   "id": "81b046e2",
   "metadata": {},
   "outputs": [
    {
     "name": "stdout",
     "output_type": "stream",
     "text": [
      "Pearson p_value = 0.2649391834923166\n",
      "Spearman p_value = 0.24093598006339392\n",
      "Kendall p_value = 0.24447743048158\n"
     ]
    },
    {
     "data": {
      "text/html": [
       "<div>\n",
       "<style scoped>\n",
       "    .dataframe tbody tr th:only-of-type {\n",
       "        vertical-align: middle;\n",
       "    }\n",
       "\n",
       "    .dataframe tbody tr th {\n",
       "        vertical-align: top;\n",
       "    }\n",
       "\n",
       "    .dataframe thead th {\n",
       "        text-align: right;\n",
       "    }\n",
       "</style>\n",
       "<table border=\"1\" class=\"dataframe\">\n",
       "  <thead>\n",
       "    <tr style=\"text-align: right;\">\n",
       "      <th></th>\n",
       "      <th>score</th>\n",
       "      <th>traveltime</th>\n",
       "    </tr>\n",
       "  </thead>\n",
       "  <tbody>\n",
       "    <tr>\n",
       "      <th>score</th>\n",
       "      <td>1.000000</td>\n",
       "      <td>-0.183528</td>\n",
       "    </tr>\n",
       "    <tr>\n",
       "      <th>traveltime</th>\n",
       "      <td>-0.183528</td>\n",
       "      <td>1.000000</td>\n",
       "    </tr>\n",
       "  </tbody>\n",
       "</table>\n",
       "</div>"
      ],
      "text/plain": [
       "               score  traveltime\n",
       "score       1.000000   -0.183528\n",
       "traveltime -0.183528    1.000000"
      ]
     },
     "execution_count": 54,
     "metadata": {},
     "output_type": "execute_result"
    }
   ],
   "source": [
    "# Check the dependence of the columns analytically:\n",
    "print('Pearson p_value =',pearsonr(stud_tmp.traveltime, stud_tmp.score)[1])\n",
    "print('Spearman p_value =',spearmanr(stud_tmp.traveltime, stud_tmp.score)[1])\n",
    "print('Kendall p_value =',kendalltau(stud_tmp.traveltime, stud_tmp.score)[1])\n",
    "# Correlation:\n",
    "pd.DataFrame(stud_tmp.traveltime, stud_tmp.score).reset_index().corr()"
   ]
  },
  {
   "cell_type": "markdown",
   "id": "75e5520d",
   "metadata": {},
   "source": [
    "Since p_value > 0.05, the null hypothesis of column independence is accepted.<br>\n",
    "Therefore, scores are independent of traveltime and the traveltime column should not be included to a future model."
   ]
  },
  {
   "cell_type": "code",
   "execution_count": 55,
   "id": "8fa1b083",
   "metadata": {},
   "outputs": [],
   "source": [
    "# Remove the column traveltime:\n",
    "drop('traveltime')"
   ]
  },
  {
   "cell_type": "markdown",
   "id": "36d6bb24",
   "metadata": {},
   "source": [
    "## 'studytime' column\n",
    "The amount of time spent on extracurricular lessons (1 - <2 hours, 2 - 2-5 hours, 3 - 5-10 hours, 4 - >10 hours)."
   ]
  },
  {
   "cell_type": "code",
   "execution_count": 56,
   "id": "9c156d32",
   "metadata": {},
   "outputs": [
    {
     "data": {
      "text/html": [
       "<div>\n",
       "<style scoped>\n",
       "    .dataframe tbody tr th:only-of-type {\n",
       "        vertical-align: middle;\n",
       "    }\n",
       "\n",
       "    .dataframe tbody tr th {\n",
       "        vertical-align: top;\n",
       "    }\n",
       "\n",
       "    .dataframe thead th {\n",
       "        text-align: right;\n",
       "    }\n",
       "</style>\n",
       "<table border=\"1\" class=\"dataframe\">\n",
       "  <thead>\n",
       "    <tr style=\"text-align: right;\">\n",
       "      <th></th>\n",
       "      <th>studytime</th>\n",
       "    </tr>\n",
       "  </thead>\n",
       "  <tbody>\n",
       "    <tr>\n",
       "      <th>2.0</th>\n",
       "      <td>173</td>\n",
       "    </tr>\n",
       "    <tr>\n",
       "      <th>1.0</th>\n",
       "      <td>90</td>\n",
       "    </tr>\n",
       "    <tr>\n",
       "      <th>3.0</th>\n",
       "      <td>58</td>\n",
       "    </tr>\n",
       "    <tr>\n",
       "      <th>4.0</th>\n",
       "      <td>24</td>\n",
       "    </tr>\n",
       "  </tbody>\n",
       "</table>\n",
       "</div>"
      ],
      "text/plain": [
       "     studytime\n",
       "2.0        173\n",
       "1.0         90\n",
       "3.0         58\n",
       "4.0         24"
      ]
     },
     "metadata": {},
     "output_type": "display_data"
    },
    {
     "name": "stdout",
     "output_type": "stream",
     "text": [
      "Column studytime: found 4 unique values\n",
      "Column studytime: found 7 null values\n"
     ]
    },
    {
     "data": {
      "text/plain": [
       "count    345.000000\n",
       "mean       2.046377\n",
       "std        0.840919\n",
       "min        1.000000\n",
       "25%        1.000000\n",
       "50%        2.000000\n",
       "75%        2.000000\n",
       "max        4.000000\n",
       "Name: studytime, dtype: float64"
      ]
     },
     "metadata": {},
     "output_type": "display_data"
    }
   ],
   "source": [
    "review_col_info(stud, 'studytime', True)"
   ]
  },
  {
   "cell_type": "code",
   "execution_count": 57,
   "id": "8cbae307",
   "metadata": {},
   "outputs": [],
   "source": [
    "# Remove empty values, create a temporary dataset without these values:\n",
    "stud_tmp = stud[~stud['studytime'].isnull()]"
   ]
  },
  {
   "cell_type": "code",
   "execution_count": 58,
   "id": "29cbf439",
   "metadata": {},
   "outputs": [
    {
     "name": "stdout",
     "output_type": "stream",
     "text": [
      "Count of outliers: 24\n"
     ]
    },
    {
     "data": {
      "text/plain": [
       "47     4.0\n",
       "66     4.0\n",
       "67     4.0\n",
       "69     4.0\n",
       "70     4.0\n",
       "71     4.0\n",
       "76     4.0\n",
       "77     4.0\n",
       "94     4.0\n",
       "95     4.0\n",
       "105    4.0\n",
       "106    4.0\n",
       "108    4.0\n",
       "121    4.0\n",
       "204    4.0\n",
       "210    4.0\n",
       "256    4.0\n",
       "271    4.0\n",
       "282    4.0\n",
       "293    4.0\n",
       "298    4.0\n",
       "303    4.0\n",
       "330    4.0\n",
       "338    4.0\n",
       "Name: studytime, dtype: float64"
      ]
     },
     "metadata": {},
     "output_type": "display_data"
    }
   ],
   "source": [
    "# Check the outliers:\n",
    "outliers = get_outlier(stud_tmp, 'studytime')\n",
    "print('Count of outliers: {}'.format(outliers.count()))\n",
    "display(outliers)"
   ]
  },
  {
   "cell_type": "markdown",
   "id": "cca8ceed",
   "metadata": {},
   "source": [
    "All values of studytime = 4 are outliers. It's a lot of values, first these values should be analyzed."
   ]
  },
  {
   "cell_type": "code",
   "execution_count": 59,
   "id": "2427beba",
   "metadata": {},
   "outputs": [
    {
     "data": {
      "text/plain": [
       "<AxesSubplot:title={'center':'score'}, xlabel='studytime'>"
      ]
     },
     "execution_count": 59,
     "metadata": {},
     "output_type": "execute_result"
    },
    {
     "data": {
      "image/png": "[encoded data removed]",
      "text/plain": [
       "<Figure size 432x288 with 1 Axes>"
      ]
     },
     "metadata": {
      "needs_background": "light"
     },
     "output_type": "display_data"
    }
   ],
   "source": [
    "# Create a boxplot:\n",
    "stud_tmp.boxplot(column = 'score', by = 'studytime')"
   ]
  },
  {
   "cell_type": "markdown",
   "id": "2a1ec7fa",
   "metadata": {},
   "source": [
    "The plot shows that students in group 3 learn better than 4, and 1 - better than 2. The differences between 1 and 2, as well as between 3 and 4, are small. Let's combine the values into a group by creating a new column in the working dataset.\n",
    "Group 0 will include studytime = 1 and 2, group 1 will include values 3 and 4."
   ]
  },
  {
   "cell_type": "code",
   "execution_count": 60,
   "id": "518ca360",
   "metadata": {},
   "outputs": [],
   "source": [
    "# Create a new column with grouped values of studytime:\n",
    "stud['gr_studytime'] = stud.studytime.apply(lambda x: 0 if x<3 else 1)\n",
    "stud_tmp = stud[~stud['studytime'].isnull()]"
   ]
  },
  {
   "cell_type": "code",
   "execution_count": 61,
   "id": "e248ec37",
   "metadata": {},
   "outputs": [
    {
     "data": {
      "text/plain": [
       "<AxesSubplot:title={'center':'score'}, xlabel='gr_studytime'>"
      ]
     },
     "execution_count": 61,
     "metadata": {},
     "output_type": "execute_result"
    },
    {
     "data": {
      "image/png": "[encoded data removed]",
      "text/plain": [
       "<Figure size 432x288 with 1 Axes>"
      ]
     },
     "metadata": {
      "needs_background": "light"
     },
     "output_type": "display_data"
    }
   ],
   "source": [
    "# Create a boxplot for the new column gr_studytime:\n",
    "stud_tmp.boxplot(column = 'score', by = 'gr_studytime')"
   ]
  },
  {
   "cell_type": "markdown",
   "id": "d2dff02b",
   "metadata": {},
   "source": [
    "The plot clearly shows the relationship: students who study extra 5 or more hours a week study better than others."
   ]
  },
  {
   "cell_type": "code",
   "execution_count": 62,
   "id": "71c294a9",
   "metadata": {},
   "outputs": [
    {
     "name": "stdout",
     "output_type": "stream",
     "text": [
      "Pearson p_value = 0.0005317170077041298\n",
      "Spearman p_value = 0.0013449807221124514\n",
      "Kendall p_value = 0.001426420948164652\n"
     ]
    },
    {
     "data": {
      "text/html": [
       "<div>\n",
       "<style scoped>\n",
       "    .dataframe tbody tr th:only-of-type {\n",
       "        vertical-align: middle;\n",
       "    }\n",
       "\n",
       "    .dataframe tbody tr th {\n",
       "        vertical-align: top;\n",
       "    }\n",
       "\n",
       "    .dataframe thead th {\n",
       "        text-align: right;\n",
       "    }\n",
       "</style>\n",
       "<table border=\"1\" class=\"dataframe\">\n",
       "  <thead>\n",
       "    <tr style=\"text-align: right;\">\n",
       "      <th></th>\n",
       "      <th>score</th>\n",
       "      <th>gr_studytime</th>\n",
       "    </tr>\n",
       "  </thead>\n",
       "  <tbody>\n",
       "    <tr>\n",
       "      <th>score</th>\n",
       "      <td>1.000000</td>\n",
       "      <td>0.465512</td>\n",
       "    </tr>\n",
       "    <tr>\n",
       "      <th>gr_studytime</th>\n",
       "      <td>0.465512</td>\n",
       "      <td>1.000000</td>\n",
       "    </tr>\n",
       "  </tbody>\n",
       "</table>\n",
       "</div>"
      ],
      "text/plain": [
       "                 score  gr_studytime\n",
       "score         1.000000      0.465512\n",
       "gr_studytime  0.465512      1.000000"
      ]
     },
     "execution_count": 62,
     "metadata": {},
     "output_type": "execute_result"
    }
   ],
   "source": [
    "# Check the dependence of the columns analytically:\n",
    "print('Pearson p_value =',pearsonr(stud_tmp.gr_studytime, stud_tmp.score)[1])\n",
    "print('Spearman p_value =',spearmanr(stud_tmp.gr_studytime, stud_tmp.score)[1])\n",
    "print('Kendall p_value =',kendalltau(stud_tmp.gr_studytime, stud_tmp.score)[1])\n",
    "# Correlation:\n",
    "pd.DataFrame(stud_tmp.gr_studytime, stud_tmp.score).reset_index().corr()"
   ]
  },
  {
   "cell_type": "markdown",
   "id": "0b10026c",
   "metadata": {},
   "source": [
    "Since p_value < 0.05, the null hypothesis is rejected and the alternative hypothesis that there is a relationship between the values is accepted. There is also a strong correlation. The new gr_studytime column should be included in the future model.<br>\n",
    "The studytime column is less informative and should be removed."
   ]
  },
  {
   "cell_type": "code",
   "execution_count": 63,
   "id": "3a9c6d49",
   "metadata": {},
   "outputs": [],
   "source": [
    "# Remove the studytime column from the future model:\n",
    "drop('studytime')"
   ]
  },
  {
   "cell_type": "markdown",
   "id": "c9f110d7",
   "metadata": {},
   "source": [
    "## 'failures' column\n",
    "Number of extracurricular failures (n if 1<=n<=3, otherwise 0)."
   ]
  },
  {
   "cell_type": "code",
   "execution_count": 64,
   "id": "6c07e335",
   "metadata": {},
   "outputs": [
    {
     "data": {
      "text/html": [
       "<div>\n",
       "<style scoped>\n",
       "    .dataframe tbody tr th:only-of-type {\n",
       "        vertical-align: middle;\n",
       "    }\n",
       "\n",
       "    .dataframe tbody tr th {\n",
       "        vertical-align: top;\n",
       "    }\n",
       "\n",
       "    .dataframe thead th {\n",
       "        text-align: right;\n",
       "    }\n",
       "</style>\n",
       "<table border=\"1\" class=\"dataframe\">\n",
       "  <thead>\n",
       "    <tr style=\"text-align: right;\">\n",
       "      <th></th>\n",
       "      <th>failures</th>\n",
       "    </tr>\n",
       "  </thead>\n",
       "  <tbody>\n",
       "    <tr>\n",
       "      <th>0.0</th>\n",
       "      <td>273</td>\n",
       "    </tr>\n",
       "    <tr>\n",
       "      <th>1.0</th>\n",
       "      <td>38</td>\n",
       "    </tr>\n",
       "    <tr>\n",
       "      <th>2.0</th>\n",
       "      <td>11</td>\n",
       "    </tr>\n",
       "    <tr>\n",
       "      <th>3.0</th>\n",
       "      <td>10</td>\n",
       "    </tr>\n",
       "  </tbody>\n",
       "</table>\n",
       "</div>"
      ],
      "text/plain": [
       "     failures\n",
       "0.0       273\n",
       "1.0        38\n",
       "2.0        11\n",
       "3.0        10"
      ]
     },
     "metadata": {},
     "output_type": "display_data"
    },
    {
     "name": "stdout",
     "output_type": "stream",
     "text": [
      "Column failures: found 4 unique values\n",
      "Column failures: found 20 null values\n"
     ]
    },
    {
     "data": {
      "text/plain": [
       "count    332.000000\n",
       "mean       0.271084\n",
       "std        0.667779\n",
       "min        0.000000\n",
       "25%        0.000000\n",
       "50%        0.000000\n",
       "75%        0.000000\n",
       "max        3.000000\n",
       "Name: failures, dtype: float64"
      ]
     },
     "metadata": {},
     "output_type": "display_data"
    }
   ],
   "source": [
    "review_col_info(stud, 'failures', True)"
   ]
  },
  {
   "cell_type": "markdown",
   "id": "73b9dee3",
   "metadata": {},
   "source": [
    "It is not entirely clear what is meant by failures, and why there can be from 1 to 3."
   ]
  },
  {
   "cell_type": "code",
   "execution_count": 65,
   "id": "2b1c5106",
   "metadata": {},
   "outputs": [],
   "source": [
    "# Remove empty values, create a temporary dataset without these values:\n",
    "stud_tmp = stud[~stud['failures'].isnull()]"
   ]
  },
  {
   "cell_type": "markdown",
   "id": "58bd90bb",
   "metadata": {},
   "source": [
    "Most students do not have failures.<br> \n",
    "The distribution is far from normal."
   ]
  },
  {
   "cell_type": "code",
   "execution_count": 66,
   "id": "6d2ffd9b",
   "metadata": {},
   "outputs": [
    {
     "name": "stdout",
     "output_type": "stream",
     "text": [
      "Count of outliers: 59\n"
     ]
    },
    {
     "data": {
      "text/plain": [
       "2      3.0\n",
       "18     3.0\n",
       "25     2.0\n",
       "40     1.0\n",
       "44     1.0\n",
       "      ... \n",
       "370    2.0\n",
       "376    2.0\n",
       "384    1.0\n",
       "390    2.0\n",
       "392    3.0\n",
       "Name: failures, Length: 59, dtype: float64"
      ]
     },
     "metadata": {},
     "output_type": "display_data"
    }
   ],
   "source": [
    "# Check the outliers:\n",
    "outliers = get_outlier(stud_tmp, 'failures')\n",
    "print('Count of outliers: {}'.format(outliers.count()))\n",
    "display(outliers)"
   ]
  },
  {
   "cell_type": "markdown",
   "id": "e70a4bed",
   "metadata": {},
   "source": [
    "Lots of outliers!"
   ]
  },
  {
   "cell_type": "code",
   "execution_count": 67,
   "id": "1c5cb18e",
   "metadata": {},
   "outputs": [
    {
     "data": {
      "text/plain": [
       "<AxesSubplot:>"
      ]
     },
     "execution_count": 67,
     "metadata": {},
     "output_type": "execute_result"
    },
    {
     "data": {
      "image/png": "[encoded data removed]",
      "text/plain": [
       "<Figure size 432x288 with 1 Axes>"
      ]
     },
     "metadata": {
      "needs_background": "light"
     },
     "output_type": "display_data"
    }
   ],
   "source": [
    "# Review the histogram:\n",
    "stud_tmp.failures.hist(bins=7)"
   ]
  },
  {
   "cell_type": "markdown",
   "id": "3f5831b7",
   "metadata": {},
   "source": [
    "Due to the small number of students with failures compared to the successful ones, all failures values other than 0 were included in the outliers. Removing all outliers is incorrect, because the column will become uninformative in this case."
   ]
  },
  {
   "cell_type": "code",
   "execution_count": 68,
   "id": "99d90b47",
   "metadata": {},
   "outputs": [
    {
     "data": {
      "text/plain": [
       "<AxesSubplot:title={'center':'score'}, xlabel='failures'>"
      ]
     },
     "execution_count": 68,
     "metadata": {},
     "output_type": "execute_result"
    },
    {
     "data": {
      "image/png": "[encoded data removed]",
      "text/plain": [
       "<Figure size 432x288 with 1 Axes>"
      ]
     },
     "metadata": {
      "needs_background": "light"
     },
     "output_type": "display_data"
    }
   ],
   "source": [
    "# Create a boxplot:\n",
    "stud_tmp.boxplot(column = 'score', by = 'failures')"
   ]
  },
  {
   "cell_type": "markdown",
   "id": "2a5c8169",
   "metadata": {},
   "source": [
    "There is a clear inverse dependence of estimates on the number of failures.To neutralize outliers, a new column gr_failures were added, in which the value will be 0 if the student has no failures, and 1 if there are any number."
   ]
  },
  {
   "cell_type": "code",
   "execution_count": 69,
   "id": "07d7ae6d",
   "metadata": {},
   "outputs": [],
   "source": [
    "# Add a new column with grouped values:\n",
    "stud['gr_failures'] = stud.failures.apply(lambda x: 0 if x == 0 else 1)\n",
    "# Remove empty values by creating a temporary dataset:\n",
    "stud_tmp = stud[~stud['gr_failures'].isnull()]"
   ]
  },
  {
   "cell_type": "code",
   "execution_count": 70,
   "id": "d2b6633f",
   "metadata": {},
   "outputs": [
    {
     "data": {
      "text/plain": [
       "<AxesSubplot:title={'center':'score'}, xlabel='gr_failures'>"
      ]
     },
     "execution_count": 70,
     "metadata": {},
     "output_type": "execute_result"
    },
    {
     "data": {
      "image/png": "[encoded data removed]",
      "text/plain": [
       "<Figure size 432x288 with 1 Axes>"
      ]
     },
     "metadata": {
      "needs_background": "light"
     },
     "output_type": "display_data"
    }
   ],
   "source": [
    "# Create a boxplot for the new column:\n",
    "stud_tmp.boxplot(column = 'score', by = 'gr_failures')"
   ]
  },
  {
   "cell_type": "code",
   "execution_count": 71,
   "id": "1ef1e51e",
   "metadata": {},
   "outputs": [
    {
     "name": "stdout",
     "output_type": "stream",
     "text": [
      "Pearson p_value = 0.00010489691211505332\n",
      "Spearman p_value = 4.882599013160085e-05\n",
      "Kendall p_value = 5.762698581464905e-05\n"
     ]
    },
    {
     "data": {
      "text/html": [
       "<div>\n",
       "<style scoped>\n",
       "    .dataframe tbody tr th:only-of-type {\n",
       "        vertical-align: middle;\n",
       "    }\n",
       "\n",
       "    .dataframe tbody tr th {\n",
       "        vertical-align: top;\n",
       "    }\n",
       "\n",
       "    .dataframe thead th {\n",
       "        text-align: right;\n",
       "    }\n",
       "</style>\n",
       "<table border=\"1\" class=\"dataframe\">\n",
       "  <thead>\n",
       "    <tr style=\"text-align: right;\">\n",
       "      <th></th>\n",
       "      <th>score</th>\n",
       "      <th>gr_failures</th>\n",
       "    </tr>\n",
       "  </thead>\n",
       "  <tbody>\n",
       "    <tr>\n",
       "      <th>score</th>\n",
       "      <td>1.00000</td>\n",
       "      <td>-0.21815</td>\n",
       "    </tr>\n",
       "    <tr>\n",
       "      <th>gr_failures</th>\n",
       "      <td>-0.21815</td>\n",
       "      <td>1.00000</td>\n",
       "    </tr>\n",
       "  </tbody>\n",
       "</table>\n",
       "</div>"
      ],
      "text/plain": [
       "               score  gr_failures\n",
       "score        1.00000     -0.21815\n",
       "gr_failures -0.21815      1.00000"
      ]
     },
     "execution_count": 71,
     "metadata": {},
     "output_type": "execute_result"
    }
   ],
   "source": [
    "# Check the dependence of the columns analytically:\n",
    "print('Pearson p_value =',pearsonr(stud_tmp.gr_failures, stud_tmp.score)[1])\n",
    "print('Spearman p_value =',spearmanr(stud_tmp.gr_failures, stud_tmp.score)[1])\n",
    "print('Kendall p_value =',kendalltau(stud_tmp.gr_failures, stud_tmp.score)[1])\n",
    "# Correlation:\n",
    "pd.DataFrame(stud_tmp.gr_failures, stud_tmp.score).reset_index().corr()"
   ]
  },
  {
   "cell_type": "markdown",
   "id": "3484bbf3",
   "metadata": {},
   "source": [
    "Since p_value < 0.05, the null hypothesis is rejected and the alternative hypothesis that there is a relationship between the values is accepted. There is also a strong correlation. The new gr_failures column should be included in the future model.<br>\n",
    "The failures column is less informative and should be removed."
   ]
  },
  {
   "cell_type": "code",
   "execution_count": 72,
   "id": "ee400bb8",
   "metadata": {},
   "outputs": [],
   "source": [
    "# Remove the failures column fromthe future model:\n",
    "drop('failures')"
   ]
  },
  {
   "cell_type": "markdown",
   "id": "5ba3969f",
   "metadata": {},
   "source": [
    "## 'famrel' column\n",
    "Family relationships (from 1 - very bad to 5 - very good)."
   ]
  },
  {
   "cell_type": "code",
   "execution_count": 73,
   "id": "53081118",
   "metadata": {},
   "outputs": [
    {
     "data": {
      "text/html": [
       "<div>\n",
       "<style scoped>\n",
       "    .dataframe tbody tr th:only-of-type {\n",
       "        vertical-align: middle;\n",
       "    }\n",
       "\n",
       "    .dataframe tbody tr th {\n",
       "        vertical-align: top;\n",
       "    }\n",
       "\n",
       "    .dataframe thead th {\n",
       "        text-align: right;\n",
       "    }\n",
       "</style>\n",
       "<table border=\"1\" class=\"dataframe\">\n",
       "  <thead>\n",
       "    <tr style=\"text-align: right;\">\n",
       "      <th></th>\n",
       "      <th>famrel</th>\n",
       "    </tr>\n",
       "  </thead>\n",
       "  <tbody>\n",
       "    <tr>\n",
       "      <th>4.0</th>\n",
       "      <td>163</td>\n",
       "    </tr>\n",
       "    <tr>\n",
       "      <th>5.0</th>\n",
       "      <td>88</td>\n",
       "    </tr>\n",
       "    <tr>\n",
       "      <th>3.0</th>\n",
       "      <td>56</td>\n",
       "    </tr>\n",
       "    <tr>\n",
       "      <th>2.0</th>\n",
       "      <td>14</td>\n",
       "    </tr>\n",
       "    <tr>\n",
       "      <th>1.0</th>\n",
       "      <td>6</td>\n",
       "    </tr>\n",
       "    <tr>\n",
       "      <th>-1.0</th>\n",
       "      <td>1</td>\n",
       "    </tr>\n",
       "  </tbody>\n",
       "</table>\n",
       "</div>"
      ],
      "text/plain": [
       "      famrel\n",
       " 4.0     163\n",
       " 5.0      88\n",
       " 3.0      56\n",
       " 2.0      14\n",
       " 1.0       6\n",
       "-1.0       1"
      ]
     },
     "metadata": {},
     "output_type": "display_data"
    },
    {
     "name": "stdout",
     "output_type": "stream",
     "text": [
      "Column famrel: found 6 unique values\n",
      "Column famrel: found 24 null values\n"
     ]
    },
    {
     "data": {
      "text/plain": [
       "count    328.000000\n",
       "mean       3.942073\n",
       "std        0.921871\n",
       "min       -1.000000\n",
       "25%        4.000000\n",
       "50%        4.000000\n",
       "75%        5.000000\n",
       "max        5.000000\n",
       "Name: famrel, dtype: float64"
      ]
     },
     "metadata": {},
     "output_type": "display_data"
    }
   ],
   "source": [
    "review_col_info(stud, 'famrel', True)"
   ]
  },
  {
   "cell_type": "code",
   "execution_count": 74,
   "id": "72c77345",
   "metadata": {},
   "outputs": [],
   "source": [
    "# There is 1 incorrect value and a lot of empty values. Remove them, create a temporary dataset:\n",
    "stud_tmp = stud[stud.famrel > 0]"
   ]
  },
  {
   "cell_type": "code",
   "execution_count": 75,
   "id": "d045eb07",
   "metadata": {},
   "outputs": [
    {
     "name": "stdout",
     "output_type": "stream",
     "text": [
      "Count of outliers: 20\n"
     ]
    },
    {
     "data": {
      "text/plain": [
       "27     2.0\n",
       "37     2.0\n",
       "46     2.0\n",
       "60     2.0\n",
       "66     1.0\n",
       "79     2.0\n",
       "108    1.0\n",
       "141    2.0\n",
       "156    2.0\n",
       "184    1.0\n",
       "206    2.0\n",
       "207    1.0\n",
       "222    2.0\n",
       "238    2.0\n",
       "240    2.0\n",
       "278    2.0\n",
       "299    1.0\n",
       "357    1.0\n",
       "363    2.0\n",
       "391    2.0\n",
       "Name: famrel, dtype: float64"
      ]
     },
     "metadata": {},
     "output_type": "display_data"
    }
   ],
   "source": [
    "# Check the outliers:\n",
    "outliers = get_outlier(stud_tmp, 'famrel')\n",
    "print('Count of outliers: {}'.format(outliers.count()))\n",
    "display(outliers)"
   ]
  },
  {
   "cell_type": "markdown",
   "id": "c6e08043",
   "metadata": {},
   "source": [
    "Lots of outliers!"
   ]
  },
  {
   "cell_type": "code",
   "execution_count": 76,
   "id": "82a35b02",
   "metadata": {},
   "outputs": [
    {
     "data": {
      "text/plain": [
       "<AxesSubplot:>"
      ]
     },
     "execution_count": 76,
     "metadata": {},
     "output_type": "execute_result"
    },
    {
     "data": {
      "image/png": "[encoded data removed]",
      "text/plain": [
       "<Figure size 432x288 with 1 Axes>"
      ]
     },
     "metadata": {
      "needs_background": "light"
     },
     "output_type": "display_data"
    }
   ],
   "source": [
    "# Review the histogram:\n",
    "stud_tmp.famrel.hist(bins=10)"
   ]
  },
  {
   "cell_type": "code",
   "execution_count": 77,
   "id": "1a60d623",
   "metadata": {},
   "outputs": [],
   "source": [
    "# The distribution is similar to normal if values 1 and 2 (outliers) will be removed. Remove the outliers:\n",
    "stud_tmp = stud_tmp[stud_tmp.famrel > 2]"
   ]
  },
  {
   "cell_type": "code",
   "execution_count": 78,
   "id": "4d3ba48c",
   "metadata": {},
   "outputs": [
    {
     "data": {
      "text/plain": [
       "<AxesSubplot:title={'center':'score'}, xlabel='famrel'>"
      ]
     },
     "execution_count": 78,
     "metadata": {},
     "output_type": "execute_result"
    },
    {
     "data": {
      "image/png": "[encoded data removed]",
      "text/plain": [
       "<Figure size 432x288 with 1 Axes>"
      ]
     },
     "metadata": {
      "needs_background": "light"
     },
     "output_type": "display_data"
    }
   ],
   "source": [
    "# Create a boxplot:\n",
    "stud_tmp.boxplot(column = 'score', by = 'famrel')"
   ]
  },
  {
   "cell_type": "code",
   "execution_count": 79,
   "id": "d6c0b673",
   "metadata": {},
   "outputs": [],
   "source": [
    "# Remove the outlier for value 4:\n",
    "stud_tmp = stud_tmp[~((stud_tmp.famrel == 4) & (stud_tmp.score == 100))]"
   ]
  },
  {
   "cell_type": "code",
   "execution_count": 80,
   "id": "24005c2d",
   "metadata": {},
   "outputs": [
    {
     "name": "stdout",
     "output_type": "stream",
     "text": [
      "Spearman p_value = 0.09962723100070801\n",
      "Pearson p_value = 0.12064589964900468\n",
      "Kendall p_value = 0.10175344545604151\n"
     ]
    }
   ],
   "source": [
    "# Check the dependence of the columns analytically:\n",
    "print('Spearman p_value =',spearmanr(stud_tmp.famrel, stud_tmp.score)[1])\n",
    "print('Pearson p_value =',pearsonr(stud_tmp.famrel, stud_tmp.score)[1])\n",
    "print('Kendall p_value =',kendalltau(stud_tmp.famrel, stud_tmp.score)[1])"
   ]
  },
  {
   "cell_type": "markdown",
   "id": "21a72880",
   "metadata": {},
   "source": [
    "p_value > 0.05, there is no dependency between columns."
   ]
  },
  {
   "cell_type": "code",
   "execution_count": 81,
   "id": "5a08bd1c",
   "metadata": {},
   "outputs": [
    {
     "data": {
      "text/plain": [
       "<AxesSubplot:title={'center':'score'}, xlabel='famrel'>"
      ]
     },
     "execution_count": 81,
     "metadata": {},
     "output_type": "execute_result"
    },
    {
     "data": {
      "image/png": "[encoded data removed]",
      "text/plain": [
       "<Figure size 432x288 with 1 Axes>"
      ]
     },
     "metadata": {
      "needs_background": "light"
     },
     "output_type": "display_data"
    }
   ],
   "source": [
    "# Review the plot with data included scores = 1 and 2:\n",
    "stud.boxplot(column = 'score', by = 'famrel')"
   ]
  },
  {
   "cell_type": "markdown",
   "id": "92bcf1cd",
   "metadata": {},
   "source": [
    "The famrel column is not informative, remove it:"
   ]
  },
  {
   "cell_type": "code",
   "execution_count": 82,
   "id": "22f4691c",
   "metadata": {},
   "outputs": [],
   "source": [
    "# Remove the column:\n",
    "drop('famrel')"
   ]
  },
  {
   "cell_type": "markdown",
   "id": "0e634fd0",
   "metadata": {},
   "source": [
    "## 'freetime' column\n",
    "The amount of free time remaining after the lessons at school (from 1 - very little to 5 - very much)"
   ]
  },
  {
   "cell_type": "code",
   "execution_count": 83,
   "id": "27374fbd",
   "metadata": {},
   "outputs": [
    {
     "data": {
      "text/html": [
       "<div>\n",
       "<style scoped>\n",
       "    .dataframe tbody tr th:only-of-type {\n",
       "        vertical-align: middle;\n",
       "    }\n",
       "\n",
       "    .dataframe tbody tr th {\n",
       "        vertical-align: top;\n",
       "    }\n",
       "\n",
       "    .dataframe thead th {\n",
       "        text-align: right;\n",
       "    }\n",
       "</style>\n",
       "<table border=\"1\" class=\"dataframe\">\n",
       "  <thead>\n",
       "    <tr style=\"text-align: right;\">\n",
       "      <th></th>\n",
       "      <th>freetime</th>\n",
       "    </tr>\n",
       "  </thead>\n",
       "  <tbody>\n",
       "    <tr>\n",
       "      <th>3.0</th>\n",
       "      <td>132</td>\n",
       "    </tr>\n",
       "    <tr>\n",
       "      <th>4.0</th>\n",
       "      <td>102</td>\n",
       "    </tr>\n",
       "    <tr>\n",
       "      <th>2.0</th>\n",
       "      <td>59</td>\n",
       "    </tr>\n",
       "    <tr>\n",
       "      <th>5.0</th>\n",
       "      <td>35</td>\n",
       "    </tr>\n",
       "    <tr>\n",
       "      <th>1.0</th>\n",
       "      <td>16</td>\n",
       "    </tr>\n",
       "  </tbody>\n",
       "</table>\n",
       "</div>"
      ],
      "text/plain": [
       "     freetime\n",
       "3.0       132\n",
       "4.0       102\n",
       "2.0        59\n",
       "5.0        35\n",
       "1.0        16"
      ]
     },
     "metadata": {},
     "output_type": "display_data"
    },
    {
     "name": "stdout",
     "output_type": "stream",
     "text": [
      "Column freetime: found 5 unique values\n",
      "Column freetime: found 8 null values\n"
     ]
    },
    {
     "data": {
      "text/plain": [
       "count    344.000000\n",
       "mean       3.235465\n",
       "std        1.004258\n",
       "min        1.000000\n",
       "25%        3.000000\n",
       "50%        3.000000\n",
       "75%        4.000000\n",
       "max        5.000000\n",
       "Name: freetime, dtype: float64"
      ]
     },
     "metadata": {},
     "output_type": "display_data"
    }
   ],
   "source": [
    "review_col_info(stud, 'freetime', True)"
   ]
  },
  {
   "cell_type": "code",
   "execution_count": 84,
   "id": "816bbc24",
   "metadata": {},
   "outputs": [],
   "source": [
    "# Remove empty values, create a temporary dataset without these values:\n",
    "stud_tmp = stud[~stud['freetime'].isnull()]"
   ]
  },
  {
   "cell_type": "code",
   "execution_count": 85,
   "id": "b73419ec",
   "metadata": {},
   "outputs": [
    {
     "name": "stdout",
     "output_type": "stream",
     "text": [
      "Count of outliers: 16\n"
     ]
    },
    {
     "data": {
      "text/plain": [
       "7      1.0\n",
       "19     1.0\n",
       "68     1.0\n",
       "89     1.0\n",
       "95     1.0\n",
       "106    1.0\n",
       "111    1.0\n",
       "112    1.0\n",
       "189    1.0\n",
       "238    1.0\n",
       "260    1.0\n",
       "276    1.0\n",
       "293    1.0\n",
       "301    1.0\n",
       "315    1.0\n",
       "378    1.0\n",
       "Name: freetime, dtype: float64"
      ]
     },
     "metadata": {},
     "output_type": "display_data"
    }
   ],
   "source": [
    "# Check the outliers:\n",
    "outliers = get_outlier(stud_tmp, 'freetime')\n",
    "print('Count of outliers: {}'.format(outliers.count()))\n",
    "display(outliers)"
   ]
  },
  {
   "cell_type": "code",
   "execution_count": 86,
   "id": "a9ffdb80",
   "metadata": {},
   "outputs": [],
   "source": [
    "# Remove the outliers:\n",
    "stud_tmp = stud_tmp[stud_tmp.freetime > 1]"
   ]
  },
  {
   "cell_type": "code",
   "execution_count": 87,
   "id": "08838d1c",
   "metadata": {},
   "outputs": [
    {
     "data": {
      "text/plain": [
       "<AxesSubplot:title={'center':'score'}, xlabel='freetime'>"
      ]
     },
     "execution_count": 87,
     "metadata": {},
     "output_type": "execute_result"
    },
    {
     "data": {
      "image/png": "[encoded data removed]",
      "text/plain": [
       "<Figure size 432x288 with 1 Axes>"
      ]
     },
     "metadata": {
      "needs_background": "light"
     },
     "output_type": "display_data"
    }
   ],
   "source": [
    "# Create a boxplot:\n",
    "stud_tmp.boxplot(column = 'score', by = 'freetime')"
   ]
  },
  {
   "cell_type": "markdown",
   "id": "1c185d3e",
   "metadata": {},
   "source": [
    "There is no dependence on the plot."
   ]
  },
  {
   "cell_type": "code",
   "execution_count": 88,
   "id": "43516f77",
   "metadata": {},
   "outputs": [
    {
     "name": "stdout",
     "output_type": "stream",
     "text": [
      "Spearman p_value = 0.42479412633666336\n"
     ]
    }
   ],
   "source": [
    "# Check the dependence of the columns analytically:\n",
    "print('Spearman p_value =',spearmanr(stud_tmp.freetime, stud_tmp.score)[1])"
   ]
  },
  {
   "cell_type": "markdown",
   "id": "2c01a1d1",
   "metadata": {},
   "source": [
    "p_value > 0.05, there is no dependency between columns."
   ]
  },
  {
   "cell_type": "code",
   "execution_count": 89,
   "id": "981d1ce3",
   "metadata": {},
   "outputs": [],
   "source": [
    "# Remove the column:\n",
    "drop('freetime')"
   ]
  },
  {
   "cell_type": "markdown",
   "id": "cb2a06db",
   "metadata": {},
   "source": [
    "## 'goout' column\n",
    "The amount of time spent with friends (from 1 - very little to 5 - very much)."
   ]
  },
  {
   "cell_type": "code",
   "execution_count": 90,
   "id": "3f522985",
   "metadata": {},
   "outputs": [
    {
     "data": {
      "text/html": [
       "<div>\n",
       "<style scoped>\n",
       "    .dataframe tbody tr th:only-of-type {\n",
       "        vertical-align: middle;\n",
       "    }\n",
       "\n",
       "    .dataframe tbody tr th {\n",
       "        vertical-align: top;\n",
       "    }\n",
       "\n",
       "    .dataframe thead th {\n",
       "        text-align: right;\n",
       "    }\n",
       "</style>\n",
       "<table border=\"1\" class=\"dataframe\">\n",
       "  <thead>\n",
       "    <tr style=\"text-align: right;\">\n",
       "      <th></th>\n",
       "      <th>goout</th>\n",
       "    </tr>\n",
       "  </thead>\n",
       "  <tbody>\n",
       "    <tr>\n",
       "      <th>3.0</th>\n",
       "      <td>118</td>\n",
       "    </tr>\n",
       "    <tr>\n",
       "      <th>2.0</th>\n",
       "      <td>92</td>\n",
       "    </tr>\n",
       "    <tr>\n",
       "      <th>4.0</th>\n",
       "      <td>74</td>\n",
       "    </tr>\n",
       "    <tr>\n",
       "      <th>5.0</th>\n",
       "      <td>43</td>\n",
       "    </tr>\n",
       "    <tr>\n",
       "      <th>1.0</th>\n",
       "      <td>19</td>\n",
       "    </tr>\n",
       "  </tbody>\n",
       "</table>\n",
       "</div>"
      ],
      "text/plain": [
       "     goout\n",
       "3.0    118\n",
       "2.0     92\n",
       "4.0     74\n",
       "5.0     43\n",
       "1.0     19"
      ]
     },
     "metadata": {},
     "output_type": "display_data"
    },
    {
     "name": "stdout",
     "output_type": "stream",
     "text": [
      "Column goout: found 5 unique values\n",
      "Column goout: found 6 null values\n"
     ]
    },
    {
     "data": {
      "text/plain": [
       "count    346.000000\n",
       "mean       3.086705\n",
       "std        1.091998\n",
       "min        1.000000\n",
       "25%        2.000000\n",
       "50%        3.000000\n",
       "75%        4.000000\n",
       "max        5.000000\n",
       "Name: goout, dtype: float64"
      ]
     },
     "metadata": {},
     "output_type": "display_data"
    }
   ],
   "source": [
    "review_col_info(stud, 'goout', True)"
   ]
  },
  {
   "cell_type": "code",
   "execution_count": 91,
   "id": "acd1fc37",
   "metadata": {},
   "outputs": [],
   "source": [
    "# Remove empty values, create a temporary dataset without these values:\n",
    "stud_tmp = stud[~stud['goout'].isnull()]"
   ]
  },
  {
   "cell_type": "code",
   "execution_count": 92,
   "id": "71dcb9c8",
   "metadata": {},
   "outputs": [
    {
     "name": "stdout",
     "output_type": "stream",
     "text": [
      "Count of outliers: 0\n"
     ]
    },
    {
     "data": {
      "text/plain": [
       "Series([], Name: goout, dtype: float64)"
      ]
     },
     "metadata": {},
     "output_type": "display_data"
    }
   ],
   "source": [
    "# Check the outliers:\n",
    "outliers = get_outlier(stud_tmp, 'goout')\n",
    "print('Count of outliers: {}'.format(outliers.count()))\n",
    "display(outliers)"
   ]
  },
  {
   "cell_type": "code",
   "execution_count": 93,
   "id": "09b8a54d",
   "metadata": {},
   "outputs": [
    {
     "data": {
      "text/plain": [
       "<AxesSubplot:title={'center':'score'}, xlabel='goout'>"
      ]
     },
     "execution_count": 93,
     "metadata": {},
     "output_type": "execute_result"
    },
    {
     "data": {
      "image/png": "[encoded data removed]",
      "text/plain": [
       "<Figure size 432x288 with 1 Axes>"
      ]
     },
     "metadata": {
      "needs_background": "light"
     },
     "output_type": "display_data"
    }
   ],
   "source": [
    "# Create a boxplot:\n",
    "stud_tmp.boxplot(column = 'score', by = 'goout')"
   ]
  },
  {
   "cell_type": "markdown",
   "id": "b130fa27",
   "metadata": {},
   "source": [
    "The plot shows a slight dependence: the more time spent with friends, the worse the scores. At the same time, without communicating with friends (value = 1), grades will be worse than if you communicate moderately (value = 2)."
   ]
  },
  {
   "cell_type": "code",
   "execution_count": 94,
   "id": "7bb66d0d",
   "metadata": {},
   "outputs": [
    {
     "name": "stdout",
     "output_type": "stream",
     "text": [
      "Spearman p_value = 0.0004028891842706913\n"
     ]
    }
   ],
   "source": [
    "# Check the dependence of the columns analytically:\n",
    "print('Spearman p_value =',spearmanr(stud_tmp.goout, stud_tmp.score)[1])"
   ]
  },
  {
   "cell_type": "markdown",
   "id": "14018650",
   "metadata": {},
   "source": [
    "Since p_value < 0.05, the null hypothesis is rejected and the alternative hypothesis that there is a relationship between the columns is accepted. There is also a slight correlation. The column should be included in the future model."
   ]
  },
  {
   "cell_type": "markdown",
   "id": "ddadc9f3",
   "metadata": {},
   "source": [
    "## 'health' column\n",
    "Current health status (from 1 - very bad to 5 - very good)."
   ]
  },
  {
   "cell_type": "code",
   "execution_count": 95,
   "id": "6a80c62d",
   "metadata": {},
   "outputs": [
    {
     "data": {
      "text/html": [
       "<div>\n",
       "<style scoped>\n",
       "    .dataframe tbody tr th:only-of-type {\n",
       "        vertical-align: middle;\n",
       "    }\n",
       "\n",
       "    .dataframe tbody tr th {\n",
       "        vertical-align: top;\n",
       "    }\n",
       "\n",
       "    .dataframe thead th {\n",
       "        text-align: right;\n",
       "    }\n",
       "</style>\n",
       "<table border=\"1\" class=\"dataframe\">\n",
       "  <thead>\n",
       "    <tr style=\"text-align: right;\">\n",
       "      <th></th>\n",
       "      <th>health</th>\n",
       "    </tr>\n",
       "  </thead>\n",
       "  <tbody>\n",
       "    <tr>\n",
       "      <th>5.0</th>\n",
       "      <td>124</td>\n",
       "    </tr>\n",
       "    <tr>\n",
       "      <th>3.0</th>\n",
       "      <td>81</td>\n",
       "    </tr>\n",
       "    <tr>\n",
       "      <th>4.0</th>\n",
       "      <td>53</td>\n",
       "    </tr>\n",
       "    <tr>\n",
       "      <th>1.0</th>\n",
       "      <td>45</td>\n",
       "    </tr>\n",
       "    <tr>\n",
       "      <th>2.0</th>\n",
       "      <td>36</td>\n",
       "    </tr>\n",
       "  </tbody>\n",
       "</table>\n",
       "</div>"
      ],
      "text/plain": [
       "     health\n",
       "5.0     124\n",
       "3.0      81\n",
       "4.0      53\n",
       "1.0      45\n",
       "2.0      36"
      ]
     },
     "metadata": {},
     "output_type": "display_data"
    },
    {
     "name": "stdout",
     "output_type": "stream",
     "text": [
      "Column health: found 5 unique values\n",
      "Column health: found 13 null values\n"
     ]
    },
    {
     "data": {
      "text/plain": [
       "count    339.000000\n",
       "mean       3.516224\n",
       "std        1.412812\n",
       "min        1.000000\n",
       "25%        3.000000\n",
       "50%        4.000000\n",
       "75%        5.000000\n",
       "max        5.000000\n",
       "Name: health, dtype: float64"
      ]
     },
     "metadata": {},
     "output_type": "display_data"
    }
   ],
   "source": [
    "review_col_info(stud, 'health', True)"
   ]
  },
  {
   "cell_type": "code",
   "execution_count": 96,
   "id": "c4508ed8",
   "metadata": {},
   "outputs": [],
   "source": [
    "# Remove empty values, create a temporary dataset without these values:\n",
    "stud_tmp = stud[~stud['health'].isnull()]"
   ]
  },
  {
   "cell_type": "code",
   "execution_count": 97,
   "id": "637f51b9",
   "metadata": {},
   "outputs": [
    {
     "name": "stdout",
     "output_type": "stream",
     "text": [
      "Count of outliers: 0\n"
     ]
    },
    {
     "data": {
      "text/plain": [
       "Series([], Name: health, dtype: float64)"
      ]
     },
     "metadata": {},
     "output_type": "display_data"
    }
   ],
   "source": [
    "# Check the outliers:\n",
    "outliers = get_outlier(stud_tmp, 'health')\n",
    "print('Count of outliers: {}'.format(outliers.count()))\n",
    "display(outliers)"
   ]
  },
  {
   "cell_type": "code",
   "execution_count": 98,
   "id": "17eafa18",
   "metadata": {},
   "outputs": [
    {
     "data": {
      "text/plain": [
       "<AxesSubplot:title={'center':'score'}, xlabel='health'>"
      ]
     },
     "execution_count": 98,
     "metadata": {},
     "output_type": "execute_result"
    },
    {
     "data": {
      "image/png": "[encoded data removed]",
      "text/plain": [
       "<Figure size 432x288 with 1 Axes>"
      ]
     },
     "metadata": {
      "needs_background": "light"
     },
     "output_type": "display_data"
    }
   ],
   "source": [
    "# Create a boxplot:\n",
    "stud_tmp.boxplot(column = 'score', by = 'health')"
   ]
  },
  {
   "cell_type": "code",
   "execution_count": 99,
   "id": "4044bc8f",
   "metadata": {},
   "outputs": [],
   "source": [
    "# Remove outliers for health = 3:\n",
    "stud_tmp = stud_tmp[~((stud_tmp.health == 3) & (stud_tmp.score > 82))]"
   ]
  },
  {
   "cell_type": "code",
   "execution_count": 100,
   "id": "6837bb28",
   "metadata": {},
   "outputs": [
    {
     "data": {
      "text/plain": [
       "<AxesSubplot:xlabel='health'>"
      ]
     },
     "execution_count": 100,
     "metadata": {},
     "output_type": "execute_result"
    },
    {
     "data": {
      "image/png": "[encoded data removed]",
      "text/plain": [
       "<Figure size 432x288 with 1 Axes>"
      ]
     },
     "metadata": {
      "needs_background": "light"
     },
     "output_type": "display_data"
    }
   ],
   "source": [
    "# Review the average scores for each health value:\n",
    "stud_tmp.groupby(['health']).score.mean().plot(kind='bar', grid=True)"
   ]
  },
  {
   "cell_type": "markdown",
   "id": "684a7e93",
   "metadata": {},
   "source": [
    "There is some dependency of scores from health. It can be seen that students with health value = 1 or 2 learn best, and those with health value = 3 learn the worst."
   ]
  },
  {
   "cell_type": "code",
   "execution_count": 101,
   "id": "272533fd",
   "metadata": {},
   "outputs": [
    {
     "name": "stdout",
     "output_type": "stream",
     "text": [
      "Spearman p_value = 0.425447522004362\n"
     ]
    },
    {
     "data": {
      "text/html": [
       "<div>\n",
       "<style scoped>\n",
       "    .dataframe tbody tr th:only-of-type {\n",
       "        vertical-align: middle;\n",
       "    }\n",
       "\n",
       "    .dataframe tbody tr th {\n",
       "        vertical-align: top;\n",
       "    }\n",
       "\n",
       "    .dataframe thead th {\n",
       "        text-align: right;\n",
       "    }\n",
       "</style>\n",
       "<table border=\"1\" class=\"dataframe\">\n",
       "  <thead>\n",
       "    <tr style=\"text-align: right;\">\n",
       "      <th></th>\n",
       "      <th>score</th>\n",
       "      <th>health</th>\n",
       "    </tr>\n",
       "  </thead>\n",
       "  <tbody>\n",
       "    <tr>\n",
       "      <th>score</th>\n",
       "      <td>1.000000</td>\n",
       "      <td>-0.077457</td>\n",
       "    </tr>\n",
       "    <tr>\n",
       "      <th>health</th>\n",
       "      <td>-0.077457</td>\n",
       "      <td>1.000000</td>\n",
       "    </tr>\n",
       "  </tbody>\n",
       "</table>\n",
       "</div>"
      ],
      "text/plain": [
       "           score    health\n",
       "score   1.000000 -0.077457\n",
       "health -0.077457  1.000000"
      ]
     },
     "execution_count": 101,
     "metadata": {},
     "output_type": "execute_result"
    }
   ],
   "source": [
    "# Check the dependence of the columns analytically:\n",
    "print('Spearman p_value =',spearmanr(stud_tmp.health, stud_tmp.score)[1])\n",
    "# Correlation:\n",
    "pd.DataFrame(stud_tmp.health, stud_tmp.score).reset_index().corr()"
   ]
  },
  {
   "cell_type": "markdown",
   "id": "e24c9079",
   "metadata": {},
   "source": [
    "No dependencies were found. Let's try to distinguish two health groups: with health values = 3, 4, 5 and with values = 1, 2."
   ]
  },
  {
   "cell_type": "code",
   "execution_count": 102,
   "id": "0ab78dd2",
   "metadata": {},
   "outputs": [],
   "source": [
    "# Add a new column gr_health to the working dataset:\n",
    "stud['gr_health'] = stud.health.apply(lambda x: 0 if x < 3 else 1)\n",
    "# Remove empty values:\n",
    "stud_tmp = stud[~stud['gr_health'].isnull()]"
   ]
  },
  {
   "cell_type": "code",
   "execution_count": 103,
   "id": "1be03bed",
   "metadata": {},
   "outputs": [
    {
     "data": {
      "text/plain": [
       "<AxesSubplot:title={'center':'score'}, xlabel='gr_health'>"
      ]
     },
     "execution_count": 103,
     "metadata": {},
     "output_type": "execute_result"
    },
    {
     "data": {
      "image/png": "[encoded data removed]",
      "text/plain": [
       "<Figure size 432x288 with 1 Axes>"
      ]
     },
     "metadata": {
      "needs_background": "light"
     },
     "output_type": "display_data"
    }
   ],
   "source": [
    "# Create a boxplotfr the new column:\n",
    "stud_tmp.boxplot(column = 'score', by = 'gr_health')"
   ]
  },
  {
   "cell_type": "markdown",
   "id": "f93348cb",
   "metadata": {},
   "source": [
    "The dependence of the columns is visible on the plot."
   ]
  },
  {
   "cell_type": "code",
   "execution_count": 104,
   "id": "47d31b97",
   "metadata": {},
   "outputs": [
    {
     "name": "stdout",
     "output_type": "stream",
     "text": [
      "Spearman p_value = 0.017547089432185626\n"
     ]
    }
   ],
   "source": [
    "# Check the dependence of the columns analytically by Spearman:\n",
    "print('Spearman p_value =',spearmanr(stud_tmp.gr_health, stud_tmp.score)[1])"
   ]
  },
  {
   "cell_type": "markdown",
   "id": "a6f4c8b4",
   "metadata": {},
   "source": [
    "Since p_value < 0.05, the null hypothesis is rejected and the alternative hypothesis that there is a relationship between the columns is accepted. There is also some correlation. The new gr_health column should be included in the future model. The  column health is less informative and it can be removed."
   ]
  },
  {
   "cell_type": "code",
   "execution_count": 105,
   "id": "d69399fc",
   "metadata": {},
   "outputs": [],
   "source": [
    "# Remove the column health:\n",
    "drop('health')"
   ]
  },
  {
   "cell_type": "markdown",
   "id": "ba60d93d",
   "metadata": {},
   "source": [
    "## 'absences' column\n",
    "Number of missed classes."
   ]
  },
  {
   "cell_type": "code",
   "execution_count": 106,
   "id": "c2c2c9a5",
   "metadata": {},
   "outputs": [
    {
     "data": {
      "text/html": [
       "<div>\n",
       "<style scoped>\n",
       "    .dataframe tbody tr th:only-of-type {\n",
       "        vertical-align: middle;\n",
       "    }\n",
       "\n",
       "    .dataframe tbody tr th {\n",
       "        vertical-align: top;\n",
       "    }\n",
       "\n",
       "    .dataframe thead th {\n",
       "        text-align: right;\n",
       "    }\n",
       "</style>\n",
       "<table border=\"1\" class=\"dataframe\">\n",
       "  <thead>\n",
       "    <tr style=\"text-align: right;\">\n",
       "      <th></th>\n",
       "      <th>absences</th>\n",
       "    </tr>\n",
       "  </thead>\n",
       "  <tbody>\n",
       "    <tr>\n",
       "      <th>0.0</th>\n",
       "      <td>74</td>\n",
       "    </tr>\n",
       "    <tr>\n",
       "      <th>2.0</th>\n",
       "      <td>60</td>\n",
       "    </tr>\n",
       "    <tr>\n",
       "      <th>4.0</th>\n",
       "      <td>52</td>\n",
       "    </tr>\n",
       "    <tr>\n",
       "      <th>6.0</th>\n",
       "      <td>30</td>\n",
       "    </tr>\n",
       "    <tr>\n",
       "      <th>8.0</th>\n",
       "      <td>20</td>\n",
       "    </tr>\n",
       "    <tr>\n",
       "      <th>10.0</th>\n",
       "      <td>17</td>\n",
       "    </tr>\n",
       "    <tr>\n",
       "      <th>14.0</th>\n",
       "      <td>12</td>\n",
       "    </tr>\n",
       "    <tr>\n",
       "      <th>12.0</th>\n",
       "      <td>12</td>\n",
       "    </tr>\n",
       "    <tr>\n",
       "      <th>16.0</th>\n",
       "      <td>7</td>\n",
       "    </tr>\n",
       "    <tr>\n",
       "      <th>3.0</th>\n",
       "      <td>7</td>\n",
       "    </tr>\n",
       "  </tbody>\n",
       "</table>\n",
       "</div>"
      ],
      "text/plain": [
       "      absences\n",
       "0.0         74\n",
       "2.0         60\n",
       "4.0         52\n",
       "6.0         30\n",
       "8.0         20\n",
       "10.0        17\n",
       "14.0        12\n",
       "12.0        12\n",
       "16.0         7\n",
       "3.0          7"
      ]
     },
     "metadata": {},
     "output_type": "display_data"
    },
    {
     "name": "stdout",
     "output_type": "stream",
     "text": [
      "Column absences: found 36 unique values\n",
      "Column absences: found 10 null values\n"
     ]
    },
    {
     "data": {
      "text/plain": [
       "count    342.000000\n",
       "mean       8.090643\n",
       "std       24.704600\n",
       "min        0.000000\n",
       "25%        2.000000\n",
       "50%        4.000000\n",
       "75%        8.000000\n",
       "max      385.000000\n",
       "Name: absences, dtype: float64"
      ]
     },
     "metadata": {},
     "output_type": "display_data"
    }
   ],
   "source": [
    "review_col_info(stud, 'absences', True, True)"
   ]
  },
  {
   "cell_type": "code",
   "execution_count": 107,
   "id": "a5187038",
   "metadata": {},
   "outputs": [],
   "source": [
    "# Remove empty values, create a temporary dataset without these values:\n",
    "stud_tmp = stud[~stud['absences'].isnull()]"
   ]
  },
  {
   "cell_type": "code",
   "execution_count": 108,
   "id": "5e8caa08",
   "metadata": {},
   "outputs": [
    {
     "name": "stdout",
     "output_type": "stream",
     "text": [
      "Count of outliers: 27\n"
     ]
    },
    {
     "data": {
      "text/plain": [
       "40      25.0\n",
       "74      54.0\n",
       "89      18.0\n",
       "103     26.0\n",
       "118     20.0\n",
       "123     18.0\n",
       "183     56.0\n",
       "198     24.0\n",
       "203     18.0\n",
       "205     28.0\n",
       "216     22.0\n",
       "222    385.0\n",
       "234     18.0\n",
       "237     20.0\n",
       "260     21.0\n",
       "276     75.0\n",
       "277     22.0\n",
       "280     30.0\n",
       "281     19.0\n",
       "304     20.0\n",
       "307     38.0\n",
       "309     18.0\n",
       "311     20.0\n",
       "313     22.0\n",
       "315     40.0\n",
       "320     23.0\n",
       "390    212.0\n",
       "Name: absences, dtype: float64"
      ]
     },
     "metadata": {},
     "output_type": "display_data"
    }
   ],
   "source": [
    "# Check the outliers:\n",
    "outliers = get_outlier(stud_tmp, 'absences')\n",
    "print('Count of outliers: {}'.format(outliers.count()))\n",
    "display(outliers)"
   ]
  },
  {
   "cell_type": "code",
   "execution_count": 109,
   "id": "d0b6efa4",
   "metadata": {},
   "outputs": [],
   "source": [
    "# Remove outliers:\n",
    "stud_tmp = stud_tmp[~(stud_tmp.absences.isin(outliers.tolist()))]"
   ]
  },
  {
   "cell_type": "code",
   "execution_count": 110,
   "id": "2f2d3022",
   "metadata": {},
   "outputs": [
    {
     "data": {
      "text/plain": [
       "<AxesSubplot:>"
      ]
     },
     "execution_count": 110,
     "metadata": {},
     "output_type": "execute_result"
    },
    {
     "data": {
      "image/png": "[encoded data removed]",
      "text/plain": [
       "<Figure size 432x288 with 1 Axes>"
      ]
     },
     "metadata": {
      "needs_background": "light"
     },
     "output_type": "display_data"
    }
   ],
   "source": [
    "# Distribution histogram:\n",
    "stud_tmp.absences.hist(bins=40)"
   ]
  },
  {
   "cell_type": "markdown",
   "id": "58af638a",
   "metadata": {},
   "source": [
    "Dependence between columns is visible, but quantitatively one values \"fail\" between others."
   ]
  },
  {
   "cell_type": "code",
   "execution_count": 111,
   "id": "352b414b",
   "metadata": {},
   "outputs": [
    {
     "data": {
      "text/html": [
       "<div>\n",
       "<style scoped>\n",
       "    .dataframe tbody tr th:only-of-type {\n",
       "        vertical-align: middle;\n",
       "    }\n",
       "\n",
       "    .dataframe tbody tr th {\n",
       "        vertical-align: top;\n",
       "    }\n",
       "\n",
       "    .dataframe thead th {\n",
       "        text-align: right;\n",
       "    }\n",
       "</style>\n",
       "<table border=\"1\" class=\"dataframe\">\n",
       "  <thead>\n",
       "    <tr style=\"text-align: right;\">\n",
       "      <th></th>\n",
       "      <th>index</th>\n",
       "      <th>absences</th>\n",
       "    </tr>\n",
       "  </thead>\n",
       "  <tbody>\n",
       "    <tr>\n",
       "      <th>0</th>\n",
       "      <td>0.0</td>\n",
       "      <td>74</td>\n",
       "    </tr>\n",
       "    <tr>\n",
       "      <th>1</th>\n",
       "      <td>2.0</td>\n",
       "      <td>60</td>\n",
       "    </tr>\n",
       "    <tr>\n",
       "      <th>2</th>\n",
       "      <td>4.0</td>\n",
       "      <td>52</td>\n",
       "    </tr>\n",
       "    <tr>\n",
       "      <th>3</th>\n",
       "      <td>6.0</td>\n",
       "      <td>30</td>\n",
       "    </tr>\n",
       "    <tr>\n",
       "      <th>4</th>\n",
       "      <td>8.0</td>\n",
       "      <td>20</td>\n",
       "    </tr>\n",
       "    <tr>\n",
       "      <th>5</th>\n",
       "      <td>10.0</td>\n",
       "      <td>17</td>\n",
       "    </tr>\n",
       "    <tr>\n",
       "      <th>6</th>\n",
       "      <td>12.0</td>\n",
       "      <td>12</td>\n",
       "    </tr>\n",
       "    <tr>\n",
       "      <th>7</th>\n",
       "      <td>14.0</td>\n",
       "      <td>12</td>\n",
       "    </tr>\n",
       "    <tr>\n",
       "      <th>8</th>\n",
       "      <td>16.0</td>\n",
       "      <td>7</td>\n",
       "    </tr>\n",
       "    <tr>\n",
       "      <th>9</th>\n",
       "      <td>3.0</td>\n",
       "      <td>7</td>\n",
       "    </tr>\n",
       "    <tr>\n",
       "      <th>10</th>\n",
       "      <td>7.0</td>\n",
       "      <td>6</td>\n",
       "    </tr>\n",
       "    <tr>\n",
       "      <th>11</th>\n",
       "      <td>5.0</td>\n",
       "      <td>5</td>\n",
       "    </tr>\n",
       "    <tr>\n",
       "      <th>12</th>\n",
       "      <td>1.0</td>\n",
       "      <td>3</td>\n",
       "    </tr>\n",
       "    <tr>\n",
       "      <th>13</th>\n",
       "      <td>9.0</td>\n",
       "      <td>3</td>\n",
       "    </tr>\n",
       "    <tr>\n",
       "      <th>14</th>\n",
       "      <td>13.0</td>\n",
       "      <td>2</td>\n",
       "    </tr>\n",
       "    <tr>\n",
       "      <th>15</th>\n",
       "      <td>15.0</td>\n",
       "      <td>2</td>\n",
       "    </tr>\n",
       "    <tr>\n",
       "      <th>16</th>\n",
       "      <td>11.0</td>\n",
       "      <td>2</td>\n",
       "    </tr>\n",
       "    <tr>\n",
       "      <th>17</th>\n",
       "      <td>17.0</td>\n",
       "      <td>1</td>\n",
       "    </tr>\n",
       "  </tbody>\n",
       "</table>\n",
       "</div>"
      ],
      "text/plain": [
       "    index  absences\n",
       "0     0.0        74\n",
       "1     2.0        60\n",
       "2     4.0        52\n",
       "3     6.0        30\n",
       "4     8.0        20\n",
       "5    10.0        17\n",
       "6    12.0        12\n",
       "7    14.0        12\n",
       "8    16.0         7\n",
       "9     3.0         7\n",
       "10    7.0         6\n",
       "11    5.0         5\n",
       "12    1.0         3\n",
       "13    9.0         3\n",
       "14   13.0         2\n",
       "15   15.0         2\n",
       "16   11.0         2\n",
       "17   17.0         1"
      ]
     },
     "execution_count": 111,
     "metadata": {},
     "output_type": "execute_result"
    }
   ],
   "source": [
    "# Review the quantitative distribution of values:\n",
    "pd.DataFrame(stud_tmp.absences.value_counts()).reset_index()"
   ]
  },
  {
   "cell_type": "markdown",
   "id": "0c7ac229",
   "metadata": {},
   "source": [
    "The table shows that there are much more even values than odd ones nearby. It is likely that students have double pairs, and the teacher most often marks each pair, i.e. every other lesson.<br>\n",
    "Move the unfavorable odd gap values, add the new column dbl_absences to the dataset."
   ]
  },
  {
   "cell_type": "code",
   "execution_count": 112,
   "id": "bf233e62",
   "metadata": {},
   "outputs": [
    {
     "data": {
      "text/html": [
       "<div>\n",
       "<style scoped>\n",
       "    .dataframe tbody tr th:only-of-type {\n",
       "        vertical-align: middle;\n",
       "    }\n",
       "\n",
       "    .dataframe tbody tr th {\n",
       "        vertical-align: top;\n",
       "    }\n",
       "\n",
       "    .dataframe thead th {\n",
       "        text-align: right;\n",
       "    }\n",
       "</style>\n",
       "<table border=\"1\" class=\"dataframe\">\n",
       "  <thead>\n",
       "    <tr style=\"text-align: right;\">\n",
       "      <th></th>\n",
       "      <th>dbl_absences</th>\n",
       "      <th>absences</th>\n",
       "    </tr>\n",
       "  </thead>\n",
       "  <tbody>\n",
       "    <tr>\n",
       "      <th>0</th>\n",
       "      <td>6.0</td>\n",
       "      <td>6.0</td>\n",
       "    </tr>\n",
       "    <tr>\n",
       "      <th>1</th>\n",
       "      <td>4.0</td>\n",
       "      <td>4.0</td>\n",
       "    </tr>\n",
       "    <tr>\n",
       "      <th>2</th>\n",
       "      <td>10.0</td>\n",
       "      <td>10.0</td>\n",
       "    </tr>\n",
       "    <tr>\n",
       "      <th>3</th>\n",
       "      <td>2.0</td>\n",
       "      <td>2.0</td>\n",
       "    </tr>\n",
       "    <tr>\n",
       "      <th>4</th>\n",
       "      <td>4.0</td>\n",
       "      <td>4.0</td>\n",
       "    </tr>\n",
       "    <tr>\n",
       "      <th>...</th>\n",
       "      <td>...</td>\n",
       "      <td>...</td>\n",
       "    </tr>\n",
       "    <tr>\n",
       "      <th>390</th>\n",
       "      <td>212.0</td>\n",
       "      <td>212.0</td>\n",
       "    </tr>\n",
       "    <tr>\n",
       "      <th>391</th>\n",
       "      <td>4.0</td>\n",
       "      <td>3.0</td>\n",
       "    </tr>\n",
       "    <tr>\n",
       "      <th>392</th>\n",
       "      <td>4.0</td>\n",
       "      <td>3.0</td>\n",
       "    </tr>\n",
       "    <tr>\n",
       "      <th>393</th>\n",
       "      <td>0.0</td>\n",
       "      <td>0.0</td>\n",
       "    </tr>\n",
       "    <tr>\n",
       "      <th>394</th>\n",
       "      <td>6.0</td>\n",
       "      <td>5.0</td>\n",
       "    </tr>\n",
       "  </tbody>\n",
       "</table>\n",
       "<p>352 rows × 2 columns</p>\n",
       "</div>"
      ],
      "text/plain": [
       "     dbl_absences  absences\n",
       "0             6.0       6.0\n",
       "1             4.0       4.0\n",
       "2            10.0      10.0\n",
       "3             2.0       2.0\n",
       "4             4.0       4.0\n",
       "..            ...       ...\n",
       "390         212.0     212.0\n",
       "391           4.0       3.0\n",
       "392           4.0       3.0\n",
       "393           0.0       0.0\n",
       "394           6.0       5.0\n",
       "\n",
       "[352 rows x 2 columns]"
      ]
     },
     "execution_count": 112,
     "metadata": {},
     "output_type": "execute_result"
    }
   ],
   "source": [
    "# Add dbl_absences column:\n",
    "stud['dbl_absences'] = stud.absences.apply(lambda x: x+1 if x%2 == 1 else x)\n",
    "stud[['dbl_absences', 'absences']]"
   ]
  },
  {
   "cell_type": "code",
   "execution_count": 113,
   "id": "974b59ff",
   "metadata": {},
   "outputs": [
    {
     "name": "stdout",
     "output_type": "stream",
     "text": [
      "Count of outliers: 22\n"
     ]
    },
    {
     "data": {
      "text/plain": [
       "40      26.0\n",
       "74      54.0\n",
       "103     26.0\n",
       "118     20.0\n",
       "183     56.0\n",
       "198     24.0\n",
       "205     28.0\n",
       "216     22.0\n",
       "222    386.0\n",
       "237     20.0\n",
       "260     22.0\n",
       "276     76.0\n",
       "277     22.0\n",
       "280     30.0\n",
       "281     20.0\n",
       "304     20.0\n",
       "307     38.0\n",
       "311     20.0\n",
       "313     22.0\n",
       "315     40.0\n",
       "320     24.0\n",
       "390    212.0\n",
       "Name: dbl_absences, dtype: float64"
      ]
     },
     "metadata": {},
     "output_type": "display_data"
    }
   ],
   "source": [
    "# Remove empty values:\n",
    "stud_tmp = stud[~stud['dbl_absences'].isnull()]\n",
    "\n",
    "# Check and remove outliers (except value = 18 because value = 17 is not outlier):\n",
    "outliers = get_outlier(stud_tmp, 'dbl_absences')\n",
    "outliers = outliers[outliers>18]\n",
    "print('Count of outliers: {}'.format(outliers.count()))\n",
    "display(outliers)\n",
    "stud_tmp = stud_tmp[~(stud_tmp.dbl_absences.isin(outliers.tolist()))]"
   ]
  },
  {
   "cell_type": "code",
   "execution_count": 114,
   "id": "0fde1787",
   "metadata": {},
   "outputs": [
    {
     "data": {
      "text/plain": [
       "<AxesSubplot:>"
      ]
     },
     "execution_count": 114,
     "metadata": {},
     "output_type": "execute_result"
    },
    {
     "data": {
      "image/png": "[encoded data removed]",
      "text/plain": [
       "<Figure size 432x288 with 1 Axes>"
      ]
     },
     "metadata": {
      "needs_background": "light"
     },
     "output_type": "display_data"
    }
   ],
   "source": [
    "# Distribution histogram for new column:\n",
    "stud_tmp.dbl_absences.hist(bins=20)"
   ]
  },
  {
   "cell_type": "markdown",
   "id": "a8d2a8e6",
   "metadata": {},
   "source": [
    "This is half the normal distribution."
   ]
  },
  {
   "cell_type": "code",
   "execution_count": 115,
   "id": "69fcdde0",
   "metadata": {},
   "outputs": [
    {
     "data": {
      "text/plain": [
       "<AxesSubplot:title={'center':'score'}, xlabel='dbl_absences'>"
      ]
     },
     "execution_count": 115,
     "metadata": {},
     "output_type": "execute_result"
    },
    {
     "data": {
      "image/png": "[encoded data removed]",
      "text/plain": [
       "<Figure size 432x288 with 1 Axes>"
      ]
     },
     "metadata": {
      "needs_background": "light"
     },
     "output_type": "display_data"
    }
   ],
   "source": [
    "# Create a boxplot forthe new column:\n",
    "stud_tmp.boxplot(column = 'score', by = 'dbl_absences')"
   ]
  },
  {
   "cell_type": "code",
   "execution_count": 116,
   "id": "08918f10",
   "metadata": {},
   "outputs": [],
   "source": [
    "# Remove the outlier for dbl_absences = 12:\n",
    "stud_tmp = stud_tmp[~((stud_tmp.dbl_absences == 12) & (stud_tmp.score < 30))]"
   ]
  },
  {
   "cell_type": "code",
   "execution_count": 117,
   "id": "5a3a4be0",
   "metadata": {},
   "outputs": [
    {
     "name": "stdout",
     "output_type": "stream",
     "text": [
      "Pearson p_value = 0.011327936135542841\n"
     ]
    }
   ],
   "source": [
    "# Check the dependence of the columns analytically by Pearson:\n",
    "print('Pearson p_value =',pearsonr(stud_tmp.age, stud_tmp.score)[1])"
   ]
  },
  {
   "cell_type": "markdown",
   "id": "91b70df9",
   "metadata": {},
   "source": [
    "p_value < 0.05, which means that the dbl_absences column affects the scores. The updated dbl_absences column should be included in the future model and the absences column should be removed."
   ]
  },
  {
   "cell_type": "code",
   "execution_count": 118,
   "id": "9ef5cdef",
   "metadata": {},
   "outputs": [],
   "source": [
    "# Remove column absences:\n",
    "drop('absences')"
   ]
  },
  {
   "cell_type": "markdown",
   "id": "ff8d592c",
   "metadata": {},
   "source": [
    "# Analysis of nominative columns"
   ]
  },
  {
   "cell_type": "markdown",
   "id": "a9861b86",
   "metadata": {},
   "source": [
    "## 'school' column\n",
    "Abbreviation of the school in which the student studies"
   ]
  },
  {
   "cell_type": "code",
   "execution_count": 119,
   "id": "f63ae06b",
   "metadata": {},
   "outputs": [
    {
     "data": {
      "text/html": [
       "<div>\n",
       "<style scoped>\n",
       "    .dataframe tbody tr th:only-of-type {\n",
       "        vertical-align: middle;\n",
       "    }\n",
       "\n",
       "    .dataframe tbody tr th {\n",
       "        vertical-align: top;\n",
       "    }\n",
       "\n",
       "    .dataframe thead th {\n",
       "        text-align: right;\n",
       "    }\n",
       "</style>\n",
       "<table border=\"1\" class=\"dataframe\">\n",
       "  <thead>\n",
       "    <tr style=\"text-align: right;\">\n",
       "      <th></th>\n",
       "      <th>school</th>\n",
       "    </tr>\n",
       "  </thead>\n",
       "  <tbody>\n",
       "    <tr>\n",
       "      <th>GP</th>\n",
       "      <td>311</td>\n",
       "    </tr>\n",
       "    <tr>\n",
       "      <th>MS</th>\n",
       "      <td>41</td>\n",
       "    </tr>\n",
       "  </tbody>\n",
       "</table>\n",
       "</div>"
      ],
      "text/plain": [
       "    school\n",
       "GP     311\n",
       "MS      41"
      ]
     },
     "metadata": {},
     "output_type": "display_data"
    },
    {
     "name": "stdout",
     "output_type": "stream",
     "text": [
      "Column school: found 2 unique values\n",
      "Column school: found 0 null values\n"
     ]
    }
   ],
   "source": [
    "review_col_info(stud, 'school')"
   ]
  },
  {
   "cell_type": "code",
   "execution_count": 120,
   "id": "5ff8ff00",
   "metadata": {},
   "outputs": [
    {
     "data": {
      "text/plain": [
       "<AxesSubplot:title={'center':'score'}, xlabel='school'>"
      ]
     },
     "execution_count": 120,
     "metadata": {},
     "output_type": "execute_result"
    },
    {
     "data": {
      "image/png": "[encoded data removed]",
      "text/plain": [
       "<Figure size 432x288 with 1 Axes>"
      ]
     },
     "metadata": {
      "needs_background": "light"
     },
     "output_type": "display_data"
    }
   ],
   "source": [
    "# Create a boxplot - dependence of scores on the school:\n",
    "stud.boxplot(column = 'score', by = 'school')"
   ]
  },
  {
   "cell_type": "markdown",
   "id": "77947ba6",
   "metadata": {},
   "source": [
    "It can be seen that the students from one school score on average higher than the students from another. However, it is necessary to test the dependence statistically by constructing a null hypothesis: the distribution of the two samples of scores for different schools does not differ. In both samples > 30 people, so the statistics can be checked. <br>\n",
    "Check with two criteria: Student's (for normal distribution) and Mann-Whitney (for not normal). The check is done in two ways, because the distribution is conditionally normal."
   ]
  },
  {
   "cell_type": "code",
   "execution_count": 121,
   "id": "aae485ce",
   "metadata": {},
   "outputs": [
    {
     "name": "stdout",
     "output_type": "stream",
     "text": [
      "For threshold 0.05 by Student's criterion no significance: min(p_value) = 0.14278913636690213\n",
      "For threshold 0.05 by Mann-Whitney's criterion no significance: min(p_value) = 0.1353805466322333\n"
     ]
    }
   ],
   "source": [
    "# evaluation according to the Student criterion:\n",
    "print(get_stat_dif(stud, 'school', 'score', True)) \n",
    "# evaluation according to the Mann-Whitney criterion:\n",
    "print(get_stat_dif(stud, 'school', 'score', False))"
   ]
  },
  {
   "cell_type": "markdown",
   "id": "587c5fcf",
   "metadata": {},
   "source": [
    "p value > 0.05, therefore, the null hypothesis is not rejected, and there is no dependence between the columns."
   ]
  },
  {
   "cell_type": "code",
   "execution_count": 122,
   "id": "7f482c36",
   "metadata": {},
   "outputs": [],
   "source": [
    "# Remove the column:\n",
    "drop('school')"
   ]
  },
  {
   "cell_type": "markdown",
   "id": "9b5b792c",
   "metadata": {},
   "source": [
    "## 'gender' column\n",
    "Student gender ('F' - female, 'M' - male)"
   ]
  },
  {
   "cell_type": "code",
   "execution_count": 123,
   "id": "01413710",
   "metadata": {},
   "outputs": [
    {
     "data": {
      "text/html": [
       "<div>\n",
       "<style scoped>\n",
       "    .dataframe tbody tr th:only-of-type {\n",
       "        vertical-align: middle;\n",
       "    }\n",
       "\n",
       "    .dataframe tbody tr th {\n",
       "        vertical-align: top;\n",
       "    }\n",
       "\n",
       "    .dataframe thead th {\n",
       "        text-align: right;\n",
       "    }\n",
       "</style>\n",
       "<table border=\"1\" class=\"dataframe\">\n",
       "  <thead>\n",
       "    <tr style=\"text-align: right;\">\n",
       "      <th></th>\n",
       "      <th>gender</th>\n",
       "    </tr>\n",
       "  </thead>\n",
       "  <tbody>\n",
       "    <tr>\n",
       "      <th>F</th>\n",
       "      <td>182</td>\n",
       "    </tr>\n",
       "    <tr>\n",
       "      <th>M</th>\n",
       "      <td>170</td>\n",
       "    </tr>\n",
       "  </tbody>\n",
       "</table>\n",
       "</div>"
      ],
      "text/plain": [
       "   gender\n",
       "F     182\n",
       "M     170"
      ]
     },
     "metadata": {},
     "output_type": "display_data"
    },
    {
     "name": "stdout",
     "output_type": "stream",
     "text": [
      "Column gender: found 2 unique values\n",
      "Column gender: found 0 null values\n"
     ]
    }
   ],
   "source": [
    "review_col_info(stud, 'gender')"
   ]
  },
  {
   "cell_type": "code",
   "execution_count": 124,
   "id": "468f3566",
   "metadata": {},
   "outputs": [
    {
     "data": {
      "text/plain": [
       "<AxesSubplot:title={'center':'score'}, xlabel='gender'>"
      ]
     },
     "execution_count": 124,
     "metadata": {},
     "output_type": "execute_result"
    },
    {
     "data": {
      "image/png": "[encoded data removed]",
      "text/plain": [
       "<Figure size 432x288 with 1 Axes>"
      ]
     },
     "metadata": {
      "needs_background": "light"
     },
     "output_type": "display_data"
    }
   ],
   "source": [
    "# Create a boxplot:\n",
    "stud.boxplot(column = 'score', by = 'gender')"
   ]
  },
  {
   "cell_type": "markdown",
   "id": "8867e903",
   "metadata": {},
   "source": [
    "Check the dependence of the columns analytically."
   ]
  },
  {
   "cell_type": "code",
   "execution_count": 125,
   "id": "f24bfe8b",
   "metadata": {},
   "outputs": [
    {
     "name": "stdout",
     "output_type": "stream",
     "text": [
      "For threshold 0.05 by Student's criterion no significance: min(p_value) = 0.05481629433224236\n",
      "For threshold 0.05 by Mann-Whitney's criterion no significance: min(p_value) = 0.07998883274933247\n"
     ]
    }
   ],
   "source": [
    "# evaluation according to the Student criterion:\n",
    "print(get_stat_dif(stud, 'gender', 'score', True)) \n",
    "# evaluation according to the Mann-Whitney criterion:\n",
    "print(get_stat_dif(stud, 'gender', 'score', False))"
   ]
  },
  {
   "cell_type": "markdown",
   "id": "1ae24bb3",
   "metadata": {},
   "source": [
    "p_value is slightly higher than 0.05, there is practically no dependence of scores on gender at this threshold value."
   ]
  },
  {
   "cell_type": "code",
   "execution_count": 126,
   "id": "57eebdfd",
   "metadata": {},
   "outputs": [],
   "source": [
    "# Remove the column\n",
    "drop('gender')"
   ]
  },
  {
   "cell_type": "markdown",
   "id": "510be838",
   "metadata": {},
   "source": [
    "## 'address' column\n",
    "Student address type ('U' - city, 'R' - outside the city)."
   ]
  },
  {
   "cell_type": "code",
   "execution_count": 127,
   "id": "1b19905e",
   "metadata": {},
   "outputs": [
    {
     "data": {
      "text/html": [
       "<div>\n",
       "<style scoped>\n",
       "    .dataframe tbody tr th:only-of-type {\n",
       "        vertical-align: middle;\n",
       "    }\n",
       "\n",
       "    .dataframe tbody tr th {\n",
       "        vertical-align: top;\n",
       "    }\n",
       "\n",
       "    .dataframe thead th {\n",
       "        text-align: right;\n",
       "    }\n",
       "</style>\n",
       "<table border=\"1\" class=\"dataframe\">\n",
       "  <thead>\n",
       "    <tr style=\"text-align: right;\">\n",
       "      <th></th>\n",
       "      <th>address</th>\n",
       "    </tr>\n",
       "  </thead>\n",
       "  <tbody>\n",
       "    <tr>\n",
       "      <th>U</th>\n",
       "      <td>265</td>\n",
       "    </tr>\n",
       "    <tr>\n",
       "      <th>R</th>\n",
       "      <td>73</td>\n",
       "    </tr>\n",
       "  </tbody>\n",
       "</table>\n",
       "</div>"
      ],
      "text/plain": [
       "   address\n",
       "U      265\n",
       "R       73"
      ]
     },
     "metadata": {},
     "output_type": "display_data"
    },
    {
     "name": "stdout",
     "output_type": "stream",
     "text": [
      "Column address: found 2 unique values\n",
      "Column address: found 14 null values\n"
     ]
    }
   ],
   "source": [
    "review_col_info(stud, 'address')"
   ]
  },
  {
   "cell_type": "code",
   "execution_count": 128,
   "id": "d99c5a85",
   "metadata": {},
   "outputs": [],
   "source": [
    "# Remove empty values:\n",
    "stud_tmp = stud[~stud['address'].isnull()]"
   ]
  },
  {
   "cell_type": "code",
   "execution_count": 129,
   "id": "6019a657",
   "metadata": {},
   "outputs": [
    {
     "data": {
      "text/plain": [
       "<AxesSubplot:title={'center':'score'}, xlabel='address'>"
      ]
     },
     "execution_count": 129,
     "metadata": {},
     "output_type": "execute_result"
    },
    {
     "data": {
      "image/png": "[encoded data removed]",
      "text/plain": [
       "<Figure size 432x288 with 1 Axes>"
      ]
     },
     "metadata": {
      "needs_background": "light"
     },
     "output_type": "display_data"
    }
   ],
   "source": [
    "# Create a boxplot:\n",
    "stud_tmp.boxplot(column = 'score', by = 'address')"
   ]
  },
  {
   "cell_type": "markdown",
   "id": "7600847d",
   "metadata": {},
   "source": [
    "The graph shows that students living in the city have higher average grades. Check this analytically."
   ]
  },
  {
   "cell_type": "code",
   "execution_count": 130,
   "id": "9f51530e",
   "metadata": {},
   "outputs": [
    {
     "name": "stdout",
     "output_type": "stream",
     "text": [
      "For threshold 0.05 by Student's criterion there is significance: for ('U', 'R') p_value = 0.010954630500627841\n",
      "For threshold 0.05 by Mann-Whitney's criterion there is significance: for ('U', 'R') p_value = 0.011594499391942159\n"
     ]
    }
   ],
   "source": [
    "# evaluation according to the Student criterion:\n",
    "print(get_stat_dif(stud_tmp, 'address', 'score', True)) \n",
    "# evaluation according to the Mann-Whitney criterion:\n",
    "print(get_stat_dif(stud_tmp, 'address', 'score', False))"
   ]
  },
  {
   "cell_type": "markdown",
   "id": "606728cd",
   "metadata": {},
   "source": [
    "The dependence of scores on location was confirmed, the column should be included in a future model."
   ]
  },
  {
   "cell_type": "markdown",
   "id": "79ea55b4",
   "metadata": {},
   "source": [
    "## 'famsize' column\n",
    "Family size('LE3' <= 3, 'GT3' >3)."
   ]
  },
  {
   "cell_type": "code",
   "execution_count": 131,
   "id": "7481c980",
   "metadata": {},
   "outputs": [
    {
     "data": {
      "text/html": [
       "<div>\n",
       "<style scoped>\n",
       "    .dataframe tbody tr th:only-of-type {\n",
       "        vertical-align: middle;\n",
       "    }\n",
       "\n",
       "    .dataframe tbody tr th {\n",
       "        vertical-align: top;\n",
       "    }\n",
       "\n",
       "    .dataframe thead th {\n",
       "        text-align: right;\n",
       "    }\n",
       "</style>\n",
       "<table border=\"1\" class=\"dataframe\">\n",
       "  <thead>\n",
       "    <tr style=\"text-align: right;\">\n",
       "      <th></th>\n",
       "      <th>famsize</th>\n",
       "    </tr>\n",
       "  </thead>\n",
       "  <tbody>\n",
       "    <tr>\n",
       "      <th>GT3</th>\n",
       "      <td>228</td>\n",
       "    </tr>\n",
       "    <tr>\n",
       "      <th>LE3</th>\n",
       "      <td>100</td>\n",
       "    </tr>\n",
       "  </tbody>\n",
       "</table>\n",
       "</div>"
      ],
      "text/plain": [
       "     famsize\n",
       "GT3      228\n",
       "LE3      100"
      ]
     },
     "metadata": {},
     "output_type": "display_data"
    },
    {
     "name": "stdout",
     "output_type": "stream",
     "text": [
      "Column famsize: found 2 unique values\n",
      "Column famsize: found 24 null values\n"
     ]
    }
   ],
   "source": [
    "review_col_info(stud, 'famsize')"
   ]
  },
  {
   "cell_type": "code",
   "execution_count": 132,
   "id": "6a5c9aee",
   "metadata": {},
   "outputs": [],
   "source": [
    "# Remove empty values:\n",
    "stud_tmp = stud[~stud['famsize'].isnull()]"
   ]
  },
  {
   "cell_type": "code",
   "execution_count": 133,
   "id": "9e8ebb31",
   "metadata": {},
   "outputs": [
    {
     "data": {
      "text/plain": [
       "<AxesSubplot:title={'center':'score'}, xlabel='famsize'>"
      ]
     },
     "execution_count": 133,
     "metadata": {},
     "output_type": "execute_result"
    },
    {
     "data": {
      "image/png": "[encoded data removed]",
      "text/plain": [
       "<Figure size 432x288 with 1 Axes>"
      ]
     },
     "metadata": {
      "needs_background": "light"
     },
     "output_type": "display_data"
    }
   ],
   "source": [
    "# Create a boxplot:\n",
    "stud_tmp.boxplot(column = 'score', by = 'famsize')"
   ]
  },
  {
   "cell_type": "markdown",
   "id": "afabce26",
   "metadata": {},
   "source": [
    "According to the plot, the dependence is almost invisible. Check this analytically."
   ]
  },
  {
   "cell_type": "code",
   "execution_count": 134,
   "id": "9716ed1d",
   "metadata": {},
   "outputs": [
    {
     "name": "stdout",
     "output_type": "stream",
     "text": [
      "For threshold 0.05 by Student's criterion no significance: min(p_value) = 0.6456316209263082\n",
      "For threshold 0.05 by Mann-Whitney's criterion no significance: min(p_value) = 0.7319562219646617\n"
     ]
    }
   ],
   "source": [
    "# evaluation according to the Student criterion:\n",
    "print(get_stat_dif(stud_tmp, 'famsize', 'score', True)) \n",
    "# evaluation according to the Mann-Whitney criterion:\n",
    "print(get_stat_dif(stud_tmp, 'famsize', 'score', False))"
   ]
  },
  {
   "cell_type": "markdown",
   "id": "1b7a7f61",
   "metadata": {},
   "source": [
    "There are no dependencies between columns."
   ]
  },
  {
   "cell_type": "code",
   "execution_count": 135,
   "id": "93d0504a",
   "metadata": {},
   "outputs": [],
   "source": [
    "# Remove the column:\n",
    "drop('famsize')"
   ]
  },
  {
   "cell_type": "markdown",
   "id": "988a3aee",
   "metadata": {},
   "source": [
    "## 'pstatus' column\n",
    "Residence status of parentsr ('T' - living together 'A' - separated)"
   ]
  },
  {
   "cell_type": "code",
   "execution_count": 136,
   "id": "08147035",
   "metadata": {},
   "outputs": [
    {
     "data": {
      "text/html": [
       "<div>\n",
       "<style scoped>\n",
       "    .dataframe tbody tr th:only-of-type {\n",
       "        vertical-align: middle;\n",
       "    }\n",
       "\n",
       "    .dataframe tbody tr th {\n",
       "        vertical-align: top;\n",
       "    }\n",
       "\n",
       "    .dataframe thead th {\n",
       "        text-align: right;\n",
       "    }\n",
       "</style>\n",
       "<table border=\"1\" class=\"dataframe\">\n",
       "  <thead>\n",
       "    <tr style=\"text-align: right;\">\n",
       "      <th></th>\n",
       "      <th>pstatus</th>\n",
       "    </tr>\n",
       "  </thead>\n",
       "  <tbody>\n",
       "    <tr>\n",
       "      <th>T</th>\n",
       "      <td>277</td>\n",
       "    </tr>\n",
       "    <tr>\n",
       "      <th>A</th>\n",
       "      <td>34</td>\n",
       "    </tr>\n",
       "  </tbody>\n",
       "</table>\n",
       "</div>"
      ],
      "text/plain": [
       "   pstatus\n",
       "T      277\n",
       "A       34"
      ]
     },
     "metadata": {},
     "output_type": "display_data"
    },
    {
     "name": "stdout",
     "output_type": "stream",
     "text": [
      "Column pstatus: found 2 unique values\n",
      "Column pstatus: found 41 null values\n"
     ]
    }
   ],
   "source": [
    "review_col_info(stud, 'pstatus')"
   ]
  },
  {
   "cell_type": "code",
   "execution_count": 137,
   "id": "689f6b6b",
   "metadata": {},
   "outputs": [],
   "source": [
    "# Remove empty values:\n",
    "stud_tmp = stud[~stud['pstatus'].isnull()]"
   ]
  },
  {
   "cell_type": "code",
   "execution_count": 138,
   "id": "3d685b0e",
   "metadata": {},
   "outputs": [
    {
     "data": {
      "text/plain": [
       "<AxesSubplot:title={'center':'score'}, xlabel='pstatus'>"
      ]
     },
     "execution_count": 138,
     "metadata": {},
     "output_type": "execute_result"
    },
    {
     "data": {
      "image/png": "[encoded data removed]",
      "text/plain": [
       "<Figure size 432x288 with 1 Axes>"
      ]
     },
     "metadata": {
      "needs_background": "light"
     },
     "output_type": "display_data"
    }
   ],
   "source": [
    "# Create a boxplot:\n",
    "stud_tmp.boxplot(column = 'score', by = 'pstatus')"
   ]
  },
  {
   "cell_type": "markdown",
   "id": "5373a408",
   "metadata": {},
   "source": [
    "Visually, there is no dependence between the columns; for children whose parents are together, the spread of scores is wider. Check it analytically."
   ]
  },
  {
   "cell_type": "code",
   "execution_count": 139,
   "id": "1880262b",
   "metadata": {},
   "outputs": [
    {
     "name": "stdout",
     "output_type": "stream",
     "text": [
      "For threshold 0.05 by Student's criterion no significance: min(p_value) = 0.761856873862071\n",
      "For threshold 0.05 by Mann-Whitney's criterion no significance: min(p_value) = 0.9038144386442554\n"
     ]
    }
   ],
   "source": [
    "# evaluation according to the Student criterion:\n",
    "print(get_stat_dif(stud_tmp, 'pstatus', 'score', True)) \n",
    "# evaluation according to the Mann-Whitney criterion:\n",
    "print(get_stat_dif(stud_tmp, 'pstatus', 'score', False))"
   ]
  },
  {
   "cell_type": "markdown",
   "id": "3f31359d",
   "metadata": {},
   "source": [
    "There are no dependencies between columns."
   ]
  },
  {
   "cell_type": "code",
   "execution_count": 140,
   "id": "184e5614",
   "metadata": {},
   "outputs": [],
   "source": [
    "# Remove the column:\n",
    "drop('pstatus')"
   ]
  },
  {
   "cell_type": "markdown",
   "id": "a9cb6db6",
   "metadata": {},
   "source": [
    "## 'mprof' column\n",
    "Mother's profession ('teacher' - teacher, 'health' - healthcare, 'services' - civil service, 'at_home' - not working, 'other' - other)."
   ]
  },
  {
   "cell_type": "code",
   "execution_count": 141,
   "id": "8b39757f",
   "metadata": {},
   "outputs": [
    {
     "data": {
      "text/html": [
       "<div>\n",
       "<style scoped>\n",
       "    .dataframe tbody tr th:only-of-type {\n",
       "        vertical-align: middle;\n",
       "    }\n",
       "\n",
       "    .dataframe tbody tr th {\n",
       "        vertical-align: top;\n",
       "    }\n",
       "\n",
       "    .dataframe thead th {\n",
       "        text-align: right;\n",
       "    }\n",
       "</style>\n",
       "<table border=\"1\" class=\"dataframe\">\n",
       "  <thead>\n",
       "    <tr style=\"text-align: right;\">\n",
       "      <th></th>\n",
       "      <th>mprof</th>\n",
       "    </tr>\n",
       "  </thead>\n",
       "  <tbody>\n",
       "    <tr>\n",
       "      <th>other</th>\n",
       "      <td>115</td>\n",
       "    </tr>\n",
       "    <tr>\n",
       "      <th>services</th>\n",
       "      <td>90</td>\n",
       "    </tr>\n",
       "    <tr>\n",
       "      <th>teacher</th>\n",
       "      <td>51</td>\n",
       "    </tr>\n",
       "    <tr>\n",
       "      <th>at_home</th>\n",
       "      <td>49</td>\n",
       "    </tr>\n",
       "    <tr>\n",
       "      <th>health</th>\n",
       "      <td>30</td>\n",
       "    </tr>\n",
       "  </tbody>\n",
       "</table>\n",
       "</div>"
      ],
      "text/plain": [
       "          mprof\n",
       "other       115\n",
       "services     90\n",
       "teacher      51\n",
       "at_home      49\n",
       "health       30"
      ]
     },
     "metadata": {},
     "output_type": "display_data"
    },
    {
     "name": "stdout",
     "output_type": "stream",
     "text": [
      "Column mprof: found 5 unique values\n",
      "Column mprof: found 17 null values\n"
     ]
    }
   ],
   "source": [
    "review_col_info(stud, 'mprof')"
   ]
  },
  {
   "cell_type": "code",
   "execution_count": 142,
   "id": "06447700",
   "metadata": {},
   "outputs": [],
   "source": [
    "# Remove empty values:\n",
    "stud_tmp = stud[~stud['mprof'].isnull()]"
   ]
  },
  {
   "cell_type": "code",
   "execution_count": 143,
   "id": "c7540867",
   "metadata": {},
   "outputs": [
    {
     "data": {
      "text/plain": [
       "<AxesSubplot:title={'center':'score'}, xlabel='mprof'>"
      ]
     },
     "execution_count": 143,
     "metadata": {},
     "output_type": "execute_result"
    },
    {
     "data": {
      "image/png": "[encoded data removed]",
      "text/plain": [
       "<Figure size 432x288 with 1 Axes>"
      ]
     },
     "metadata": {
      "needs_background": "light"
     },
     "output_type": "display_data"
    }
   ],
   "source": [
    "# Create a boxplot:\n",
    "stud_tmp.boxplot(column = 'score', by = 'mprof')"
   ]
  },
  {
   "cell_type": "markdown",
   "id": "632b6c38",
   "metadata": {},
   "source": [
    "The plot shows that the scores differ for different groups of students. Check it analytically."
   ]
  },
  {
   "cell_type": "code",
   "execution_count": 144,
   "id": "a815af3d",
   "metadata": {},
   "outputs": [
    {
     "name": "stdout",
     "output_type": "stream",
     "text": [
      "For threshold 0.005 by Student's criterion there is significance: for ('other', 'health') p_value = 0.0017949217915780725\n",
      "For threshold 0.005 by Mann-Whitney's criterion there is significance: for ('other', 'health') p_value = 0.0032014312840457034\n"
     ]
    }
   ],
   "source": [
    "# evaluation according to the Student criterion:\n",
    "print(get_stat_dif(stud_tmp, 'mprof', 'score', True)) \n",
    "# evaluation according to the Mann-Whitney criterion:\n",
    "print(get_stat_dif(stud_tmp, 'mprof', 'score', False))"
   ]
  },
  {
   "cell_type": "markdown",
   "id": "61a66003",
   "metadata": {},
   "source": [
    "The mprof column has a very strong impact on scores, and should be included in the future model."
   ]
  },
  {
   "cell_type": "code",
   "execution_count": 145,
   "id": "d181c76a",
   "metadata": {},
   "outputs": [
    {
     "name": "stdout",
     "output_type": "stream",
     "text": [
      "For threshold 0.005 by Student's criterion there is significance: for ('other', 'teacher') p_value = 6.55626831894457e-19\n",
      "For threshold 0.005 by Mann-Whitney's criterion there is significance: for ('other', 'teacher') p_value = 4.801298912647178e-17\n"
     ]
    }
   ],
   "source": [
    "# Checking if there is a dependence of the mother's profession on her education:\n",
    "stud_tmp = stud_tmp[stud_tmp.medu > 0]\n",
    "# evaluation according to the Student criterion:\n",
    "print(get_stat_dif(stud_tmp, 'mprof', 'medu', True)) \n",
    "# evaluation according to the Mann-Whitney criterion:\n",
    "print(get_stat_dif(stud_tmp, 'mprof', 'medu', False))"
   ]
  },
  {
   "cell_type": "markdown",
   "id": "616f192e",
   "metadata": {},
   "source": [
    "The dependence of medu and mprof columns is very high. But since the details are unknown, let's leave both columns in the model."
   ]
  },
  {
   "cell_type": "markdown",
   "id": "bea655a8",
   "metadata": {},
   "source": [
    "## 'fprof' column\n",
    "Father's profession ('teacher' - teacher, 'health' - healthcare, 'services' - civil service, 'at_home' - not working, 'other' - other)."
   ]
  },
  {
   "cell_type": "code",
   "execution_count": 146,
   "id": "5bb0d54b",
   "metadata": {},
   "outputs": [
    {
     "data": {
      "text/html": [
       "<div>\n",
       "<style scoped>\n",
       "    .dataframe tbody tr th:only-of-type {\n",
       "        vertical-align: middle;\n",
       "    }\n",
       "\n",
       "    .dataframe tbody tr th {\n",
       "        vertical-align: top;\n",
       "    }\n",
       "\n",
       "    .dataframe thead th {\n",
       "        text-align: right;\n",
       "    }\n",
       "</style>\n",
       "<table border=\"1\" class=\"dataframe\">\n",
       "  <thead>\n",
       "    <tr style=\"text-align: right;\">\n",
       "      <th></th>\n",
       "      <th>fprof</th>\n",
       "    </tr>\n",
       "  </thead>\n",
       "  <tbody>\n",
       "    <tr>\n",
       "      <th>other</th>\n",
       "      <td>176</td>\n",
       "    </tr>\n",
       "    <tr>\n",
       "      <th>services</th>\n",
       "      <td>89</td>\n",
       "    </tr>\n",
       "    <tr>\n",
       "      <th>teacher</th>\n",
       "      <td>26</td>\n",
       "    </tr>\n",
       "    <tr>\n",
       "      <th>health</th>\n",
       "      <td>15</td>\n",
       "    </tr>\n",
       "    <tr>\n",
       "      <th>at_home</th>\n",
       "      <td>14</td>\n",
       "    </tr>\n",
       "  </tbody>\n",
       "</table>\n",
       "</div>"
      ],
      "text/plain": [
       "          fprof\n",
       "other       176\n",
       "services     89\n",
       "teacher      26\n",
       "health       15\n",
       "at_home      14"
      ]
     },
     "metadata": {},
     "output_type": "display_data"
    },
    {
     "name": "stdout",
     "output_type": "stream",
     "text": [
      "Column fprof: found 5 unique values\n",
      "Column fprof: found 32 null values\n"
     ]
    }
   ],
   "source": [
    "review_col_info(stud, 'fprof')"
   ]
  },
  {
   "cell_type": "code",
   "execution_count": 147,
   "id": "afd70e4e",
   "metadata": {},
   "outputs": [],
   "source": [
    "# Remove empty values:\n",
    "stud_tmp = stud[~stud['fprof'].isnull()]"
   ]
  },
  {
   "cell_type": "code",
   "execution_count": 148,
   "id": "2d98368c",
   "metadata": {},
   "outputs": [
    {
     "data": {
      "text/plain": [
       "<AxesSubplot:title={'center':'score'}, xlabel='fprof'>"
      ]
     },
     "execution_count": 148,
     "metadata": {},
     "output_type": "execute_result"
    },
    {
     "data": {
      "image/png": "[encoded data removed]",
      "text/plain": [
       "<Figure size 432x288 with 1 Axes>"
      ]
     },
     "metadata": {
      "needs_background": "light"
     },
     "output_type": "display_data"
    }
   ],
   "source": [
    "# Create a boxplot:\n",
    "stud_tmp.boxplot(column = 'score', by = 'fprof')"
   ]
  },
  {
   "cell_type": "markdown",
   "id": "74da876f",
   "metadata": {},
   "source": [
    "There is a clear dependence only when the student's father is a teacher. In other cases, the average value of the estimates is approximately the same."
   ]
  },
  {
   "cell_type": "code",
   "execution_count": 149,
   "id": "6e977ae6",
   "metadata": {},
   "outputs": [],
   "source": [
    "# Remove outliers for fprof = other:\n",
    "stud_tmp = stud_tmp[~((stud_tmp.fprof == 'other') & ((stud_tmp.score > 89) | (stud_tmp.score < 30)))]"
   ]
  },
  {
   "cell_type": "markdown",
   "id": "49d9af6d",
   "metadata": {},
   "source": [
    "Check dependence analytically."
   ]
  },
  {
   "cell_type": "code",
   "execution_count": 150,
   "id": "cc6d3189",
   "metadata": {},
   "outputs": [
    {
     "name": "stdout",
     "output_type": "stream",
     "text": [
      "For threshold 0.005 by Student's criterion there is significance: for ('other', 'teacher') p_value = 0.0001953244096575503\n",
      "For threshold 0.005 by Mann-Whitney's criterion there is significance: for ('other', 'teacher') p_value = 0.00141317578148363\n"
     ]
    }
   ],
   "source": [
    "# evaluation according to the Student criterion:\n",
    "print(get_stat_dif(stud_tmp, 'fprof', 'score', True)) \n",
    "# evaluation according to the Mann-Whitney criterion:\n",
    "print(get_stat_dif(stud_tmp, 'fprof', 'score', False))"
   ]
  },
  {
   "cell_type": "markdown",
   "id": "ff01ebb0",
   "metadata": {},
   "source": [
    "Visually, the dependence is confirmed only when the student's father is a teacher."
   ]
  },
  {
   "cell_type": "code",
   "execution_count": 151,
   "id": "4ec9af24",
   "metadata": {},
   "outputs": [
    {
     "name": "stdout",
     "output_type": "stream",
     "text": [
      "For threshold 0.008333333333333333 by Student's criterion no significance: min(p_value) = 0.3043525075033831\n",
      "For threshold 0.008333333333333333 by Mann-Whitney's criterion no significance: min(p_value) = 0.47424786444491807\n"
     ]
    }
   ],
   "source": [
    "# Delete 'teacher' value and analyze the dependence analytically:\n",
    "stud_tmp = stud_tmp[stud_tmp.fprof != 'teacher']\n",
    "# evaluation according to the Student criterion:\n",
    "print(get_stat_dif(stud_tmp, 'fprof', 'score', True)) \n",
    "# evaluation according to the Mann-Whitney criterion:\n",
    "print(get_stat_dif(stud_tmp, 'fprof', 'score', False))"
   ]
  },
  {
   "cell_type": "markdown",
   "id": "ef45730b",
   "metadata": {},
   "source": [
    "For other professions, there is no dependence, which is confirmed by the graph. It turns out that it is not the father's profession that affects the student's grades, but whether the father is a teacher.\n",
    "The number of teachers in the sample is < 30, the data will not be added into groups \"Teacher\"/\"Not a teacher\"."
   ]
  },
  {
   "cell_type": "code",
   "execution_count": 152,
   "id": "f1ef17b6",
   "metadata": {},
   "outputs": [],
   "source": [
    "# Remove the column:\n",
    "drop('fprof')"
   ]
  },
  {
   "cell_type": "markdown",
   "id": "5aba786f",
   "metadata": {},
   "source": [
    "## 'reason' column\n",
    "Reason for choosing a school ('home' - proximity to home, 'reputation' - reputation of the school, 'course' - educational program, 'other' - other)."
   ]
  },
  {
   "cell_type": "code",
   "execution_count": 153,
   "id": "0217b679",
   "metadata": {},
   "outputs": [
    {
     "data": {
      "text/html": [
       "<div>\n",
       "<style scoped>\n",
       "    .dataframe tbody tr th:only-of-type {\n",
       "        vertical-align: middle;\n",
       "    }\n",
       "\n",
       "    .dataframe tbody tr th {\n",
       "        vertical-align: top;\n",
       "    }\n",
       "\n",
       "    .dataframe thead th {\n",
       "        text-align: right;\n",
       "    }\n",
       "</style>\n",
       "<table border=\"1\" class=\"dataframe\">\n",
       "  <thead>\n",
       "    <tr style=\"text-align: right;\">\n",
       "      <th></th>\n",
       "      <th>reason</th>\n",
       "    </tr>\n",
       "  </thead>\n",
       "  <tbody>\n",
       "    <tr>\n",
       "      <th>course</th>\n",
       "      <td>119</td>\n",
       "    </tr>\n",
       "    <tr>\n",
       "      <th>reputation</th>\n",
       "      <td>96</td>\n",
       "    </tr>\n",
       "    <tr>\n",
       "      <th>home</th>\n",
       "      <td>89</td>\n",
       "    </tr>\n",
       "    <tr>\n",
       "      <th>other</th>\n",
       "      <td>33</td>\n",
       "    </tr>\n",
       "  </tbody>\n",
       "</table>\n",
       "</div>"
      ],
      "text/plain": [
       "            reason\n",
       "course         119\n",
       "reputation      96\n",
       "home            89\n",
       "other           33"
      ]
     },
     "metadata": {},
     "output_type": "display_data"
    },
    {
     "name": "stdout",
     "output_type": "stream",
     "text": [
      "Column reason: found 4 unique values\n",
      "Column reason: found 15 null values\n"
     ]
    }
   ],
   "source": [
    "review_col_info(stud, 'reason')"
   ]
  },
  {
   "cell_type": "code",
   "execution_count": 154,
   "id": "22d8d64e",
   "metadata": {},
   "outputs": [],
   "source": [
    "# Remove empty values:\n",
    "stud_tmp = stud[~stud['reason'].isnull()]"
   ]
  },
  {
   "cell_type": "code",
   "execution_count": 155,
   "id": "35f4874b",
   "metadata": {},
   "outputs": [
    {
     "data": {
      "text/plain": [
       "<AxesSubplot:title={'center':'score'}, xlabel='reason'>"
      ]
     },
     "execution_count": 155,
     "metadata": {},
     "output_type": "execute_result"
    },
    {
     "data": {
      "image/png": "[encoded data removed]",
      "text/plain": [
       "<Figure size 432x288 with 1 Axes>"
      ]
     },
     "metadata": {
      "needs_background": "light"
     },
     "output_type": "display_data"
    }
   ],
   "source": [
    "# Create a boxplot:\n",
    "stud_tmp.boxplot(column = 'score', by = 'reason')"
   ]
  },
  {
   "cell_type": "markdown",
   "id": "54b23df0",
   "metadata": {},
   "source": [
    "The plot shows a slight dependence of grades on the reputation of the school, otherwise the dependence is not visible."
   ]
  },
  {
   "cell_type": "code",
   "execution_count": 156,
   "id": "aec95bcd",
   "metadata": {},
   "outputs": [],
   "source": [
    "# Remove the outliers:\n",
    "stud_tmp = stud_tmp[~((stud_tmp.reason == 'other') & ((stud_tmp.score > 90) | (stud_tmp.score < 30)))]"
   ]
  },
  {
   "cell_type": "code",
   "execution_count": 157,
   "id": "7db2dbfe",
   "metadata": {},
   "outputs": [
    {
     "name": "stdout",
     "output_type": "stream",
     "text": [
      "For threshold 0.008333333333333333 by Student's criterion no significance: min(p_value) = 0.2532160066369303\n",
      "For threshold 0.008333333333333333 by Mann-Whitney's criterion no significance: min(p_value) = 0.2152145461214583\n"
     ]
    }
   ],
   "source": [
    "# Check the dependence on scores analytically.\n",
    "# evaluation according to the Student criterion:\n",
    "print(get_stat_dif(stud_tmp, 'reason', 'score', True)) \n",
    "# evaluation according to the Mann-Whitney criterion:\n",
    "print(get_stat_dif(stud_tmp, 'reason', 'score', False))"
   ]
  },
  {
   "cell_type": "markdown",
   "id": "e2a37a5d",
   "metadata": {},
   "source": [
    "There are no dependencies between columns."
   ]
  },
  {
   "cell_type": "code",
   "execution_count": 158,
   "id": "f57ecafc",
   "metadata": {},
   "outputs": [],
   "source": [
    "# Remove the column:\n",
    "drop('reason')"
   ]
  },
  {
   "cell_type": "markdown",
   "id": "32799087",
   "metadata": {},
   "source": [
    "## 'custodian' column\n",
    "Custodian of the student ('mother' - mother, 'father' - father, 'other' - other)."
   ]
  },
  {
   "cell_type": "code",
   "execution_count": 159,
   "id": "e4eb69a7",
   "metadata": {},
   "outputs": [
    {
     "data": {
      "text/html": [
       "<div>\n",
       "<style scoped>\n",
       "    .dataframe tbody tr th:only-of-type {\n",
       "        vertical-align: middle;\n",
       "    }\n",
       "\n",
       "    .dataframe tbody tr th {\n",
       "        vertical-align: top;\n",
       "    }\n",
       "\n",
       "    .dataframe thead th {\n",
       "        text-align: right;\n",
       "    }\n",
       "</style>\n",
       "<table border=\"1\" class=\"dataframe\">\n",
       "  <thead>\n",
       "    <tr style=\"text-align: right;\">\n",
       "      <th></th>\n",
       "      <th>custodian</th>\n",
       "    </tr>\n",
       "  </thead>\n",
       "  <tbody>\n",
       "    <tr>\n",
       "      <th>mother</th>\n",
       "      <td>225</td>\n",
       "    </tr>\n",
       "    <tr>\n",
       "      <th>father</th>\n",
       "      <td>78</td>\n",
       "    </tr>\n",
       "    <tr>\n",
       "      <th>other</th>\n",
       "      <td>20</td>\n",
       "    </tr>\n",
       "  </tbody>\n",
       "</table>\n",
       "</div>"
      ],
      "text/plain": [
       "        custodian\n",
       "mother        225\n",
       "father         78\n",
       "other          20"
      ]
     },
     "metadata": {},
     "output_type": "display_data"
    },
    {
     "name": "stdout",
     "output_type": "stream",
     "text": [
      "Column custodian: found 3 unique values\n",
      "Column custodian: found 29 null values\n"
     ]
    }
   ],
   "source": [
    "review_col_info(stud, 'custodian')"
   ]
  },
  {
   "cell_type": "code",
   "execution_count": 160,
   "id": "28d8f25a",
   "metadata": {},
   "outputs": [],
   "source": [
    "# Remove empty values:\n",
    "stud_tmp = stud[~stud['custodian'].isnull()]"
   ]
  },
  {
   "cell_type": "code",
   "execution_count": 161,
   "id": "fc969ab0",
   "metadata": {},
   "outputs": [
    {
     "data": {
      "text/plain": [
       "<AxesSubplot:title={'center':'score'}, xlabel='custodian'>"
      ]
     },
     "execution_count": 161,
     "metadata": {},
     "output_type": "execute_result"
    },
    {
     "data": {
      "image/png": "[encoded data removed]",
      "text/plain": [
       "<Figure size 432x288 with 1 Axes>"
      ]
     },
     "metadata": {
      "needs_background": "light"
     },
     "output_type": "display_data"
    }
   ],
   "source": [
    "# Create a boxplot:\n",
    "stud_tmp.boxplot(column = 'score', by = 'custodian')"
   ]
  },
  {
   "cell_type": "markdown",
   "id": "237f556e",
   "metadata": {},
   "source": [
    "The plot shows that the students who were brought up by fathers show the best scores, students who were brought up by mothers - slightly worse, and the worst scores were characteristic for the students who were raised by other people. However, there are less than 30 values in the other column, so the information is not entirely reliable. Check the dependence analytically."
   ]
  },
  {
   "cell_type": "code",
   "execution_count": 162,
   "id": "20203de6",
   "metadata": {},
   "outputs": [
    {
     "name": "stdout",
     "output_type": "stream",
     "text": [
      "For threshold 0.016666666666666666 by Student's criterion no significance: min(p_value) = 0.2773071542197519\n",
      "For threshold 0.016666666666666666 by Mann-Whitney's criterion no significance: min(p_value) = 0.19070779538210092\n"
     ]
    }
   ],
   "source": [
    "# evaluation according to the Student criterion:\n",
    "print(get_stat_dif(stud_tmp, 'custodian', 'score', True)) \n",
    "# evaluation according to the Mann-Whitney criterion:\n",
    "print(get_stat_dif(stud_tmp, 'custodian', 'score', False))"
   ]
  },
  {
   "cell_type": "markdown",
   "id": "af76336d",
   "metadata": {},
   "source": [
    "There is no dependency between columns."
   ]
  },
  {
   "cell_type": "code",
   "execution_count": 163,
   "id": "052a68ee",
   "metadata": {},
   "outputs": [],
   "source": [
    "# Remove the column:\n",
    "drop('custodian')"
   ]
  },
  {
   "cell_type": "markdown",
   "id": "bae73d70",
   "metadata": {},
   "source": [
    "## 'schoolsup' column\n",
    "Additional educational support (yes or no)."
   ]
  },
  {
   "cell_type": "code",
   "execution_count": 164,
   "id": "93af3297",
   "metadata": {},
   "outputs": [
    {
     "data": {
      "text/html": [
       "<div>\n",
       "<style scoped>\n",
       "    .dataframe tbody tr th:only-of-type {\n",
       "        vertical-align: middle;\n",
       "    }\n",
       "\n",
       "    .dataframe tbody tr th {\n",
       "        vertical-align: top;\n",
       "    }\n",
       "\n",
       "    .dataframe thead th {\n",
       "        text-align: right;\n",
       "    }\n",
       "</style>\n",
       "<table border=\"1\" class=\"dataframe\">\n",
       "  <thead>\n",
       "    <tr style=\"text-align: right;\">\n",
       "      <th></th>\n",
       "      <th>schoolsup</th>\n",
       "    </tr>\n",
       "  </thead>\n",
       "  <tbody>\n",
       "    <tr>\n",
       "      <th>no</th>\n",
       "      <td>295</td>\n",
       "    </tr>\n",
       "    <tr>\n",
       "      <th>yes</th>\n",
       "      <td>48</td>\n",
       "    </tr>\n",
       "  </tbody>\n",
       "</table>\n",
       "</div>"
      ],
      "text/plain": [
       "     schoolsup\n",
       "no         295\n",
       "yes         48"
      ]
     },
     "metadata": {},
     "output_type": "display_data"
    },
    {
     "name": "stdout",
     "output_type": "stream",
     "text": [
      "Column schoolsup: found 2 unique values\n",
      "Column schoolsup: found 9 null values\n"
     ]
    }
   ],
   "source": [
    "review_col_info(stud, 'schoolsup')"
   ]
  },
  {
   "cell_type": "code",
   "execution_count": 165,
   "id": "86506183",
   "metadata": {},
   "outputs": [],
   "source": [
    "# Remove empty values:\n",
    "stud_tmp = stud[~stud['schoolsup'].isnull()]"
   ]
  },
  {
   "cell_type": "code",
   "execution_count": 166,
   "id": "c7e11b44",
   "metadata": {},
   "outputs": [
    {
     "data": {
      "text/plain": [
       "<AxesSubplot:title={'center':'score'}, xlabel='schoolsup'>"
      ]
     },
     "execution_count": 166,
     "metadata": {},
     "output_type": "execute_result"
    },
    {
     "data": {
      "image/png": "[encoded data removed]",
      "text/plain": [
       "<Figure size 432x288 with 1 Axes>"
      ]
     },
     "metadata": {
      "needs_background": "light"
     },
     "output_type": "display_data"
    }
   ],
   "source": [
    "# Create a boxplot:\n",
    "stud_tmp.boxplot(column = 'score', by = 'schoolsup')"
   ]
  },
  {
   "cell_type": "code",
   "execution_count": 167,
   "id": "664f9598",
   "metadata": {},
   "outputs": [],
   "source": [
    "# Remove the outlier for the value = yes:\n",
    "stud_tmp = stud_tmp[~((stud_tmp.schoolsup == 'yes') & (stud_tmp.score > 80))]"
   ]
  },
  {
   "cell_type": "markdown",
   "id": "3d39ae0e",
   "metadata": {},
   "source": [
    "The plot clearly shows that students with additional educational support have worse scores than students without it.\n",
    "The data looks strange: on the contrary, scores should be higher for those who went to additional classes at school.\n",
    "There is probably an error in the data and the scores values for yes and no are mixed up.\n",
    "Or the school recommends attending additional classes for students with low scores, and then the dependence of the schoolsup column on the score appears, and not vice versa. Check the dependence analytically."
   ]
  },
  {
   "cell_type": "code",
   "execution_count": 168,
   "id": "2636fe3b",
   "metadata": {},
   "outputs": [
    {
     "name": "stdout",
     "output_type": "stream",
     "text": [
      "For threshold 0.05 by Student's criterion there is significance: for ('no', 'yes') p_value = 6.34088672972889e-07\n",
      "For threshold 0.05 by Mann-Whitney's criterion there is significance: for ('no', 'yes') p_value = 1.1308356050291745e-06\n"
     ]
    }
   ],
   "source": [
    "# evaluation according to the Student criterion: \n",
    "print(get_stat_dif(stud_tmp, 'schoolsup', 'score', True)) \n",
    "# evaluation according to the Mann-Whitney criterion:\n",
    "print(get_stat_dif(stud_tmp, 'schoolsup', 'score', False))"
   ]
  },
  {
   "cell_type": "markdown",
   "id": "780e3947",
   "metadata": {},
   "source": [
    "There is a very strong dependence. The column is ambiguous, but there is not enough data to decide whether to remove it or not.\n",
    "It is recommended to request additional information on the data before proceeding further in order to make a decision,\n",
    "whether to leave the column."
   ]
  },
  {
   "cell_type": "markdown",
   "id": "5bcbc108",
   "metadata": {},
   "source": [
    "## 'famsup' column\n",
    "Family educational support (yes or no)."
   ]
  },
  {
   "cell_type": "code",
   "execution_count": 169,
   "id": "60e7118c",
   "metadata": {},
   "outputs": [
    {
     "data": {
      "text/html": [
       "<div>\n",
       "<style scoped>\n",
       "    .dataframe tbody tr th:only-of-type {\n",
       "        vertical-align: middle;\n",
       "    }\n",
       "\n",
       "    .dataframe tbody tr th {\n",
       "        vertical-align: top;\n",
       "    }\n",
       "\n",
       "    .dataframe thead th {\n",
       "        text-align: right;\n",
       "    }\n",
       "</style>\n",
       "<table border=\"1\" class=\"dataframe\">\n",
       "  <thead>\n",
       "    <tr style=\"text-align: right;\">\n",
       "      <th></th>\n",
       "      <th>famsup</th>\n",
       "    </tr>\n",
       "  </thead>\n",
       "  <tbody>\n",
       "    <tr>\n",
       "      <th>yes</th>\n",
       "      <td>196</td>\n",
       "    </tr>\n",
       "    <tr>\n",
       "      <th>no</th>\n",
       "      <td>120</td>\n",
       "    </tr>\n",
       "  </tbody>\n",
       "</table>\n",
       "</div>"
      ],
      "text/plain": [
       "     famsup\n",
       "yes     196\n",
       "no      120"
      ]
     },
     "metadata": {},
     "output_type": "display_data"
    },
    {
     "name": "stdout",
     "output_type": "stream",
     "text": [
      "Column famsup: found 2 unique values\n",
      "Column famsup: found 36 null values\n"
     ]
    }
   ],
   "source": [
    "review_col_info(stud, 'famsup')"
   ]
  },
  {
   "cell_type": "code",
   "execution_count": 170,
   "id": "6b8ca62a",
   "metadata": {},
   "outputs": [],
   "source": [
    "# Remove empty values:\n",
    "stud_tmp = stud[~stud['famsup'].isnull()]"
   ]
  },
  {
   "cell_type": "code",
   "execution_count": 171,
   "id": "ea1f7dc4",
   "metadata": {},
   "outputs": [
    {
     "data": {
      "text/plain": [
       "<AxesSubplot:title={'center':'score'}, xlabel='famsup'>"
      ]
     },
     "execution_count": 171,
     "metadata": {},
     "output_type": "execute_result"
    },
    {
     "data": {
      "image/png": "[encoded data removed]",
      "text/plain": [
       "<Figure size 432x288 with 1 Axes>"
      ]
     },
     "metadata": {
      "needs_background": "light"
     },
     "output_type": "display_data"
    }
   ],
   "source": [
    "# Create a boxplot:\n",
    "stud_tmp.boxplot(column = 'score', by = 'famsup')"
   ]
  },
  {
   "cell_type": "markdown",
   "id": "74383773",
   "metadata": {},
   "source": [
    "The dependence is not visible on the graph. Check this analytically."
   ]
  },
  {
   "cell_type": "code",
   "execution_count": 172,
   "id": "ad51a01b",
   "metadata": {},
   "outputs": [
    {
     "name": "stdout",
     "output_type": "stream",
     "text": [
      "For threshold 0.05 by Student's criterion no significance: min(p_value) = 0.4063096650270416\n",
      "For threshold 0.05 by Mann-Whitney's criterion no significance: min(p_value) = 0.4387297428041804\n"
     ]
    }
   ],
   "source": [
    "# evaluation according to the Student criterion: \n",
    "print(get_stat_dif(stud_tmp, 'famsup', 'score', True)) \n",
    "# evaluation according to the Mann-Whitney criterion:\n",
    "print(get_stat_dif(stud_tmp, 'famsup', 'score', False))"
   ]
  },
  {
   "cell_type": "markdown",
   "id": "3428b78a",
   "metadata": {},
   "source": [
    "There is no dependency between columns."
   ]
  },
  {
   "cell_type": "code",
   "execution_count": 173,
   "id": "60f07f23",
   "metadata": {},
   "outputs": [],
   "source": [
    "# Remove the column:\n",
    "drop('famsup')"
   ]
  },
  {
   "cell_type": "markdown",
   "id": "72b02e0a",
   "metadata": {},
   "source": [
    "## 'paid' column \n",
    "Additional paid math classes (yes or no)."
   ]
  },
  {
   "cell_type": "code",
   "execution_count": 174,
   "id": "fe1b56d7",
   "metadata": {},
   "outputs": [
    {
     "data": {
      "text/html": [
       "<div>\n",
       "<style scoped>\n",
       "    .dataframe tbody tr th:only-of-type {\n",
       "        vertical-align: middle;\n",
       "    }\n",
       "\n",
       "    .dataframe tbody tr th {\n",
       "        vertical-align: top;\n",
       "    }\n",
       "\n",
       "    .dataframe thead th {\n",
       "        text-align: right;\n",
       "    }\n",
       "</style>\n",
       "<table border=\"1\" class=\"dataframe\">\n",
       "  <thead>\n",
       "    <tr style=\"text-align: right;\">\n",
       "      <th></th>\n",
       "      <th>paid</th>\n",
       "    </tr>\n",
       "  </thead>\n",
       "  <tbody>\n",
       "    <tr>\n",
       "      <th>no</th>\n",
       "      <td>170</td>\n",
       "    </tr>\n",
       "    <tr>\n",
       "      <th>yes</th>\n",
       "      <td>146</td>\n",
       "    </tr>\n",
       "  </tbody>\n",
       "</table>\n",
       "</div>"
      ],
      "text/plain": [
       "     paid\n",
       "no    170\n",
       "yes   146"
      ]
     },
     "metadata": {},
     "output_type": "display_data"
    },
    {
     "name": "stdout",
     "output_type": "stream",
     "text": [
      "Column paid: found 2 unique values\n",
      "Column paid: found 36 null values\n"
     ]
    }
   ],
   "source": [
    "review_col_info(stud, 'paid')"
   ]
  },
  {
   "cell_type": "code",
   "execution_count": 175,
   "id": "8b228aab",
   "metadata": {},
   "outputs": [],
   "source": [
    "# Remove empty values:\n",
    "stud_tmp = stud[~stud['paid'].isnull()]"
   ]
  },
  {
   "cell_type": "code",
   "execution_count": 176,
   "id": "b72c92ed",
   "metadata": {},
   "outputs": [
    {
     "data": {
      "text/plain": [
       "<AxesSubplot:title={'center':'score'}, xlabel='paid'>"
      ]
     },
     "execution_count": 176,
     "metadata": {},
     "output_type": "execute_result"
    },
    {
     "data": {
      "image/png": "[encoded data removed]",
      "text/plain": [
       "<Figure size 432x288 with 1 Axes>"
      ]
     },
     "metadata": {
      "needs_background": "light"
     },
     "output_type": "display_data"
    }
   ],
   "source": [
    "# Create a boxplot:\n",
    "stud_tmp.boxplot(column = 'score', by = 'paid')"
   ]
  },
  {
   "cell_type": "markdown",
   "id": "4b1eb3e8",
   "metadata": {},
   "source": [
    "The data for both values for paid column looks exactly the same, the number of yes and no values is also comparable. There is no dependency between columns."
   ]
  },
  {
   "cell_type": "code",
   "execution_count": 177,
   "id": "4759e449",
   "metadata": {},
   "outputs": [],
   "source": [
    "# Remove the column:\n",
    "drop('paid')"
   ]
  },
  {
   "cell_type": "markdown",
   "id": "22eee2fe",
   "metadata": {},
   "source": [
    "## 'activities' column\n",
    "Additional extracurricular activities (yes or no)."
   ]
  },
  {
   "cell_type": "code",
   "execution_count": 178,
   "id": "91b2c5ab",
   "metadata": {},
   "outputs": [
    {
     "data": {
      "text/html": [
       "<div>\n",
       "<style scoped>\n",
       "    .dataframe tbody tr th:only-of-type {\n",
       "        vertical-align: middle;\n",
       "    }\n",
       "\n",
       "    .dataframe tbody tr th {\n",
       "        vertical-align: top;\n",
       "    }\n",
       "\n",
       "    .dataframe thead th {\n",
       "        text-align: right;\n",
       "    }\n",
       "</style>\n",
       "<table border=\"1\" class=\"dataframe\">\n",
       "  <thead>\n",
       "    <tr style=\"text-align: right;\">\n",
       "      <th></th>\n",
       "      <th>activities</th>\n",
       "    </tr>\n",
       "  </thead>\n",
       "  <tbody>\n",
       "    <tr>\n",
       "      <th>yes</th>\n",
       "      <td>172</td>\n",
       "    </tr>\n",
       "    <tr>\n",
       "      <th>no</th>\n",
       "      <td>168</td>\n",
       "    </tr>\n",
       "  </tbody>\n",
       "</table>\n",
       "</div>"
      ],
      "text/plain": [
       "     activities\n",
       "yes         172\n",
       "no          168"
      ]
     },
     "metadata": {},
     "output_type": "display_data"
    },
    {
     "name": "stdout",
     "output_type": "stream",
     "text": [
      "Column activities: found 2 unique values\n",
      "Column activities: found 12 null values\n"
     ]
    }
   ],
   "source": [
    "review_col_info(stud, 'activities')"
   ]
  },
  {
   "cell_type": "code",
   "execution_count": 179,
   "id": "bb9b0c45",
   "metadata": {},
   "outputs": [],
   "source": [
    "# Remove empty values:\n",
    "stud_tmp = stud[~stud['activities'].isnull()]"
   ]
  },
  {
   "cell_type": "code",
   "execution_count": 180,
   "id": "ec59814e",
   "metadata": {},
   "outputs": [
    {
     "data": {
      "text/plain": [
       "<AxesSubplot:title={'center':'score'}, xlabel='activities'>"
      ]
     },
     "execution_count": 180,
     "metadata": {},
     "output_type": "execute_result"
    },
    {
     "data": {
      "image/png": "[encoded data removed]",
      "text/plain": [
       "<Figure size 432x288 with 1 Axes>"
      ]
     },
     "metadata": {
      "needs_background": "light"
     },
     "output_type": "display_data"
    }
   ],
   "source": [
    "# Create a boxplot:\n",
    "stud_tmp.boxplot(column = 'score', by = 'activities')"
   ]
  },
  {
   "cell_type": "markdown",
   "id": "abea3378",
   "metadata": {},
   "source": [
    "Visually, the plots are almost the same with almost the same number of yes and no values. There is no dependency between columns."
   ]
  },
  {
   "cell_type": "code",
   "execution_count": 181,
   "id": "d1277bfe",
   "metadata": {},
   "outputs": [],
   "source": [
    "# Remove the column:\n",
    "drop('activities')"
   ]
  },
  {
   "cell_type": "markdown",
   "id": "129c572e",
   "metadata": {},
   "source": [
    "## 'nursery' column\n",
    "Attended kindergarten (yes or no)."
   ]
  },
  {
   "cell_type": "code",
   "execution_count": 182,
   "id": "d5c82faa",
   "metadata": {},
   "outputs": [
    {
     "data": {
      "text/html": [
       "<div>\n",
       "<style scoped>\n",
       "    .dataframe tbody tr th:only-of-type {\n",
       "        vertical-align: middle;\n",
       "    }\n",
       "\n",
       "    .dataframe tbody tr th {\n",
       "        vertical-align: top;\n",
       "    }\n",
       "\n",
       "    .dataframe thead th {\n",
       "        text-align: right;\n",
       "    }\n",
       "</style>\n",
       "<table border=\"1\" class=\"dataframe\">\n",
       "  <thead>\n",
       "    <tr style=\"text-align: right;\">\n",
       "      <th></th>\n",
       "      <th>nursery</th>\n",
       "    </tr>\n",
       "  </thead>\n",
       "  <tbody>\n",
       "    <tr>\n",
       "      <th>yes</th>\n",
       "      <td>272</td>\n",
       "    </tr>\n",
       "    <tr>\n",
       "      <th>no</th>\n",
       "      <td>68</td>\n",
       "    </tr>\n",
       "  </tbody>\n",
       "</table>\n",
       "</div>"
      ],
      "text/plain": [
       "     nursery\n",
       "yes      272\n",
       "no        68"
      ]
     },
     "metadata": {},
     "output_type": "display_data"
    },
    {
     "name": "stdout",
     "output_type": "stream",
     "text": [
      "Column nursery: found 2 unique values\n",
      "Column nursery: found 12 null values\n"
     ]
    }
   ],
   "source": [
    "review_col_info(stud, 'nursery')"
   ]
  },
  {
   "cell_type": "code",
   "execution_count": 183,
   "id": "30711a0a",
   "metadata": {},
   "outputs": [],
   "source": [
    "# Remove empty values:\n",
    "stud_tmp = stud[~stud['nursery'].isnull()]"
   ]
  },
  {
   "cell_type": "code",
   "execution_count": 184,
   "id": "a7dcf6c8",
   "metadata": {},
   "outputs": [
    {
     "data": {
      "text/plain": [
       "<AxesSubplot:title={'center':'score'}, xlabel='nursery'>"
      ]
     },
     "execution_count": 184,
     "metadata": {},
     "output_type": "execute_result"
    },
    {
     "data": {
      "image/png": "[encoded data removed]",
      "text/plain": [
       "<Figure size 432x288 with 1 Axes>"
      ]
     },
     "metadata": {
      "needs_background": "light"
     },
     "output_type": "display_data"
    }
   ],
   "source": [
    "# Create a boxplot:\n",
    "stud_tmp.boxplot(column = 'score', by = 'nursery')"
   ]
  },
  {
   "cell_type": "code",
   "execution_count": 185,
   "id": "f405f56b",
   "metadata": {},
   "outputs": [],
   "source": [
    "# Remove outlier:\n",
    "stud_tmp = stud_tmp[~((stud_tmp.nursery == 'no') & (stud_tmp.score < 29))]"
   ]
  },
  {
   "cell_type": "markdown",
   "id": "4a97335f",
   "metadata": {},
   "source": [
    "In students who went to kindergarten, there is a greater spread in values. Check the dependence analytically."
   ]
  },
  {
   "cell_type": "code",
   "execution_count": 186,
   "id": "9fc5aa23",
   "metadata": {},
   "outputs": [
    {
     "name": "stdout",
     "output_type": "stream",
     "text": [
      "For threshold 0.05 by Student's criterion no significance: min(p_value) = 0.7375634911982036\n",
      "For threshold 0.05 by Mann-Whitney's criterion no significance: min(p_value) = 0.9409152140372561\n"
     ]
    }
   ],
   "source": [
    "# evaluation according to the Student criterion: \n",
    "print(get_stat_dif(stud_tmp, 'nursery', 'score', True)) \n",
    "# evaluation according to the Mann-Whitney criterion:\n",
    "print(get_stat_dif(stud_tmp, 'nursery', 'score', False))"
   ]
  },
  {
   "cell_type": "markdown",
   "id": "ff6e89ba",
   "metadata": {},
   "source": [
    "There is no dependency between columns."
   ]
  },
  {
   "cell_type": "code",
   "execution_count": 187,
   "id": "f59cf913",
   "metadata": {},
   "outputs": [],
   "source": [
    "# Remove the column:\n",
    "drop('nursery')"
   ]
  },
  {
   "cell_type": "markdown",
   "id": "716ab5a5",
   "metadata": {},
   "source": [
    "## 'higher' column\n",
    "Wants to graduate (yes or no)."
   ]
  },
  {
   "cell_type": "code",
   "execution_count": 188,
   "id": "b53f3104",
   "metadata": {},
   "outputs": [
    {
     "data": {
      "text/html": [
       "<div>\n",
       "<style scoped>\n",
       "    .dataframe tbody tr th:only-of-type {\n",
       "        vertical-align: middle;\n",
       "    }\n",
       "\n",
       "    .dataframe tbody tr th {\n",
       "        vertical-align: top;\n",
       "    }\n",
       "\n",
       "    .dataframe thead th {\n",
       "        text-align: right;\n",
       "    }\n",
       "</style>\n",
       "<table border=\"1\" class=\"dataframe\">\n",
       "  <thead>\n",
       "    <tr style=\"text-align: right;\">\n",
       "      <th></th>\n",
       "      <th>higher</th>\n",
       "    </tr>\n",
       "  </thead>\n",
       "  <tbody>\n",
       "    <tr>\n",
       "      <th>yes</th>\n",
       "      <td>320</td>\n",
       "    </tr>\n",
       "    <tr>\n",
       "      <th>no</th>\n",
       "      <td>13</td>\n",
       "    </tr>\n",
       "  </tbody>\n",
       "</table>\n",
       "</div>"
      ],
      "text/plain": [
       "     higher\n",
       "yes     320\n",
       "no       13"
      ]
     },
     "metadata": {},
     "output_type": "display_data"
    },
    {
     "name": "stdout",
     "output_type": "stream",
     "text": [
      "Column higher: found 2 unique values\n",
      "Column higher: found 19 null values\n"
     ]
    }
   ],
   "source": [
    "review_col_info(stud, 'higher')"
   ]
  },
  {
   "cell_type": "code",
   "execution_count": 189,
   "id": "3bb0d8d7",
   "metadata": {},
   "outputs": [],
   "source": [
    "# Remove empty values:\n",
    "stud_tmp = stud[~stud['higher'].isnull()]"
   ]
  },
  {
   "cell_type": "code",
   "execution_count": 190,
   "id": "a7b11df0",
   "metadata": {},
   "outputs": [
    {
     "data": {
      "text/plain": [
       "<AxesSubplot:title={'center':'score'}, xlabel='higher'>"
      ]
     },
     "execution_count": 190,
     "metadata": {},
     "output_type": "execute_result"
    },
    {
     "data": {
      "image/png": "[encoded data removed]",
      "text/plain": [
       "<Figure size 432x288 with 1 Axes>"
      ]
     },
     "metadata": {
      "needs_background": "light"
     },
     "output_type": "display_data"
    }
   ],
   "source": [
    "# Create a boxplot:\n",
    "stud_tmp.boxplot(column = 'score', by = 'higher')"
   ]
  },
  {
   "cell_type": "markdown",
   "id": "8d1d7170",
   "metadata": {},
   "source": [
    "Based on the plot, students who want to graduate are doing better, and the range of scores is much higher. But the number of values = no is less than 30, so the tests can be unreliable."
   ]
  },
  {
   "cell_type": "code",
   "execution_count": 191,
   "id": "bfe45476",
   "metadata": {},
   "outputs": [],
   "source": [
    "# Remove the column:\n",
    "drop('higher')"
   ]
  },
  {
   "cell_type": "markdown",
   "id": "50b2bd2d",
   "metadata": {},
   "source": [
    "## 'internet' column\n",
    "Internet access at home (yes or no)."
   ]
  },
  {
   "cell_type": "code",
   "execution_count": 192,
   "id": "95ab6628",
   "metadata": {},
   "outputs": [
    {
     "data": {
      "text/html": [
       "<div>\n",
       "<style scoped>\n",
       "    .dataframe tbody tr th:only-of-type {\n",
       "        vertical-align: middle;\n",
       "    }\n",
       "\n",
       "    .dataframe tbody tr th {\n",
       "        vertical-align: top;\n",
       "    }\n",
       "\n",
       "    .dataframe thead th {\n",
       "        text-align: right;\n",
       "    }\n",
       "</style>\n",
       "<table border=\"1\" class=\"dataframe\">\n",
       "  <thead>\n",
       "    <tr style=\"text-align: right;\">\n",
       "      <th></th>\n",
       "      <th>internet</th>\n",
       "    </tr>\n",
       "  </thead>\n",
       "  <tbody>\n",
       "    <tr>\n",
       "      <th>yes</th>\n",
       "      <td>274</td>\n",
       "    </tr>\n",
       "    <tr>\n",
       "      <th>no</th>\n",
       "      <td>49</td>\n",
       "    </tr>\n",
       "  </tbody>\n",
       "</table>\n",
       "</div>"
      ],
      "text/plain": [
       "     internet\n",
       "yes       274\n",
       "no         49"
      ]
     },
     "metadata": {},
     "output_type": "display_data"
    },
    {
     "name": "stdout",
     "output_type": "stream",
     "text": [
      "Column internet: found 2 unique values\n",
      "Column internet: found 29 null values\n"
     ]
    }
   ],
   "source": [
    "review_col_info(stud, 'internet')"
   ]
  },
  {
   "cell_type": "code",
   "execution_count": 193,
   "id": "e8b9799e",
   "metadata": {},
   "outputs": [],
   "source": [
    "# Remove empty values:\n",
    "stud_tmp = stud[~stud['internet'].isnull()]"
   ]
  },
  {
   "cell_type": "code",
   "execution_count": 194,
   "id": "971fd838",
   "metadata": {},
   "outputs": [
    {
     "data": {
      "text/plain": [
       "<AxesSubplot:title={'center':'score'}, xlabel='internet'>"
      ]
     },
     "execution_count": 194,
     "metadata": {},
     "output_type": "execute_result"
    },
    {
     "data": {
      "image/png": "[encoded data removed]",
      "text/plain": [
       "<Figure size 432x288 with 1 Axes>"
      ]
     },
     "metadata": {
      "needs_background": "light"
     },
     "output_type": "display_data"
    }
   ],
   "source": [
    "# Create a boxplot:\n",
    "stud_tmp.boxplot(column = 'score', by = 'internet')"
   ]
  },
  {
   "cell_type": "markdown",
   "id": "ff88f558",
   "metadata": {},
   "source": [
    "It can be seen from the plot that students with Internet access have slightly better scores, but the scope of the graphs is different, because the number of students using the Internet is much greater than those who do not use it. Check the dependence analytically."
   ]
  },
  {
   "cell_type": "code",
   "execution_count": 195,
   "id": "c238d8d7",
   "metadata": {},
   "outputs": [
    {
     "name": "stdout",
     "output_type": "stream",
     "text": [
      "For threshold 0.05 by Student's criterion no significance: min(p_value) = 0.22324450876431984\n",
      "For threshold 0.05 by Mann-Whitney's criterion no significance: min(p_value) = 0.21794541295379688\n"
     ]
    }
   ],
   "source": [
    "# evaluation according to the Student criterion:  \n",
    "print(get_stat_dif(stud_tmp, 'internet', 'score', True)) \n",
    "# evaluation according to the Mann-Whitney criterion:\n",
    "print(get_stat_dif(stud_tmp, 'internet', 'score', False))"
   ]
  },
  {
   "cell_type": "markdown",
   "id": "4b39c7cc",
   "metadata": {},
   "source": [
    "There is no dependency between columns."
   ]
  },
  {
   "cell_type": "code",
   "execution_count": 196,
   "id": "b0579c8a",
   "metadata": {},
   "outputs": [],
   "source": [
    "# Remove the column:\n",
    "drop('internet')"
   ]
  },
  {
   "cell_type": "markdown",
   "id": "8e5bad24",
   "metadata": {},
   "source": [
    "## 'romantic' column\n",
    "Has a romantic relationship (yes or no)."
   ]
  },
  {
   "cell_type": "code",
   "execution_count": 197,
   "id": "1daca451",
   "metadata": {},
   "outputs": [
    {
     "data": {
      "text/html": [
       "<div>\n",
       "<style scoped>\n",
       "    .dataframe tbody tr th:only-of-type {\n",
       "        vertical-align: middle;\n",
       "    }\n",
       "\n",
       "    .dataframe tbody tr th {\n",
       "        vertical-align: top;\n",
       "    }\n",
       "\n",
       "    .dataframe thead th {\n",
       "        text-align: right;\n",
       "    }\n",
       "</style>\n",
       "<table border=\"1\" class=\"dataframe\">\n",
       "  <thead>\n",
       "    <tr style=\"text-align: right;\">\n",
       "      <th></th>\n",
       "      <th>romantic</th>\n",
       "    </tr>\n",
       "  </thead>\n",
       "  <tbody>\n",
       "    <tr>\n",
       "      <th>no</th>\n",
       "      <td>219</td>\n",
       "    </tr>\n",
       "    <tr>\n",
       "      <th>yes</th>\n",
       "      <td>104</td>\n",
       "    </tr>\n",
       "  </tbody>\n",
       "</table>\n",
       "</div>"
      ],
      "text/plain": [
       "     romantic\n",
       "no        219\n",
       "yes       104"
      ]
     },
     "metadata": {},
     "output_type": "display_data"
    },
    {
     "name": "stdout",
     "output_type": "stream",
     "text": [
      "Column romantic: found 2 unique values\n",
      "Column romantic: found 29 null values\n"
     ]
    }
   ],
   "source": [
    "review_col_info(stud, 'romantic')"
   ]
  },
  {
   "cell_type": "code",
   "execution_count": 198,
   "id": "441ac214",
   "metadata": {},
   "outputs": [],
   "source": [
    "# Remove empty values:\n",
    "stud_tmp = stud[~stud['romantic'].isnull()]"
   ]
  },
  {
   "cell_type": "code",
   "execution_count": 199,
   "id": "847edfe2",
   "metadata": {},
   "outputs": [
    {
     "data": {
      "text/plain": [
       "<AxesSubplot:title={'center':'score'}, xlabel='romantic'>"
      ]
     },
     "execution_count": 199,
     "metadata": {},
     "output_type": "execute_result"
    },
    {
     "data": {
      "image/png": "[encoded data removed]",
      "text/plain": [
       "<Figure size 432x288 with 1 Axes>"
      ]
     },
     "metadata": {
      "needs_background": "light"
     },
     "output_type": "display_data"
    }
   ],
   "source": [
    "# Create a boxplot:\n",
    "stud_tmp.boxplot(column = 'score', by = 'romantic')"
   ]
  },
  {
   "cell_type": "markdown",
   "id": "a769e0f6",
   "metadata": {},
   "source": [
    "The medians are the same for both graphs. But in general, the scores of students who have relationships are worse. Check the dependence analytically."
   ]
  },
  {
   "cell_type": "code",
   "execution_count": 200,
   "id": "03b708ee",
   "metadata": {},
   "outputs": [
    {
     "name": "stdout",
     "output_type": "stream",
     "text": [
      "For threshold 0.05 by Student's criterion no significance: min(p_value) = 0.2668414509361285\n",
      "For threshold 0.05 by Mann-Whitney's criterion no significance: min(p_value) = 0.44391565568274016\n"
     ]
    }
   ],
   "source": [
    "# evaluation according to the Student criterion:  \n",
    "print(get_stat_dif(stud_tmp, 'romantic', 'score', True)) \n",
    "# evaluation according to the Mann-Whitney criterion:\n",
    "print(get_stat_dif(stud_tmp, 'romantic', 'score', False))"
   ]
  },
  {
   "cell_type": "markdown",
   "id": "21250498",
   "metadata": {},
   "source": [
    "There is no dependency between columns."
   ]
  },
  {
   "cell_type": "code",
   "execution_count": 201,
   "id": "88c5b2bd",
   "metadata": {},
   "outputs": [],
   "source": [
    "# Remove the column:\n",
    "drop('romantic')"
   ]
  },
  {
   "cell_type": "markdown",
   "id": "f7e08d5d",
   "metadata": {},
   "source": [
    "# Creating a model"
   ]
  },
  {
   "cell_type": "code",
   "execution_count": 202,
   "id": "dffcd477",
   "metadata": {},
   "outputs": [],
   "source": [
    "# Remove columns from the dataset that do not affect student grades:\n",
    "for col in drop_list:\n",
    "    if col in stud.columns:\n",
    "        stud = stud.drop(col, axis=1)"
   ]
  },
  {
   "cell_type": "code",
   "execution_count": 203,
   "id": "647ea54b",
   "metadata": {},
   "outputs": [
    {
     "data": {
      "text/html": [
       "<div>\n",
       "<style scoped>\n",
       "    .dataframe tbody tr th:only-of-type {\n",
       "        vertical-align: middle;\n",
       "    }\n",
       "\n",
       "    .dataframe tbody tr th {\n",
       "        vertical-align: top;\n",
       "    }\n",
       "\n",
       "    .dataframe thead th {\n",
       "        text-align: right;\n",
       "    }\n",
       "</style>\n",
       "<table border=\"1\" class=\"dataframe\">\n",
       "  <thead>\n",
       "    <tr style=\"text-align: right;\">\n",
       "      <th></th>\n",
       "      <th>age</th>\n",
       "      <th>address</th>\n",
       "      <th>medu</th>\n",
       "      <th>mprof</th>\n",
       "      <th>schoolsup</th>\n",
       "      <th>goout</th>\n",
       "      <th>score</th>\n",
       "      <th>gr_studytime</th>\n",
       "      <th>gr_failures</th>\n",
       "      <th>gr_health</th>\n",
       "      <th>dbl_absences</th>\n",
       "    </tr>\n",
       "  </thead>\n",
       "  <tbody>\n",
       "    <tr>\n",
       "      <th>0</th>\n",
       "      <td>18</td>\n",
       "      <td>U</td>\n",
       "      <td>4.0</td>\n",
       "      <td>at_home</td>\n",
       "      <td>yes</td>\n",
       "      <td>4.0</td>\n",
       "      <td>30.0</td>\n",
       "      <td>0</td>\n",
       "      <td>0</td>\n",
       "      <td>1</td>\n",
       "      <td>6.0</td>\n",
       "    </tr>\n",
       "    <tr>\n",
       "      <th>1</th>\n",
       "      <td>17</td>\n",
       "      <td>U</td>\n",
       "      <td>1.0</td>\n",
       "      <td>at_home</td>\n",
       "      <td>no</td>\n",
       "      <td>3.0</td>\n",
       "      <td>30.0</td>\n",
       "      <td>0</td>\n",
       "      <td>0</td>\n",
       "      <td>1</td>\n",
       "      <td>4.0</td>\n",
       "    </tr>\n",
       "    <tr>\n",
       "      <th>2</th>\n",
       "      <td>15</td>\n",
       "      <td>U</td>\n",
       "      <td>1.0</td>\n",
       "      <td>at_home</td>\n",
       "      <td>yes</td>\n",
       "      <td>2.0</td>\n",
       "      <td>50.0</td>\n",
       "      <td>0</td>\n",
       "      <td>1</td>\n",
       "      <td>1</td>\n",
       "      <td>10.0</td>\n",
       "    </tr>\n",
       "    <tr>\n",
       "      <th>3</th>\n",
       "      <td>15</td>\n",
       "      <td>U</td>\n",
       "      <td>4.0</td>\n",
       "      <td>health</td>\n",
       "      <td>no</td>\n",
       "      <td>2.0</td>\n",
       "      <td>75.0</td>\n",
       "      <td>1</td>\n",
       "      <td>0</td>\n",
       "      <td>1</td>\n",
       "      <td>2.0</td>\n",
       "    </tr>\n",
       "    <tr>\n",
       "      <th>4</th>\n",
       "      <td>16</td>\n",
       "      <td>U</td>\n",
       "      <td>3.0</td>\n",
       "      <td>other</td>\n",
       "      <td>no</td>\n",
       "      <td>2.0</td>\n",
       "      <td>50.0</td>\n",
       "      <td>0</td>\n",
       "      <td>0</td>\n",
       "      <td>1</td>\n",
       "      <td>4.0</td>\n",
       "    </tr>\n",
       "    <tr>\n",
       "      <th>5</th>\n",
       "      <td>16</td>\n",
       "      <td>U</td>\n",
       "      <td>4.0</td>\n",
       "      <td>services</td>\n",
       "      <td>no</td>\n",
       "      <td>2.0</td>\n",
       "      <td>75.0</td>\n",
       "      <td>0</td>\n",
       "      <td>0</td>\n",
       "      <td>1</td>\n",
       "      <td>10.0</td>\n",
       "    </tr>\n",
       "    <tr>\n",
       "      <th>6</th>\n",
       "      <td>16</td>\n",
       "      <td>None</td>\n",
       "      <td>2.0</td>\n",
       "      <td>other</td>\n",
       "      <td>no</td>\n",
       "      <td>4.0</td>\n",
       "      <td>55.0</td>\n",
       "      <td>0</td>\n",
       "      <td>0</td>\n",
       "      <td>1</td>\n",
       "      <td>0.0</td>\n",
       "    </tr>\n",
       "    <tr>\n",
       "      <th>7</th>\n",
       "      <td>17</td>\n",
       "      <td>U</td>\n",
       "      <td>4.0</td>\n",
       "      <td>other</td>\n",
       "      <td>yes</td>\n",
       "      <td>4.0</td>\n",
       "      <td>30.0</td>\n",
       "      <td>0</td>\n",
       "      <td>0</td>\n",
       "      <td>0</td>\n",
       "      <td>6.0</td>\n",
       "    </tr>\n",
       "    <tr>\n",
       "      <th>8</th>\n",
       "      <td>15</td>\n",
       "      <td>U</td>\n",
       "      <td>3.0</td>\n",
       "      <td>services</td>\n",
       "      <td>no</td>\n",
       "      <td>2.0</td>\n",
       "      <td>95.0</td>\n",
       "      <td>0</td>\n",
       "      <td>0</td>\n",
       "      <td>0</td>\n",
       "      <td>0.0</td>\n",
       "    </tr>\n",
       "    <tr>\n",
       "      <th>9</th>\n",
       "      <td>15</td>\n",
       "      <td>U</td>\n",
       "      <td>3.0</td>\n",
       "      <td>other</td>\n",
       "      <td>no</td>\n",
       "      <td>1.0</td>\n",
       "      <td>75.0</td>\n",
       "      <td>0</td>\n",
       "      <td>0</td>\n",
       "      <td>1</td>\n",
       "      <td>0.0</td>\n",
       "    </tr>\n",
       "  </tbody>\n",
       "</table>\n",
       "</div>"
      ],
      "text/plain": [
       "   age address  medu     mprof schoolsup  goout  score  gr_studytime  \\\n",
       "0   18       U   4.0   at_home       yes    4.0   30.0             0   \n",
       "1   17       U   1.0   at_home        no    3.0   30.0             0   \n",
       "2   15       U   1.0   at_home       yes    2.0   50.0             0   \n",
       "3   15       U   4.0    health        no    2.0   75.0             1   \n",
       "4   16       U   3.0     other        no    2.0   50.0             0   \n",
       "5   16       U   4.0  services        no    2.0   75.0             0   \n",
       "6   16    None   2.0     other        no    4.0   55.0             0   \n",
       "7   17       U   4.0     other       yes    4.0   30.0             0   \n",
       "8   15       U   3.0  services        no    2.0   95.0             0   \n",
       "9   15       U   3.0     other        no    1.0   75.0             0   \n",
       "\n",
       "   gr_failures  gr_health  dbl_absences  \n",
       "0            0          1           6.0  \n",
       "1            0          1           4.0  \n",
       "2            1          1          10.0  \n",
       "3            0          1           2.0  \n",
       "4            0          1           4.0  \n",
       "5            0          1          10.0  \n",
       "6            0          1           0.0  \n",
       "7            0          0           6.0  \n",
       "8            0          0           0.0  \n",
       "9            0          1           0.0  "
      ]
     },
     "execution_count": 203,
     "metadata": {},
     "output_type": "execute_result"
    }
   ],
   "source": [
    "# The model is completed:\n",
    "stud.head(10)"
   ]
  },
  {
   "cell_type": "markdown",
   "id": "3f70aaed",
   "metadata": {},
   "source": [
    "# Creating of a single script for data processing"
   ]
  },
  {
   "cell_type": "code",
   "execution_count": 204,
   "id": "cec30fc9",
   "metadata": {},
   "outputs": [
    {
     "data": {
      "text/html": [
       "<div>\n",
       "<style scoped>\n",
       "    .dataframe tbody tr th:only-of-type {\n",
       "        vertical-align: middle;\n",
       "    }\n",
       "\n",
       "    .dataframe tbody tr th {\n",
       "        vertical-align: top;\n",
       "    }\n",
       "\n",
       "    .dataframe thead th {\n",
       "        text-align: right;\n",
       "    }\n",
       "</style>\n",
       "<table border=\"1\" class=\"dataframe\">\n",
       "  <thead>\n",
       "    <tr style=\"text-align: right;\">\n",
       "      <th></th>\n",
       "      <th>age</th>\n",
       "      <th>address</th>\n",
       "      <th>medu</th>\n",
       "      <th>fedu</th>\n",
       "      <th>schoolsup</th>\n",
       "      <th>goout</th>\n",
       "      <th>score</th>\n",
       "      <th>gr_studytime</th>\n",
       "      <th>gr_failures</th>\n",
       "      <th>gr_health</th>\n",
       "      <th>dbl_absences</th>\n",
       "    </tr>\n",
       "  </thead>\n",
       "  <tbody>\n",
       "    <tr>\n",
       "      <th>0</th>\n",
       "      <td>18</td>\n",
       "      <td>U</td>\n",
       "      <td>4.0</td>\n",
       "      <td>4.0</td>\n",
       "      <td>yes</td>\n",
       "      <td>4.0</td>\n",
       "      <td>30.0</td>\n",
       "      <td>0</td>\n",
       "      <td>0</td>\n",
       "      <td>1</td>\n",
       "      <td>6.0</td>\n",
       "    </tr>\n",
       "    <tr>\n",
       "      <th>1</th>\n",
       "      <td>17</td>\n",
       "      <td>U</td>\n",
       "      <td>1.0</td>\n",
       "      <td>1.0</td>\n",
       "      <td>no</td>\n",
       "      <td>3.0</td>\n",
       "      <td>30.0</td>\n",
       "      <td>0</td>\n",
       "      <td>0</td>\n",
       "      <td>1</td>\n",
       "      <td>4.0</td>\n",
       "    </tr>\n",
       "    <tr>\n",
       "      <th>2</th>\n",
       "      <td>15</td>\n",
       "      <td>U</td>\n",
       "      <td>1.0</td>\n",
       "      <td>1.0</td>\n",
       "      <td>yes</td>\n",
       "      <td>2.0</td>\n",
       "      <td>50.0</td>\n",
       "      <td>0</td>\n",
       "      <td>1</td>\n",
       "      <td>1</td>\n",
       "      <td>10.0</td>\n",
       "    </tr>\n",
       "    <tr>\n",
       "      <th>3</th>\n",
       "      <td>15</td>\n",
       "      <td>U</td>\n",
       "      <td>4.0</td>\n",
       "      <td>2.0</td>\n",
       "      <td>no</td>\n",
       "      <td>2.0</td>\n",
       "      <td>75.0</td>\n",
       "      <td>1</td>\n",
       "      <td>0</td>\n",
       "      <td>1</td>\n",
       "      <td>2.0</td>\n",
       "    </tr>\n",
       "    <tr>\n",
       "      <th>4</th>\n",
       "      <td>16</td>\n",
       "      <td>U</td>\n",
       "      <td>3.0</td>\n",
       "      <td>3.0</td>\n",
       "      <td>no</td>\n",
       "      <td>2.0</td>\n",
       "      <td>50.0</td>\n",
       "      <td>0</td>\n",
       "      <td>0</td>\n",
       "      <td>1</td>\n",
       "      <td>4.0</td>\n",
       "    </tr>\n",
       "    <tr>\n",
       "      <th>5</th>\n",
       "      <td>16</td>\n",
       "      <td>U</td>\n",
       "      <td>4.0</td>\n",
       "      <td>3.0</td>\n",
       "      <td>no</td>\n",
       "      <td>2.0</td>\n",
       "      <td>75.0</td>\n",
       "      <td>0</td>\n",
       "      <td>0</td>\n",
       "      <td>1</td>\n",
       "      <td>10.0</td>\n",
       "    </tr>\n",
       "    <tr>\n",
       "      <th>6</th>\n",
       "      <td>16</td>\n",
       "      <td>None</td>\n",
       "      <td>2.0</td>\n",
       "      <td>2.0</td>\n",
       "      <td>no</td>\n",
       "      <td>4.0</td>\n",
       "      <td>55.0</td>\n",
       "      <td>0</td>\n",
       "      <td>0</td>\n",
       "      <td>1</td>\n",
       "      <td>0.0</td>\n",
       "    </tr>\n",
       "    <tr>\n",
       "      <th>7</th>\n",
       "      <td>17</td>\n",
       "      <td>U</td>\n",
       "      <td>4.0</td>\n",
       "      <td>4.0</td>\n",
       "      <td>yes</td>\n",
       "      <td>4.0</td>\n",
       "      <td>30.0</td>\n",
       "      <td>0</td>\n",
       "      <td>0</td>\n",
       "      <td>0</td>\n",
       "      <td>6.0</td>\n",
       "    </tr>\n",
       "    <tr>\n",
       "      <th>8</th>\n",
       "      <td>15</td>\n",
       "      <td>U</td>\n",
       "      <td>3.0</td>\n",
       "      <td>2.0</td>\n",
       "      <td>no</td>\n",
       "      <td>2.0</td>\n",
       "      <td>95.0</td>\n",
       "      <td>0</td>\n",
       "      <td>0</td>\n",
       "      <td>0</td>\n",
       "      <td>0.0</td>\n",
       "    </tr>\n",
       "    <tr>\n",
       "      <th>9</th>\n",
       "      <td>15</td>\n",
       "      <td>U</td>\n",
       "      <td>3.0</td>\n",
       "      <td>4.0</td>\n",
       "      <td>no</td>\n",
       "      <td>1.0</td>\n",
       "      <td>75.0</td>\n",
       "      <td>0</td>\n",
       "      <td>0</td>\n",
       "      <td>1</td>\n",
       "      <td>0.0</td>\n",
       "    </tr>\n",
       "  </tbody>\n",
       "</table>\n",
       "</div>"
      ],
      "text/plain": [
       "   age address  medu  fedu schoolsup  goout  score  gr_studytime  gr_failures  \\\n",
       "0   18       U   4.0   4.0       yes    4.0   30.0             0            0   \n",
       "1   17       U   1.0   1.0        no    3.0   30.0             0            0   \n",
       "2   15       U   1.0   1.0       yes    2.0   50.0             0            1   \n",
       "3   15       U   4.0   2.0        no    2.0   75.0             1            0   \n",
       "4   16       U   3.0   3.0        no    2.0   50.0             0            0   \n",
       "5   16       U   4.0   3.0        no    2.0   75.0             0            0   \n",
       "6   16    None   2.0   2.0        no    4.0   55.0             0            0   \n",
       "7   17       U   4.0   4.0       yes    4.0   30.0             0            0   \n",
       "8   15       U   3.0   2.0        no    2.0   95.0             0            0   \n",
       "9   15       U   3.0   4.0        no    1.0   75.0             0            0   \n",
       "\n",
       "   gr_health  dbl_absences  \n",
       "0          1           6.0  \n",
       "1          1           4.0  \n",
       "2          1          10.0  \n",
       "3          1           2.0  \n",
       "4          1           4.0  \n",
       "5          1          10.0  \n",
       "6          1           0.0  \n",
       "7          0           6.0  \n",
       "8          0           0.0  \n",
       "9          1           0.0  "
      ]
     },
     "execution_count": 204,
     "metadata": {},
     "output_type": "execute_result"
    }
   ],
   "source": [
    "import pandas as pd\n",
    "\n",
    "\n",
    "# Load data from the original dataset:\n",
    "stud_model = pd.read_csv('stud_math.csv')\n",
    "\n",
    "# Function to replace \"\" to None:\n",
    "def replace_to_none(df, col):\n",
    "    df[col] = df[col].apply(lambda x: None if (pd.isnull(x) or x.lower() == 'nan') else x)     \n",
    "    \n",
    "# Replace empty values to None in string variables:\n",
    "str_col_list = ['school', 'gender', 'address', 'famsize', 'pstatus', 'mprof', 'fprof', 'reason', 'custodian', 'schoolsup', \n",
    "                'famsup', 'paid', 'activities', 'nursery', 'higher', 'internet', 'romantic']\n",
    "for col in str_col_list:\n",
    "    replace_to_none(stud_model, col)\n",
    "    \n",
    "# Group data, add new columns:\n",
    "stud_model['gr_studytime'] = stud_model.studytime.apply(lambda x: 0 if x<3 else 1)\n",
    "stud_model['gr_failures'] = stud_model.failures.apply(lambda x: 0 if x == 0 else 1)\n",
    "stud_model['gr_health'] = stud_model.health.apply(lambda x: 0 if x < 3 else 1)\n",
    "stud_model['dbl_absences'] = stud_model.absences.apply(lambda x: x+1 if x%2 == 1 else x)\n",
    "                                                       \n",
    "# Remove non-informative columns:\n",
    "stud_model = stud_model[['age', 'address', 'medu', 'fedu', 'schoolsup', 'goout', 'score', \n",
    "                         'gr_studytime', 'gr_failures', 'gr_health', 'dbl_absences']]\n",
    "         \n",
    "# The model is completed:\n",
    "stud_model.head(10)"
   ]
  }
 ],
 "metadata": {
  "kernelspec": {
   "display_name": "Python 3 (ipykernel)",
   "language": "python",
   "name": "python3"
  },
  "language_info": {
   "codemirror_mode": {
    "name": "ipython",
    "version": 3
   },
   "file_extension": ".py",
   "mimetype": "text/x-python",
   "name": "python",
   "nbconvert_exporter": "python",
   "pygments_lexer": "ipython3",
   "version": "3.9.7"
  }
 },
 "nbformat": 4,
 "nbformat_minor": 5
}
