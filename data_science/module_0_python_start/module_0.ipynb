{
 "cells": [
  {
   "cell_type": "code",
   "execution_count": 1,
   "id": "f8985869",
   "metadata": {},
   "outputs": [],
   "source": [
    "import numpy as np\n",
    "\n",
    "\n",
    "def game_core_v0(number):\n",
    "    '''The function takes the number (created by random) and return the number of attempts.\n",
    "       First set the number to the middle of the range [0..100].\n",
    "       Compare numbers: suggested by function and created by random.\n",
    "       Reduce the range at each iteration, set the new number to the middle of the new range.'''\n",
    "    count = 0\n",
    "    lower = 1\n",
    "    upper = 101\n",
    "    predict = (upper - lower) / 2\n",
    "    while (count < 100 and predict != number):\n",
    "        count+=1\n",
    "        if predict > number: \n",
    "            upper = predict # set the upper range limit to the suggested number on the previous iteration\n",
    "        elif predict < number: \n",
    "            lower = predict # set the lower range limit to the suggested number on the previous iteration\n",
    "        predict = lower + int((upper - lower)/2) # set the suggested number to the middle of the new range\n",
    "    return(count) # exit if suggested number = created by number\n",
    "\n",
    "def score_game(game_core):\n",
    "    '''Run the function 1000 times'''\n",
    "    count_ls = []\n",
    "    np.random.seed(1)  # fix RANDOM SEED, to reproduce the experiment\n",
    "    random_array = np.random.randint(1,101, size=(1000)) # array with 1000 random numbers\n",
    "    for number in random_array:\n",
    "        count_ls.append(game_core(number))\n",
    "    score = int(np.mean(count_ls)) # mean values of attempts after 1000 runs\n",
    "    print(f\"The algorithm guesses the number in {score} attempts on average\")\n",
    "    return(score)"
   ]
  },
  {
   "cell_type": "code",
   "execution_count": 2,
   "id": "1d391c9f",
   "metadata": {},
   "outputs": [
    {
     "name": "stdout",
     "output_type": "stream",
     "text": [
      "The algorithm guesses the number in 4 attempts on average\n"
     ]
    },
    {
     "data": {
      "text/plain": [
       "4"
      ]
     },
     "execution_count": 2,
     "metadata": {},
     "output_type": "execute_result"
    }
   ],
   "source": [
    "score_game(game_core_v0)"
   ]
  }
 ],
 "metadata": {
  "kernelspec": {
   "display_name": "Python 3 (ipykernel)",
   "language": "python",
   "name": "python3"
  },
  "language_info": {
   "codemirror_mode": {
    "name": "ipython",
    "version": 3
   },
   "file_extension": ".py",
   "mimetype": "text/x-python",
   "name": "python",
   "nbconvert_exporter": "python",
   "pygments_lexer": "ipython3",
   "version": "3.9.7"
  }
 },
 "nbformat": 4,
 "nbformat_minor": 5
}
