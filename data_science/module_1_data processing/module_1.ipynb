{
 "cells": [
  {
   "cell_type": "code",
   "execution_count": 1,
   "metadata": {
    "_cell_guid": "b1076dfc-b9ad-4769-8c92-a6c4dae69d19",
    "_uuid": "8f2839f25d086af736a60e9eeb907d3b93b6e0e5",
    "colab": {},
    "colab_type": "code",
    "id": "U2D2gTdJVp90"
   },
   "outputs": [],
   "source": [
    "import numpy as np\n",
    "import pandas as pd"
   ]
  },
  {
   "cell_type": "code",
   "execution_count": 2,
   "metadata": {
    "_cell_guid": "79c7e3d0-c299-4dcb-8224-4455121ee9b0",
    "_uuid": "d629ff2d2480ee46fbb7e2d37f6b5fab8052498a",
    "colab": {},
    "colab_type": "code",
    "id": "oyGfxL3eVp9-"
   },
   "outputs": [
    {
     "data": {
      "text/html": [
       "<div>\n",
       "<style scoped>\n",
       "    .dataframe tbody tr th:only-of-type {\n",
       "        vertical-align: middle;\n",
       "    }\n",
       "\n",
       "    .dataframe tbody tr th {\n",
       "        vertical-align: top;\n",
       "    }\n",
       "\n",
       "    .dataframe thead th {\n",
       "        text-align: right;\n",
       "    }\n",
       "</style>\n",
       "<table border=\"1\" class=\"dataframe\">\n",
       "  <thead>\n",
       "    <tr style=\"text-align: right;\">\n",
       "      <th></th>\n",
       "      <th>imdb_id</th>\n",
       "      <th>budget</th>\n",
       "      <th>revenue</th>\n",
       "      <th>original_title</th>\n",
       "      <th>cast</th>\n",
       "      <th>director</th>\n",
       "      <th>tagline</th>\n",
       "      <th>overview</th>\n",
       "      <th>runtime</th>\n",
       "      <th>genres</th>\n",
       "      <th>production_companies</th>\n",
       "      <th>release_date</th>\n",
       "      <th>vote_average</th>\n",
       "      <th>release_year</th>\n",
       "    </tr>\n",
       "  </thead>\n",
       "  <tbody>\n",
       "    <tr>\n",
       "      <th>1174</th>\n",
       "      <td>tt0318283</td>\n",
       "      <td>30000000</td>\n",
       "      <td>15368897</td>\n",
       "      <td>Alex &amp; Emma</td>\n",
       "      <td>Luke Wilson|Kate Hudson|Sophie Marceau|David P...</td>\n",
       "      <td>Rob Reiner</td>\n",
       "      <td>Is it love... or are they just imagining things?</td>\n",
       "      <td>Writer Alex Sheldon (Luke Wilson) must finish ...</td>\n",
       "      <td>96</td>\n",
       "      <td>Comedy|Romance</td>\n",
       "      <td>Epsilon Motion Pictures|Franchise Pictures|Esc...</td>\n",
       "      <td>6/16/2003</td>\n",
       "      <td>5.0</td>\n",
       "      <td>2003</td>\n",
       "    </tr>\n",
       "    <tr>\n",
       "      <th>1336</th>\n",
       "      <td>tt0360717</td>\n",
       "      <td>207000000</td>\n",
       "      <td>550000000</td>\n",
       "      <td>King Kong</td>\n",
       "      <td>Naomi Watts|Jack Black|Adrien Brody|Thomas Kre...</td>\n",
       "      <td>Peter Jackson</td>\n",
       "      <td>The eighth wonder of the world.</td>\n",
       "      <td>In 1933 New York, an overly ambitious movie pr...</td>\n",
       "      <td>187</td>\n",
       "      <td>Adventure|Drama|Action</td>\n",
       "      <td>WingNut Films|Universal Pictures|Big Primate P...</td>\n",
       "      <td>12/14/2005</td>\n",
       "      <td>6.4</td>\n",
       "      <td>2005</td>\n",
       "    </tr>\n",
       "    <tr>\n",
       "      <th>1616</th>\n",
       "      <td>tt0318974</td>\n",
       "      <td>145000000</td>\n",
       "      <td>25819961</td>\n",
       "      <td>The Alamo</td>\n",
       "      <td>Dennis Quaid|Billy Bob Thornton|Jason Patric|P...</td>\n",
       "      <td>John Lee Hancock</td>\n",
       "      <td>You will never forget</td>\n",
       "      <td>Based on the 1836 standoff between a group of ...</td>\n",
       "      <td>137</td>\n",
       "      <td>Western|History|War</td>\n",
       "      <td>Imagine Entertainment|Touchstone Pictures</td>\n",
       "      <td>4/7/2004</td>\n",
       "      <td>5.9</td>\n",
       "      <td>2004</td>\n",
       "    </tr>\n",
       "    <tr>\n",
       "      <th>202</th>\n",
       "      <td>tt2106361</td>\n",
       "      <td>50000000</td>\n",
       "      <td>160602194</td>\n",
       "      <td>Into the Storm</td>\n",
       "      <td>Richard Armitage|Sarah Wayne Callies|Matt Wals...</td>\n",
       "      <td>Steven Quale</td>\n",
       "      <td>Prepare to go</td>\n",
       "      <td>The town of Silverton is in one day destroyed ...</td>\n",
       "      <td>89</td>\n",
       "      <td>Action|Thriller</td>\n",
       "      <td>New Line Cinema|Village Roadshow Pictures|Brok...</td>\n",
       "      <td>8/6/2014</td>\n",
       "      <td>5.7</td>\n",
       "      <td>2014</td>\n",
       "    </tr>\n",
       "    <tr>\n",
       "      <th>236</th>\n",
       "      <td>tt2319580</td>\n",
       "      <td>12700000</td>\n",
       "      <td>3430018</td>\n",
       "      <td>The Grand Seduction</td>\n",
       "      <td>Brendan Gleeson|Taylor Kitsch|Gordon Pinsent|L...</td>\n",
       "      <td>Don McKellar</td>\n",
       "      <td>The small town of Tickle Cove needed a doctor....</td>\n",
       "      <td>A small fishing village must procure a local d...</td>\n",
       "      <td>112</td>\n",
       "      <td>Comedy</td>\n",
       "      <td>Max Films Productions|Morag Loves Company</td>\n",
       "      <td>5/30/2014</td>\n",
       "      <td>6.7</td>\n",
       "      <td>2014</td>\n",
       "    </tr>\n",
       "  </tbody>\n",
       "</table>\n",
       "</div>"
      ],
      "text/plain": [
       "        imdb_id     budget    revenue       original_title  \\\n",
       "1174  tt0318283   30000000   15368897          Alex & Emma   \n",
       "1336  tt0360717  207000000  550000000            King Kong   \n",
       "1616  tt0318974  145000000   25819961            The Alamo   \n",
       "202   tt2106361   50000000  160602194       Into the Storm   \n",
       "236   tt2319580   12700000    3430018  The Grand Seduction   \n",
       "\n",
       "                                                   cast          director  \\\n",
       "1174  Luke Wilson|Kate Hudson|Sophie Marceau|David P...        Rob Reiner   \n",
       "1336  Naomi Watts|Jack Black|Adrien Brody|Thomas Kre...     Peter Jackson   \n",
       "1616  Dennis Quaid|Billy Bob Thornton|Jason Patric|P...  John Lee Hancock   \n",
       "202   Richard Armitage|Sarah Wayne Callies|Matt Wals...      Steven Quale   \n",
       "236   Brendan Gleeson|Taylor Kitsch|Gordon Pinsent|L...      Don McKellar   \n",
       "\n",
       "                                                tagline  \\\n",
       "1174   Is it love... or are they just imagining things?   \n",
       "1336                    The eighth wonder of the world.   \n",
       "1616                              You will never forget   \n",
       "202                                       Prepare to go   \n",
       "236   The small town of Tickle Cove needed a doctor....   \n",
       "\n",
       "                                               overview  runtime  \\\n",
       "1174  Writer Alex Sheldon (Luke Wilson) must finish ...       96   \n",
       "1336  In 1933 New York, an overly ambitious movie pr...      187   \n",
       "1616  Based on the 1836 standoff between a group of ...      137   \n",
       "202   The town of Silverton is in one day destroyed ...       89   \n",
       "236   A small fishing village must procure a local d...      112   \n",
       "\n",
       "                      genres  \\\n",
       "1174          Comedy|Romance   \n",
       "1336  Adventure|Drama|Action   \n",
       "1616     Western|History|War   \n",
       "202          Action|Thriller   \n",
       "236                   Comedy   \n",
       "\n",
       "                                   production_companies release_date  \\\n",
       "1174  Epsilon Motion Pictures|Franchise Pictures|Esc...    6/16/2003   \n",
       "1336  WingNut Films|Universal Pictures|Big Primate P...   12/14/2005   \n",
       "1616          Imagine Entertainment|Touchstone Pictures     4/7/2004   \n",
       "202   New Line Cinema|Village Roadshow Pictures|Brok...     8/6/2014   \n",
       "236           Max Films Productions|Morag Loves Company    5/30/2014   \n",
       "\n",
       "      vote_average  release_year  \n",
       "1174           5.0          2003  \n",
       "1336           6.4          2005  \n",
       "1616           5.9          2004  \n",
       "202            5.7          2014  \n",
       "236            6.7          2014  "
      ]
     },
     "execution_count": 2,
     "metadata": {},
     "output_type": "execute_result"
    }
   ],
   "source": [
    "data = pd.read_csv('movie_bd_v5.csv')\n",
    "data.sample(5)"
   ]
  },
  {
   "cell_type": "code",
   "execution_count": 3,
   "metadata": {
    "colab": {},
    "colab_type": "code",
    "id": "CoYUnagMVp-C"
   },
   "outputs": [
    {
     "data": {
      "text/html": [
       "<div>\n",
       "<style scoped>\n",
       "    .dataframe tbody tr th:only-of-type {\n",
       "        vertical-align: middle;\n",
       "    }\n",
       "\n",
       "    .dataframe tbody tr th {\n",
       "        vertical-align: top;\n",
       "    }\n",
       "\n",
       "    .dataframe thead th {\n",
       "        text-align: right;\n",
       "    }\n",
       "</style>\n",
       "<table border=\"1\" class=\"dataframe\">\n",
       "  <thead>\n",
       "    <tr style=\"text-align: right;\">\n",
       "      <th></th>\n",
       "      <th>budget</th>\n",
       "      <th>revenue</th>\n",
       "      <th>runtime</th>\n",
       "      <th>vote_average</th>\n",
       "      <th>release_year</th>\n",
       "    </tr>\n",
       "  </thead>\n",
       "  <tbody>\n",
       "    <tr>\n",
       "      <th>count</th>\n",
       "      <td>1.889000e+03</td>\n",
       "      <td>1.889000e+03</td>\n",
       "      <td>1889.000000</td>\n",
       "      <td>1889.000000</td>\n",
       "      <td>1889.000000</td>\n",
       "    </tr>\n",
       "    <tr>\n",
       "      <th>mean</th>\n",
       "      <td>5.431083e+07</td>\n",
       "      <td>1.553653e+08</td>\n",
       "      <td>109.658549</td>\n",
       "      <td>6.140762</td>\n",
       "      <td>2007.860773</td>\n",
       "    </tr>\n",
       "    <tr>\n",
       "      <th>std</th>\n",
       "      <td>4.858721e+07</td>\n",
       "      <td>2.146698e+08</td>\n",
       "      <td>18.017041</td>\n",
       "      <td>0.764763</td>\n",
       "      <td>4.468841</td>\n",
       "    </tr>\n",
       "    <tr>\n",
       "      <th>min</th>\n",
       "      <td>5.000000e+06</td>\n",
       "      <td>2.033165e+06</td>\n",
       "      <td>63.000000</td>\n",
       "      <td>3.300000</td>\n",
       "      <td>2000.000000</td>\n",
       "    </tr>\n",
       "    <tr>\n",
       "      <th>25%</th>\n",
       "      <td>2.000000e+07</td>\n",
       "      <td>3.456058e+07</td>\n",
       "      <td>97.000000</td>\n",
       "      <td>5.600000</td>\n",
       "      <td>2004.000000</td>\n",
       "    </tr>\n",
       "    <tr>\n",
       "      <th>50%</th>\n",
       "      <td>3.800000e+07</td>\n",
       "      <td>8.361541e+07</td>\n",
       "      <td>107.000000</td>\n",
       "      <td>6.100000</td>\n",
       "      <td>2008.000000</td>\n",
       "    </tr>\n",
       "    <tr>\n",
       "      <th>75%</th>\n",
       "      <td>7.200000e+07</td>\n",
       "      <td>1.782626e+08</td>\n",
       "      <td>120.000000</td>\n",
       "      <td>6.600000</td>\n",
       "      <td>2012.000000</td>\n",
       "    </tr>\n",
       "    <tr>\n",
       "      <th>max</th>\n",
       "      <td>3.800000e+08</td>\n",
       "      <td>2.781506e+09</td>\n",
       "      <td>214.000000</td>\n",
       "      <td>8.100000</td>\n",
       "      <td>2015.000000</td>\n",
       "    </tr>\n",
       "  </tbody>\n",
       "</table>\n",
       "</div>"
      ],
      "text/plain": [
       "             budget       revenue      runtime  vote_average  release_year\n",
       "count  1.889000e+03  1.889000e+03  1889.000000   1889.000000   1889.000000\n",
       "mean   5.431083e+07  1.553653e+08   109.658549      6.140762   2007.860773\n",
       "std    4.858721e+07  2.146698e+08    18.017041      0.764763      4.468841\n",
       "min    5.000000e+06  2.033165e+06    63.000000      3.300000   2000.000000\n",
       "25%    2.000000e+07  3.456058e+07    97.000000      5.600000   2004.000000\n",
       "50%    3.800000e+07  8.361541e+07   107.000000      6.100000   2008.000000\n",
       "75%    7.200000e+07  1.782626e+08   120.000000      6.600000   2012.000000\n",
       "max    3.800000e+08  2.781506e+09   214.000000      8.100000   2015.000000"
      ]
     },
     "execution_count": 3,
     "metadata": {},
     "output_type": "execute_result"
    }
   ],
   "source": [
    "data.describe()"
   ]
  },
  {
   "cell_type": "markdown",
   "metadata": {
    "colab_type": "text",
    "id": "DTIt7ezGVp-G"
   },
   "source": [
    "# Preprocessing"
   ]
  },
  {
   "cell_type": "code",
   "execution_count": 4,
   "metadata": {
    "colab": {},
    "colab_type": "code",
    "id": "jNb40DwKVp-H"
   },
   "outputs": [],
   "source": [
    "answers = {} # create dictionary for answers\n",
    "\n",
    "# Function to get film name and film id (imdb_id)\n",
    "def get_title(row):\n",
    "    return row.original_title.iloc[0] + ' (' + row.imdb_id.iloc[0] + ')'\n",
    "\n",
    "# Function to get month name by date\n",
    "def get_release_month(date):\n",
    "    month = date[0:date.find('/')]\n",
    "    if month == '1':\n",
    "        return 'January'\n",
    "    elif month == '2':\n",
    "        return 'February'\n",
    "    elif month == '3':\n",
    "        return 'March'\n",
    "    elif month == '4':\n",
    "        return 'April'\n",
    "    elif month == '5':\n",
    "        return 'May'\n",
    "    elif month == '6':\n",
    "        return 'June'\n",
    "    elif month == '7':\n",
    "        return 'July'\n",
    "    elif month == '8':\n",
    "        return 'August'\n",
    "    elif month == '9':\n",
    "        return 'September'\n",
    "    elif month == '10':\n",
    "        return 'October'\n",
    "    elif month == '11':\n",
    "        return 'November'\n",
    "    elif month == '12':\n",
    "        return 'December'\n",
    "    else:\n",
    "        return 'ERROR'\n",
    "\n",
    "# Function for creating datasets with splitted values by |\n",
    "# Example: 1 row with value 'test1|test2' will be splitted to 2 rows with values: 'test1', 'test2'\n",
    "# Dataset contains 2 columns: column 2 is imdb_id\n",
    "def create_dataset_for_list_column(column):\n",
    "    serie_column = data[column].str.split('|').explode()\n",
    "    serie_id = data.imdb_id\n",
    "    df_result = pd.DataFrame({column + '_split' : serie_column, 'imdb_id' : serie_id})\n",
    "    return df_result\n",
    "\n",
    "# Add column profit\n",
    "data['profit'] = data.revenue - data.budget\n",
    "# Add column release_month\n",
    "data['release_month'] = data.release_date.apply(get_release_month)\n",
    "\n",
    "data_cast = create_dataset_for_list_column('cast')\n",
    "data_genres = create_dataset_for_list_column('genres')\n",
    "data_director = create_dataset_for_list_column('director')\n",
    "data_companies = create_dataset_for_list_column('production_companies')\n"
   ]
  },
  {
   "cell_type": "code",
   "execution_count": 5,
   "metadata": {},
   "outputs": [
    {
     "data": {
      "text/html": [
       "<div>\n",
       "<style scoped>\n",
       "    .dataframe tbody tr th:only-of-type {\n",
       "        vertical-align: middle;\n",
       "    }\n",
       "\n",
       "    .dataframe tbody tr th {\n",
       "        vertical-align: top;\n",
       "    }\n",
       "\n",
       "    .dataframe thead th {\n",
       "        text-align: right;\n",
       "    }\n",
       "</style>\n",
       "<table border=\"1\" class=\"dataframe\">\n",
       "  <thead>\n",
       "    <tr style=\"text-align: right;\">\n",
       "      <th></th>\n",
       "      <th>cast_split</th>\n",
       "      <th>imdb_id</th>\n",
       "    </tr>\n",
       "  </thead>\n",
       "  <tbody>\n",
       "    <tr>\n",
       "      <th>0</th>\n",
       "      <td>Chris Pratt</td>\n",
       "      <td>tt0369610</td>\n",
       "    </tr>\n",
       "    <tr>\n",
       "      <th>0</th>\n",
       "      <td>Bryce Dallas Howard</td>\n",
       "      <td>tt0369610</td>\n",
       "    </tr>\n",
       "    <tr>\n",
       "      <th>0</th>\n",
       "      <td>Irrfan Khan</td>\n",
       "      <td>tt0369610</td>\n",
       "    </tr>\n",
       "    <tr>\n",
       "      <th>0</th>\n",
       "      <td>Vincent D'Onofrio</td>\n",
       "      <td>tt0369610</td>\n",
       "    </tr>\n",
       "    <tr>\n",
       "      <th>0</th>\n",
       "      <td>Nick Robinson</td>\n",
       "      <td>tt0369610</td>\n",
       "    </tr>\n",
       "  </tbody>\n",
       "</table>\n",
       "</div>"
      ],
      "text/plain": [
       "            cast_split    imdb_id\n",
       "0          Chris Pratt  tt0369610\n",
       "0  Bryce Dallas Howard  tt0369610\n",
       "0          Irrfan Khan  tt0369610\n",
       "0    Vincent D'Onofrio  tt0369610\n",
       "0        Nick Robinson  tt0369610"
      ]
     },
     "execution_count": 5,
     "metadata": {},
     "output_type": "execute_result"
    }
   ],
   "source": [
    "# Example of dataset with splitted values in the column cast:\n",
    "data_cast.head()"
   ]
  },
  {
   "cell_type": "markdown",
   "metadata": {
    "colab_type": "text",
    "id": "YxZaH-nPVp-L"
   },
   "source": [
    "# 1. Which movie on the list has the biggest budget?"
   ]
  },
  {
   "cell_type": "code",
   "execution_count": 6,
   "metadata": {
    "colab": {},
    "colab_type": "code",
    "id": "dZwb3m28Vp-S"
   },
   "outputs": [
    {
     "data": {
      "text/plain": [
       "'Pirates of the Caribbean: On Stranger Tides (tt1298650)'"
      ]
     },
     "execution_count": 6,
     "metadata": {},
     "output_type": "execute_result"
    }
   ],
   "source": [
    "max_budget = data[data.budget == data['budget'].max()]\n",
    "answers['1'] = get_title(max_budget)\n",
    "answers['1']"
   ]
  },
  {
   "cell_type": "markdown",
   "metadata": {
    "colab_type": "text",
    "id": "FNRbbI3vVp-c"
   },
   "source": [
    "# 2. Which movie is the longest (in minutes)?"
   ]
  },
  {
   "cell_type": "code",
   "execution_count": 7,
   "metadata": {
    "colab": {},
    "colab_type": "code",
    "id": "ot-VX2XrVp-g"
   },
   "outputs": [
    {
     "data": {
      "text/plain": [
       "'Gods and Generals (tt0279111)'"
      ]
     },
     "execution_count": 7,
     "metadata": {},
     "output_type": "execute_result"
    }
   ],
   "source": [
    "max_runtime = data[data.runtime == data.runtime.max()]\n",
    "answers['2'] = get_title(max_runtime)\n",
    "answers['2']"
   ]
  },
  {
   "cell_type": "markdown",
   "metadata": {
    "colab_type": "text",
    "id": "bapLlpW8Vp-k"
   },
   "source": [
    "# 3. Which movie is the shortest (in minutes)?"
   ]
  },
  {
   "cell_type": "code",
   "execution_count": 8,
   "metadata": {
    "colab": {},
    "colab_type": "code",
    "id": "YBxaSHuAVp-l"
   },
   "outputs": [
    {
     "data": {
      "text/plain": [
       "'Winnie the Pooh (tt1449283)'"
      ]
     },
     "execution_count": 8,
     "metadata": {},
     "output_type": "execute_result"
    }
   ],
   "source": [
    "min_runtime = data[data.runtime == data.runtime.min()]\n",
    "answers['3'] = get_title(min_runtime)\n",
    "answers['3']"
   ]
  },
  {
   "cell_type": "markdown",
   "metadata": {
    "colab_type": "text",
    "id": "TfQbxbfNVp-p"
   },
   "source": [
    "# 4. What is the average length of films?"
   ]
  },
  {
   "cell_type": "code",
   "execution_count": 9,
   "metadata": {
    "colab": {},
    "colab_type": "code",
    "id": "5K6dKZYVVp-q"
   },
   "outputs": [
    {
     "data": {
      "text/plain": [
       "110"
      ]
     },
     "execution_count": 9,
     "metadata": {},
     "output_type": "execute_result"
    }
   ],
   "source": [
    "mean_runtime = data.runtime.mean()\n",
    "answers['4'] = round(mean_runtime)\n",
    "answers['4']"
   ]
  },
  {
   "cell_type": "markdown",
   "metadata": {
    "colab_type": "text",
    "id": "r5TvbnT_Vp-u"
   },
   "source": [
    "# 5. What is the median length of the films?"
   ]
  },
  {
   "cell_type": "code",
   "execution_count": 10,
   "metadata": {
    "colab": {},
    "colab_type": "code",
    "id": "iBROplKnVp-v"
   },
   "outputs": [
    {
     "data": {
      "text/plain": [
       "107"
      ]
     },
     "execution_count": 10,
     "metadata": {},
     "output_type": "execute_result"
    }
   ],
   "source": [
    "median_runtime = data.runtime.median()\n",
    "answers['5'] = round(median_runtime)\n",
    "answers['5']"
   ]
  },
  {
   "cell_type": "markdown",
   "metadata": {
    "colab_type": "text",
    "id": "39P-deDSVp-y"
   },
   "source": [
    "# 6. Which movie is the most profitable?\n",
    "#### Hereinafter, \"profit\" refers to the difference between the revenue and the budget of the film. In the dataset it is (profit = revenue - budget) "
   ]
  },
  {
   "cell_type": "code",
   "execution_count": 11,
   "metadata": {
    "colab": {},
    "colab_type": "code",
    "id": "UYZh4T9WVp-y"
   },
   "outputs": [
    {
     "data": {
      "text/plain": [
       "'Avatar (tt0499549)'"
      ]
     },
     "execution_count": 11,
     "metadata": {},
     "output_type": "execute_result"
    }
   ],
   "source": [
    "max_profit = data[data.profit == data.profit.max()]\n",
    "answers['6'] = get_title(max_profit)\n",
    "answers['6'] "
   ]
  },
  {
   "cell_type": "markdown",
   "metadata": {
    "colab_type": "text",
    "id": "M99JmIX4Vp-2"
   },
   "source": [
    "# 7. Which movie is the most unprofitable?"
   ]
  },
  {
   "cell_type": "code",
   "execution_count": 12,
   "metadata": {
    "colab": {},
    "colab_type": "code",
    "id": "w-D2m4XPVp-3"
   },
   "outputs": [
    {
     "data": {
      "text/plain": [
       "'The Lone Ranger (tt1210819)'"
      ]
     },
     "execution_count": 12,
     "metadata": {},
     "output_type": "execute_result"
    }
   ],
   "source": [
    "min_profit = data[data.profit == data.profit.min()]\n",
    "answers['7'] = get_title(min_profit)\n",
    "answers['7']"
   ]
  },
  {
   "cell_type": "markdown",
   "metadata": {
    "colab_type": "text",
    "id": "wEOM5ERVVp-6"
   },
   "source": [
    "# 8. How many of the movies in the dataset were revenue above budget?"
   ]
  },
  {
   "cell_type": "code",
   "execution_count": 13,
   "metadata": {
    "colab": {},
    "colab_type": "code",
    "id": "y00_7HD6Vp-7"
   },
   "outputs": [
    {
     "data": {
      "text/plain": [
       "1478"
      ]
     },
     "execution_count": 13,
     "metadata": {},
     "output_type": "execute_result"
    }
   ],
   "source": [
    "data_profit_cnt = data[data.profit > 0].imdb_id.count()\n",
    "answers['8'] = data_profit_cnt\n",
    "answers['8']"
   ]
  },
  {
   "cell_type": "markdown",
   "metadata": {
    "colab_type": "text",
    "id": "xhpspA9KVp_A"
   },
   "source": [
    "# 9. What was the highest grossing movie of 2008?"
   ]
  },
  {
   "cell_type": "code",
   "execution_count": 14,
   "metadata": {
    "colab": {},
    "colab_type": "code",
    "id": "MoUyQr9RVp_B"
   },
   "outputs": [
    {
     "data": {
      "text/plain": [
       "'The Dark Knight (tt0468569)'"
      ]
     },
     "execution_count": 14,
     "metadata": {},
     "output_type": "execute_result"
    }
   ],
   "source": [
    "film_2008 = data[data.release_year == 2008]\n",
    "max_profit_2008 = film_2008[film_2008.profit == film_2008.profit.max()]\n",
    "answers['9'] = get_title(max_profit_2008)\n",
    "answers['9']"
   ]
  },
  {
   "cell_type": "markdown",
   "metadata": {
    "colab_type": "text",
    "id": "Zi4hDKidVp_F"
   },
   "source": [
    "# 10. The most unprofitable movie for the period from 2012 to 2014 (inclusive)?"
   ]
  },
  {
   "cell_type": "code",
   "execution_count": 15,
   "metadata": {
    "colab": {},
    "colab_type": "code",
    "id": "XqyRmufJVp_F"
   },
   "outputs": [
    {
     "data": {
      "text/plain": [
       "'The Lone Ranger (tt1210819)'"
      ]
     },
     "execution_count": 15,
     "metadata": {},
     "output_type": "execute_result"
    }
   ],
   "source": [
    "film_2012_2014 = data.query('2012 <= release_year <= 2014')\n",
    "min_profit_2012_2014 = film_2012_2014[film_2012_2014.profit == film_2012_2014.profit.min()]\n",
    "answers['10'] = get_title(min_profit_2012_2014)\n",
    "answers['10']"
   ]
  },
  {
   "cell_type": "markdown",
   "metadata": {
    "colab_type": "text",
    "id": "EA7Sa9dkVp_I"
   },
   "source": [
    "# 11. What movie genre is the most represented in the database?"
   ]
  },
  {
   "cell_type": "code",
   "execution_count": 16,
   "metadata": {
    "colab": {},
    "colab_type": "code",
    "id": "zsJAwJ8QVp_J"
   },
   "outputs": [
    {
     "data": {
      "text/plain": [
       "'Drama'"
      ]
     },
     "execution_count": 16,
     "metadata": {},
     "output_type": "execute_result"
    }
   ],
   "source": [
    "dataframe = data_genres.merge(data, on=\"imdb_id\", how=\"inner\")\n",
    "answers['11'] = dataframe.groupby(['genres_split']).imdb_id.count().sort_values(ascending=False).index[0]\n",
    "answers['11']"
   ]
  },
  {
   "cell_type": "markdown",
   "metadata": {
    "colab_type": "text",
    "id": "Ax6g2C8SVp_M"
   },
   "source": [
    "Option 2"
   ]
  },
  {
   "cell_type": "code",
   "execution_count": 17,
   "metadata": {
    "colab": {},
    "colab_type": "code",
    "id": "otO3SbrSVp_N"
   },
   "outputs": [
    {
     "data": {
      "text/plain": [
       "'Drama'"
      ]
     },
     "execution_count": 17,
     "metadata": {},
     "output_type": "execute_result"
    }
   ],
   "source": [
    "# 1. Created a list for genres\n",
    "# 2. Taken the column genres, for each row performed the actions described on steps 3 and 4:\n",
    "# 3. Converted the genres value to a '|' delimited list, removed duplicates from the list\n",
    "# 4. Each value from the list is added to the general list of genres\n",
    "# 5. The resulting large list is converted into a dictionary by the actions described in steps 6 and 7:\n",
    "# 6. Using the zip function, created a tuple of 2 lists: a list of genres and a list of the number of films in this genre\n",
    "# 7. Using the dict function, we convert the tuple into a dictionary. Duplicates are removed.\n",
    "# 8. Got a dictionary, choosed the pair with the maximum value\n",
    "\n",
    "genres_list_all_filmes = []\n",
    "\n",
    "for genres_row in data.genres:\n",
    "    genres_row_upd = [*set(genres_row.split('|'))]\n",
    "    for genre in genres_row_upd:\n",
    "        genres_list_all_filmes.append(genre)\n",
    "\n",
    "# Created a dict from 2 lists: list of genres, list of count of films of genre\n",
    "genres_unique = dict(zip(genres_list_all_filmes,[genres_list_all_filmes.count(i) for i in genres_list_all_filmes]))\n",
    "\n",
    "max_val = max(genres_unique.values())\n",
    "max_pair = {k:v for k, v in genres_unique.items() if v == max_val}\n",
    "list(max_pair)[0]"
   ]
  },
  {
   "cell_type": "markdown",
   "metadata": {
    "colab_type": "text",
    "id": "T9_bPWpkVp_Q"
   },
   "source": [
    "# 12. Movies of which genre become profitable most often?"
   ]
  },
  {
   "cell_type": "code",
   "execution_count": 18,
   "metadata": {
    "colab": {},
    "colab_type": "code",
    "id": "Tmt8MaK1Vp_R"
   },
   "outputs": [
    {
     "data": {
      "text/plain": [
       "'Drama'"
      ]
     },
     "execution_count": 18,
     "metadata": {},
     "output_type": "execute_result"
    }
   ],
   "source": [
    "# The genre with the largest number of films with profit > 0\n",
    "dataframe = data_genres.merge(data, on=\"imdb_id\", how=\"inner\")\n",
    "answers['12'] =  dataframe[dataframe.profit > 0].groupby(['genres_split']).imdb_id.count().sort_values(ascending=False).index[0]\n",
    "answers['12']"
   ]
  },
  {
   "cell_type": "markdown",
   "metadata": {
    "colab_type": "text",
    "id": "0F23bgsDVp_U"
   },
   "source": [
    "# 13. Which director has the highest total revenue?"
   ]
  },
  {
   "cell_type": "code",
   "execution_count": 19,
   "metadata": {
    "colab": {},
    "colab_type": "code",
    "id": "K6Z3J8ygVp_X"
   },
   "outputs": [
    {
     "data": {
      "text/plain": [
       "'Peter Jackson'"
      ]
     },
     "execution_count": 19,
     "metadata": {},
     "output_type": "execute_result"
    }
   ],
   "source": [
    "answers['13'] = data.groupby('director')['revenue'].sum().sort_values(ascending=False).index[0]\n",
    "answers['13']"
   ]
  },
  {
   "cell_type": "markdown",
   "metadata": {
    "colab_type": "text",
    "id": "PsYC9FgRVp_a"
   },
   "source": [
    "# 14. Which director has created the biggest number of Action films?"
   ]
  },
  {
   "cell_type": "code",
   "execution_count": 20,
   "metadata": {
    "colab": {},
    "colab_type": "code",
    "id": "wd2M-wHeVp_b"
   },
   "outputs": [
    {
     "data": {
      "text/plain": [
       "'Robert Rodriguez'"
      ]
     },
     "execution_count": 20,
     "metadata": {},
     "output_type": "execute_result"
    }
   ],
   "source": [
    "genres_director_action_dict = {} # dictionary with pairs {director : number of Action films}\n",
    "\n",
    "dataframe_prep = data_genres.merge(data_director, on=\"imdb_id\", how=\"outer\")\n",
    "dataframe = dataframe_prep.merge(data, on=\"imdb_id\", how=\"inner\")\n",
    "res_prep = dataframe[dataframe.genres_split == 'Action'].groupby(['director_split']).genres_split.count()\n",
    "answers['14'] = res_prep.sort_values(ascending=False).index[0]\n",
    "answers['14']"
   ]
  },
  {
   "cell_type": "markdown",
   "metadata": {
    "colab_type": "text",
    "id": "PQ0KciD7Vp_f"
   },
   "source": [
    "# 15. Which actor's films were the highest grossing in 2012?"
   ]
  },
  {
   "cell_type": "code",
   "execution_count": 21,
   "metadata": {
    "colab": {},
    "colab_type": "code",
    "id": "aga62oeKVp_g"
   },
   "outputs": [
    {
     "data": {
      "text/plain": [
       "'Chris Hemsworth'"
      ]
     },
     "execution_count": 21,
     "metadata": {},
     "output_type": "execute_result"
    }
   ],
   "source": [
    "dataframe = data_cast.merge(data, on=\"imdb_id\", how=\"inner\")\n",
    "res_prep = dataframe.query('release_year == 2012').groupby(['cast_split']).revenue.sum()\n",
    "answers['15'] = res_prep.sort_values(ascending=False).index[0]\n",
    "answers['15']"
   ]
  },
  {
   "cell_type": "markdown",
   "metadata": {
    "colab_type": "text",
    "id": "mWHyyL7QVp_j"
   },
   "source": [
    "# 16. Which actor has starred in the highest number of high budget films?"
   ]
  },
  {
   "cell_type": "code",
   "execution_count": 22,
   "metadata": {
    "colab": {},
    "colab_type": "code",
    "id": "qQtmHKTFVp_k"
   },
   "outputs": [
    {
     "data": {
      "text/plain": [
       "'Matt Damon'"
      ]
     },
     "execution_count": 22,
     "metadata": {},
     "output_type": "execute_result"
    }
   ],
   "source": [
    "# Films with a budget above average are taken\n",
    "dataframe = data_cast.merge(data, on=\"imdb_id\", how=\"inner\")\n",
    "res_prep = dataframe[dataframe.budget > dataframe.budget.mean()].groupby(['cast_split']).imdb_id.count()\n",
    "answers['16'] = res_prep.sort_values(ascending=False).index[0]\n",
    "answers['16']"
   ]
  },
  {
   "cell_type": "markdown",
   "metadata": {
    "colab_type": "text",
    "id": "NIh6AaW5Vp_n"
   },
   "source": [
    "# 17. In what genre of films did Nicolas Cage most often star?"
   ]
  },
  {
   "cell_type": "code",
   "execution_count": 23,
   "metadata": {
    "colab": {},
    "colab_type": "code",
    "id": "H74SJDIBVp_n"
   },
   "outputs": [
    {
     "data": {
      "text/plain": [
       "'Action'"
      ]
     },
     "execution_count": 23,
     "metadata": {},
     "output_type": "execute_result"
    }
   ],
   "source": [
    "dataframe_prep = data_genres.merge(data_cast, on=\"imdb_id\", how=\"outer\")\n",
    "dataframe = dataframe_prep.merge(data, on=\"imdb_id\", how=\"inner\")\n",
    "res_prep = dataframe.query('cast_split == \"Nicolas Cage\"').groupby(['genres_split']).imdb_id.count()\n",
    "answers['17'] = res_prep.sort_values(ascending=False).index[0]\n",
    "answers['17']"
   ]
  },
  {
   "cell_type": "markdown",
   "metadata": {
    "colab_type": "text",
    "id": "RqOmPRfWVp_q"
   },
   "source": [
    "# 18. The least profitable movie of Paramount Pictures?"
   ]
  },
  {
   "cell_type": "code",
   "execution_count": 24,
   "metadata": {
    "colab": {},
    "colab_type": "code",
    "id": "9E_B0Y96Vp_r"
   },
   "outputs": [
    {
     "data": {
      "text/plain": [
       "'K-19: The Widowmaker (tt0267626)'"
      ]
     },
     "execution_count": 24,
     "metadata": {},
     "output_type": "execute_result"
    }
   ],
   "source": [
    "dataframe = data_companies.merge(data, on=\"imdb_id\", how=\"inner\")\n",
    "paramount = dataframe[dataframe.production_companies_split == 'Paramount Pictures']\n",
    "res = paramount[paramount.profit == paramount.profit.min()]\n",
    "answers['18'] = get_title(res)\n",
    "answers['18']"
   ]
  },
  {
   "cell_type": "markdown",
   "metadata": {
    "colab_type": "text",
    "id": "vS8Ur6ddVp_u"
   },
   "source": [
    "# 19. What year was the most successful in terms of total revenue?"
   ]
  },
  {
   "cell_type": "code",
   "execution_count": 25,
   "metadata": {
    "colab": {},
    "colab_type": "code",
    "id": "Dnbt4GdIVp_v"
   },
   "outputs": [
    {
     "data": {
      "text/plain": [
       "2015"
      ]
     },
     "execution_count": 25,
     "metadata": {},
     "output_type": "execute_result"
    }
   ],
   "source": [
    "answers['19'] = data.groupby(['release_year']).revenue.sum().sort_values(ascending=False).index[0]\n",
    "answers['19']"
   ]
  },
  {
   "cell_type": "markdown",
   "metadata": {
    "colab_type": "text",
    "id": "JAzJh4QAVp_z"
   },
   "source": [
    "# 20. What is the most profitable year for Warner Bros?"
   ]
  },
  {
   "cell_type": "code",
   "execution_count": 26,
   "metadata": {
    "colab": {},
    "colab_type": "code",
    "id": "wgVu02DEVp_0"
   },
   "outputs": [
    {
     "data": {
      "text/plain": [
       "2014"
      ]
     },
     "execution_count": 26,
     "metadata": {},
     "output_type": "execute_result"
    }
   ],
   "source": [
    "dataframe = data_companies.merge(data, on=\"imdb_id\", how=\"inner\")\n",
    "warnerbros = dataframe[dataframe.production_companies_split.str.contains('Warner Bros')]\n",
    "answers['20'] = warnerbros.groupby(['release_year']).profit.sum().sort_values(ascending=False).index[0]\n",
    "answers['20']"
   ]
  },
  {
   "cell_type": "markdown",
   "metadata": {
    "colab_type": "text",
    "id": "8Im1S2HRVp_4"
   },
   "source": [
    "# 21. Of all the years summarily, which month was the most fruitful in terms of movie release?"
   ]
  },
  {
   "cell_type": "code",
   "execution_count": 27,
   "metadata": {
    "colab": {},
    "colab_type": "code",
    "id": "lev6TH7gVp_4"
   },
   "outputs": [
    {
     "data": {
      "text/plain": [
       "'September'"
      ]
     },
     "execution_count": 27,
     "metadata": {},
     "output_type": "execute_result"
    }
   ],
   "source": [
    "answers['21'] = data.groupby(['release_month']).imdb_id.count().sort_values(ascending=False).index[0]\n",
    "answers['21']"
   ]
  },
  {
   "cell_type": "markdown",
   "metadata": {
    "colab_type": "text",
    "id": "uAJsZ_NeVp_7"
   },
   "source": [
    "# 22. How many films were released in total in the summer? (for June, July, August)"
   ]
  },
  {
   "cell_type": "code",
   "execution_count": 28,
   "metadata": {
    "colab": {},
    "colab_type": "code",
    "id": "Aa-hEREoVp_8"
   },
   "outputs": [
    {
     "data": {
      "text/plain": [
       "450"
      ]
     },
     "execution_count": 28,
     "metadata": {},
     "output_type": "execute_result"
    }
   ],
   "source": [
    "answers['22'] = data.query('release_month in (\"June\",\"July\",\"August\")').imdb_id.count()\n",
    "answers['22']"
   ]
  },
  {
   "cell_type": "markdown",
   "metadata": {
    "colab_type": "text",
    "id": "G94ppOY1VqAA"
   },
   "source": [
    "# 23. For which director is winter the most productive season?"
   ]
  },
  {
   "cell_type": "code",
   "execution_count": 29,
   "metadata": {
    "colab": {},
    "colab_type": "code",
    "id": "RhNTsamuVqAB"
   },
   "outputs": [
    {
     "data": {
      "text/plain": [
       "'Peter Jackson'"
      ]
     },
     "execution_count": 29,
     "metadata": {},
     "output_type": "execute_result"
    }
   ],
   "source": [
    "# Director who released the most films in winter\n",
    "dataframe = data_director.merge(data, on=\"imdb_id\", how=\"inner\")\n",
    "res_prep = dataframe.query('release_month in (\"December\",\"January\",\"February\")').groupby(['director_split']).imdb_id.count()\n",
    "answers['23'] = res_prep.sort_values(ascending=False).index[0]\n",
    "answers['23']"
   ]
  },
  {
   "cell_type": "code",
   "execution_count": 30,
   "metadata": {},
   "outputs": [
    {
     "data": {
      "text/plain": [
       "171"
      ]
     },
     "execution_count": 30,
     "metadata": {},
     "output_type": "execute_result"
    }
   ],
   "source": [
    "# How many directors have released more films in winter than at other times of the year?\n",
    "\n",
    "# Pivot table: number of films for each director released in each month\n",
    "dir_mnth_df = dataframe.pivot_table(\n",
    "columns='release_month',\n",
    "index='director_split',\n",
    "values='imdb_id',\n",
    "aggfunc='count',\n",
    "fill_value=0\n",
    ")\n",
    "\n",
    "# Let's calculate how many directors have more films released in winter than in any other season\n",
    "dir_mnth_df_s = pd.DataFrame()\n",
    "dir_mnth_df_s['Winter'] = dir_mnth_df.December + dir_mnth_df.January + dir_mnth_df.February\n",
    "dir_mnth_df_s['Spring'] = dir_mnth_df.March + dir_mnth_df.April + dir_mnth_df.May\n",
    "dir_mnth_df_s['Summer'] = dir_mnth_df.June + dir_mnth_df.July + dir_mnth_df.August\n",
    "dir_mnth_df_s['Autumn'] = dir_mnth_df.September + dir_mnth_df.October + dir_mnth_df.November\n",
    "result = dir_mnth_df_s.query('(Winter > Spring) & (Winter > Summer) & (Winter > Autumn)').Winter.count()\n",
    "result"
   ]
  },
  {
   "cell_type": "markdown",
   "metadata": {
    "colab_type": "text",
    "id": "RBo0JVjVVqAF"
   },
   "source": [
    "# 24. Which studio gives the longest titles to their movies by character count?"
   ]
  },
  {
   "cell_type": "code",
   "execution_count": 31,
   "metadata": {
    "colab": {},
    "colab_type": "code",
    "id": "QRGS8L0iVqAG"
   },
   "outputs": [
    {
     "data": {
      "text/plain": [
       "'Four By Two Productions'"
      ]
     },
     "execution_count": 31,
     "metadata": {},
     "output_type": "execute_result"
    }
   ],
   "source": [
    "dataframe = data_companies.merge(data, on='imdb_id', how='inner')\n",
    "dataframe['mean_cnt_title'] = dataframe.original_title.str.len()\n",
    "result = dataframe.groupby(['production_companies_split']).mean_cnt_title.mean()\n",
    "answers['24'] = result.sort_values(ascending=False).index[0]\n",
    "answers['24']"
   ]
  },
  {
   "cell_type": "markdown",
   "metadata": {
    "colab_type": "text",
    "id": "9G0hbvR7VqAK"
   },
   "source": [
    "# 25. Which studio's film descriptions have the longest average word count?"
   ]
  },
  {
   "cell_type": "code",
   "execution_count": 32,
   "metadata": {
    "colab": {},
    "colab_type": "code",
    "id": "Ge2GsLNxVqAK"
   },
   "outputs": [
    {
     "data": {
      "text/plain": [
       "'Midnight Picture Show'"
      ]
     },
     "execution_count": 32,
     "metadata": {},
     "output_type": "execute_result"
    }
   ],
   "source": [
    "dataframe = data_companies.merge(data, on='imdb_id', how='inner')\n",
    "dataframe['mean_cnt_overview'] = dataframe.overview.str.len()\n",
    "result = dataframe.groupby(['production_companies_split']).mean_cnt_overview.mean()\n",
    "answers['25'] = result.sort_values(ascending=False).index[0]\n",
    "answers['25']"
   ]
  },
  {
   "cell_type": "markdown",
   "metadata": {
    "colab_type": "text",
    "id": "FJ1AFt90VqAP"
   },
   "source": [
    "# 26. What films are in the top 0.1 percent by vote average?"
   ]
  },
  {
   "cell_type": "code",
   "execution_count": 33,
   "metadata": {
    "colab": {},
    "colab_type": "code",
    "id": "8qmJVq4CVqAQ"
   },
   "outputs": [
    {
     "data": {
      "text/plain": [
       "['Inside Out', 'Room', 'Interstellar', 'The Imitation Game', 'The Dark Knight']"
      ]
     },
     "execution_count": 33,
     "metadata": {},
     "output_type": "execute_result"
    }
   ],
   "source": [
    "qnt999 = data.vote_average.quantile(0.999)\n",
    "answers['26'] = data[data.vote_average >= qnt999].original_title.tolist()\n",
    "answers['26']"
   ]
  },
  {
   "cell_type": "markdown",
   "metadata": {
    "colab_type": "text",
    "id": "MdXsUXbCVqAV"
   },
   "source": [
    "# 27. Which actors most often star in the same movie together?\n"
   ]
  },
  {
   "cell_type": "code",
   "execution_count": 34,
   "metadata": {},
   "outputs": [
    {
     "data": {
      "text/plain": [
       "['Emma Watson & Rupert Grint',\n",
       " 'Daniel Radcliffe & Emma Watson',\n",
       " 'Daniel Radcliffe & Rupert Grint']"
      ]
     },
     "execution_count": 34,
     "metadata": {},
     "output_type": "execute_result"
    }
   ],
   "source": [
    "df = data_cast.merge(data_cast, on='imdb_id', how='outer')\n",
    "df = df[df.cast_split_x != df.cast_split_y]\n",
    "df['pair'] = df.apply(lambda x: min(x.cast_split_x,x.cast_split_y) + ' & ' + max(x.cast_split_x,x.cast_split_y), axis=1)\n",
    "groupped = pd.DataFrame(df.groupby(['pair']).pair.count().sort_values(ascending=False))\n",
    "answers['27'] = groupped[groupped.pair == groupped.pair.max()].pair.index.tolist()\n",
    "answers['27']"
   ]
  },
  {
   "cell_type": "markdown",
   "metadata": {
    "colab_type": "text",
    "id": "U0nONFnGVqAX"
   },
   "source": [
    "# Submission"
   ]
  },
  {
   "cell_type": "code",
   "execution_count": 35,
   "metadata": {
    "colab": {},
    "colab_type": "code",
    "id": "IfcaRO9-VqAX",
    "outputId": "0f132912-32bb-4196-c98c-abfbc4ad5a5f"
   },
   "outputs": [
    {
     "data": {
      "text/plain": [
       "{'1': 'Pirates of the Caribbean: On Stranger Tides (tt1298650)',\n",
       " '2': 'Gods and Generals (tt0279111)',\n",
       " '3': 'Winnie the Pooh (tt1449283)',\n",
       " '4': 110,\n",
       " '5': 107,\n",
       " '6': 'Avatar (tt0499549)',\n",
       " '7': 'The Lone Ranger (tt1210819)',\n",
       " '8': 1478,\n",
       " '9': 'The Dark Knight (tt0468569)',\n",
       " '10': 'The Lone Ranger (tt1210819)',\n",
       " '11': 'Drama',\n",
       " '12': 'Drama',\n",
       " '13': 'Peter Jackson',\n",
       " '14': 'Robert Rodriguez',\n",
       " '15': 'Chris Hemsworth',\n",
       " '16': 'Matt Damon',\n",
       " '17': 'Action',\n",
       " '18': 'K-19: The Widowmaker (tt0267626)',\n",
       " '19': 2015,\n",
       " '20': 2014,\n",
       " '21': 'September',\n",
       " '22': 450,\n",
       " '23': 'Peter Jackson',\n",
       " '24': 'Four By Two Productions',\n",
       " '25': 'Midnight Picture Show',\n",
       " '26': ['Inside Out',\n",
       "  'Room',\n",
       "  'Interstellar',\n",
       "  'The Imitation Game',\n",
       "  'The Dark Knight'],\n",
       " '27': ['Emma Watson & Rupert Grint',\n",
       "  'Daniel Radcliffe & Emma Watson',\n",
       "  'Daniel Radcliffe & Rupert Grint']}"
      ]
     },
     "execution_count": 35,
     "metadata": {},
     "output_type": "execute_result"
    }
   ],
   "source": [
    "# See all the answers to the questions\n",
    "answers"
   ]
  }
 ],
 "metadata": {
  "colab": {
   "name": "Copy of [SF-DST] Movies IMBD v4.1 TEMPLATE.ipynb",
   "provenance": []
  },
  "kernelspec": {
   "display_name": "Python 3 (ipykernel)",
   "language": "python",
   "name": "python3"
  },
  "language_info": {
   "codemirror_mode": {
    "name": "ipython",
    "version": 3
   },
   "file_extension": ".py",
   "mimetype": "text/x-python",
   "name": "python",
   "nbconvert_exporter": "python",
   "pygments_lexer": "ipython3",
   "version": "3.9.7"
  }
 },
 "nbformat": 4,
 "nbformat_minor": 1
}
